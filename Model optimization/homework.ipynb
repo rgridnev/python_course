{
 "cells": [
  {
   "cell_type": "code",
   "execution_count": 11,
   "metadata": {},
   "outputs": [],
   "source": [
    "import pandas as pd\n",
    "import numpy as np\n",
    "from sklearn.model_selection import train_test_split\n",
    "from sklearn import metrics"
   ]
  },
  {
   "cell_type": "code",
   "execution_count": 10,
   "metadata": {},
   "outputs": [],
   "source": [
    "from sklearn.datasets import load_boston\n",
    "\n",
    "X, y = load_boston(return_X_y = True)\n",
    "X_train, X_test, y_train, y_test = train_test_split(X , y, test_size = 0.2)"
   ]
  },
  {
   "cell_type": "code",
   "execution_count": 31,
   "metadata": {},
   "outputs": [
    {
     "data": {
      "text/plain": [
       "[<matplotlib.lines.Line2D at 0x20985e266a0>]"
      ]
     },
     "execution_count": 31,
     "metadata": {},
     "output_type": "execute_result"
    },
    {
     "data": {
      "image/png": "[encoded data removed]",
      "text/plain": [
       "<Figure size 1080x360 with 1 Axes>"
      ]
     },
     "metadata": {
      "needs_background": "light"
     },
     "output_type": "display_data"
    }
   ],
   "source": [
    "# поищем максимальную глубину дерева решений\n",
    "\n",
    "from sklearn.tree import DecisionTreeRegressor\n",
    "from sklearn.model_selection import cross_val_score\n",
    "\n",
    "import matplotlib.pyplot as plt\n",
    "from pylab import rcParams \n",
    "rcParams['figure.figsize'] = 15, 5 \n",
    "\n",
    "m = []\n",
    "n = []\n",
    "\n",
    "for i in range(50):\n",
    "    m.append(i+1)\n",
    "    n.append(cross_val_score(DecisionTreeRegressor(max_depth = i+1), X, y, cv=3).mean())\n",
    "    \n",
    "plt.plot(m,n)"
   ]
  },
  {
   "cell_type": "code",
   "execution_count": 22,
   "metadata": {},
   "outputs": [
    {
     "name": "stdout",
     "output_type": "stream",
     "text": [
      "RandomForestRegressor {'max_features': 6, 'max_depth': 23} 0.8468561828496457\n",
      "DecisionTreeRegressor {'max_features': 8, 'max_depth': 8} 0.7633880528897168\n",
      "Wall time: 25.9 s\n"
     ]
    }
   ],
   "source": [
    "%%time\n",
    "# попробуем подобрать лучшие параметры для разных регрессоров\n",
    "from sklearn.model_selection import RandomizedSearchCV\n",
    "\n",
    "import warnings\n",
    "warnings.filterwarnings('ignore')\n",
    "\n",
    "from sklearn.ensemble import RandomForestRegressor\n",
    "\n",
    "rf = RandomForestRegressor()\n",
    "dt = DecisionTreeRegressor()\n",
    "\n",
    "treeparams = {\"max_features\": list(range(1,30)),\n",
    "              \"max_depth\": list(range(1,30))}\n",
    "\n",
    "lrparams = {\"max_features\": list(range(1,30)),\n",
    "              \"max_depth\": list(range(1,30))}\n",
    "\n",
    "clfrf = RandomizedSearchCV(rf, treeparams, random_state=0, n_iter=30)\n",
    "clfdt = RandomizedSearchCV(dt, treeparams, random_state=0, n_iter=30)\n",
    "search = clfrf.fit(X_train, y_train)\n",
    "print('RandomForestRegressor', search.best_params_, search.best_score_)\n",
    "search = clfdt.fit(X_train, y_train)\n",
    "print('DecisionTreeRegressor', search.best_params_, search.best_score_)"
   ]
  },
  {
   "cell_type": "code",
   "execution_count": 25,
   "metadata": {},
   "outputs": [],
   "source": [
    "from hyperopt import hp, fmin, tpe, Trials, STATUS_OK"
   ]
  },
  {
   "cell_type": "code",
   "execution_count": 26,
   "metadata": {},
   "outputs": [],
   "source": [
    "search_space = [\n",
    "    hp.choice(label='max_features', options=list(range(1,30))),\n",
    "    hp.choice(label='max_depth', options=list(range(1,30))),\n",
    "    hp.choice(label='min_samples_leaf', options=list(range(1,30))),           \n",
    "]"
   ]
  },
  {
   "cell_type": "code",
   "execution_count": 29,
   "metadata": {},
   "outputs": [
    {
     "name": "stdout",
     "output_type": "stream",
     "text": [
      "(12, 11, 21)\n",
      "(15, 15, 9)\n",
      "(2, 10, 28)\n",
      "(18, 11, 16)\n",
      "(3, 20, 27)\n",
      "(22, 15, 10)\n",
      "(2, 14, 4)\n",
      "(3, 9, 25)\n",
      "(18, 16, 4)\n",
      "(19, 25, 1)\n"
     ]
    }
   ],
   "source": [
    "from hyperopt.pyll.stochastic import sample\n",
    "\n",
    "\n",
    "samples = []\n",
    "\n",
    "# Sample 10000 values from the range\n",
    "for _ in range(10):\n",
    "    print(sample(search_space))"
   ]
  },
  {
   "cell_type": "code",
   "execution_count": 32,
   "metadata": {},
   "outputs": [],
   "source": [
    "def objective(params):\n",
    "  rf = RandomForestRegressor(max_features=params[0], max_depth=params[1], min_samples_leaf=params[2])\n",
    "  scores = cross_val_score(rf, X, y, cv=10)\n",
    "  return -scores.mean()"
   ]
  },
  {
   "cell_type": "code",
   "execution_count": 33,
   "metadata": {},
   "outputs": [],
   "source": [
    "from hyperopt import rand, tpe\n",
    "\n",
    "# Create the algorithms\n",
    "tpe_algo = tpe.suggest\n",
    "rand_algo = rand.suggest"
   ]
  },
  {
   "cell_type": "code",
   "execution_count": 34,
   "metadata": {},
   "outputs": [],
   "source": [
    "from hyperopt import Trials\n",
    "\n",
    "# Create two trials objects\n",
    "tpe_trials = Trials()\n",
    "rand_trials = Trials()"
   ]
  },
  {
   "cell_type": "code",
   "execution_count": 35,
   "metadata": {},
   "outputs": [
    {
     "name": "stdout",
     "output_type": "stream",
     "text": [
      "100%|███████████████████████████████████████████████| 25/25 [00:30<00:00,  1.20s/trial, best loss: -0.5629293538834178]\n",
      "{'max_depth': 16, 'max_features': 7, 'min_samples_leaf': 2}\n"
     ]
    }
   ],
   "source": [
    "from hyperopt import fmin\n",
    "\n",
    "# Run 2000 evals with the tpe algorithm\n",
    "tpe_best = fmin(fn=objective, space=search_space, algo=tpe_algo, trials=tpe_trials, \n",
    "                max_evals=25)\n",
    "\n",
    "print(tpe_best)"
   ]
  },
  {
   "cell_type": "code",
   "execution_count": 36,
   "metadata": {},
   "outputs": [
    {
     "name": "stdout",
     "output_type": "stream",
     "text": [
      "100%|███████████████████████████████████████████████| 25/25 [00:26<00:00,  1.07s/trial, best loss: -0.5168419128263932]\n",
      "{'max_depth': 26, 'max_features': 4, 'min_samples_leaf': 9}\n"
     ]
    }
   ],
   "source": [
    "# Run 2000 evals with the random algorithm\n",
    "rand_best = fmin(fn=objective, space=search_space, algo=rand_algo, trials=rand_trials, \n",
    "                 max_evals=25, rstate= np.random.RandomState(50))\n",
    "\n",
    "print(rand_best)"
   ]
  }
 ],
 "metadata": {
  "kernelspec": {
   "display_name": "Python 3",
   "language": "python",
   "name": "python3"
  },
  "language_info": {
   "codemirror_mode": {
    "name": "ipython",
    "version": 3
   },
   "file_extension": ".py",
   "mimetype": "text/x-python",
   "name": "python",
   "nbconvert_exporter": "python",
   "pygments_lexer": "ipython3",
   "version": "3.8.3"
  }
 },
 "nbformat": 4,
 "nbformat_minor": 4
}
