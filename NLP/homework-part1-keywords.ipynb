{
 "cells": [
  {
   "cell_type": "markdown",
   "metadata": {
    "slideshow": {
     "slide_type": "slide"
    }
   },
   "source": [
    "# Домашняя работа п.1.6 ключевые слова и биграммы"
   ]
  },
  {
   "cell_type": "code",
   "execution_count": 61,
   "metadata": {},
   "outputs": [],
   "source": [
    "import warnings\n",
    "warnings.filterwarnings('ignore')"
   ]
  },
  {
   "cell_type": "code",
   "execution_count": 2,
   "metadata": {},
   "outputs": [],
   "source": [
    "import pandas as pd"
   ]
  },
  {
   "cell_type": "code",
   "execution_count": 5,
   "metadata": {},
   "outputs": [
    {
     "data": {
      "text/html": [
       "<div>\n",
       "<style scoped>\n",
       "    .dataframe tbody tr th:only-of-type {\n",
       "        vertical-align: middle;\n",
       "    }\n",
       "\n",
       "    .dataframe tbody tr th {\n",
       "        vertical-align: top;\n",
       "    }\n",
       "\n",
       "    .dataframe thead th {\n",
       "        text-align: right;\n",
       "    }\n",
       "</style>\n",
       "<table border=\"1\" class=\"dataframe\">\n",
       "  <thead>\n",
       "    <tr style=\"text-align: right;\">\n",
       "      <th></th>\n",
       "      <th>text</th>\n",
       "      <th>rating_grade</th>\n",
       "    </tr>\n",
       "  </thead>\n",
       "  <tbody>\n",
       "    <tr>\n",
       "      <th>19</th>\n",
       "      <td>открыт вклад и счет в плюс к этому есть зарпла...</td>\n",
       "      <td>1.0</td>\n",
       "    </tr>\n",
       "    <tr>\n",
       "      <th>33</th>\n",
       "      <td>доброго времени вчера мне поступило смс уведом...</td>\n",
       "      <td>1.0</td>\n",
       "    </tr>\n",
       "    <tr>\n",
       "      <th>76</th>\n",
       "      <td>г около часов пришел в указанный офис с намере...</td>\n",
       "      <td>1.0</td>\n",
       "    </tr>\n",
       "    <tr>\n",
       "      <th>85</th>\n",
       "      <td>для оплаты коммунальных платежей пользуюсь пла...</td>\n",
       "      <td>1.0</td>\n",
       "    </tr>\n",
       "    <tr>\n",
       "      <th>94</th>\n",
       "      <td>в апреле этого года пришла в отделение сбербан...</td>\n",
       "      <td>1.0</td>\n",
       "    </tr>\n",
       "  </tbody>\n",
       "</table>\n",
       "</div>"
      ],
      "text/plain": [
       "                                                 text  rating_grade\n",
       "19  открыт вклад и счет в плюс к этому есть зарпла...           1.0\n",
       "33  доброго времени вчера мне поступило смс уведом...           1.0\n",
       "76  г около часов пришел в указанный офис с намере...           1.0\n",
       "85  для оплаты коммунальных платежей пользуюсь пла...           1.0\n",
       "94  в апреле этого года пришла в отделение сбербан...           1.0"
      ]
     },
     "execution_count": 5,
     "metadata": {},
     "output_type": "execute_result"
    }
   ],
   "source": [
    "df = pd.read_csv('data.csv', usecols = ['text', 'rating_grade'])\n",
    "df = df.loc[df['rating_grade'].isin([1,5])]\n",
    "df.head()"
   ]
  },
  {
   "cell_type": "code",
   "execution_count": 6,
   "metadata": {},
   "outputs": [
    {
     "data": {
      "text/plain": [
       "1.0    47387\n",
       "5.0    14713\n",
       "Name: rating_grade, dtype: int64"
      ]
     },
     "execution_count": 6,
     "metadata": {},
     "output_type": "execute_result"
    }
   ],
   "source": [
    "df['rating_grade'].value_counts()"
   ]
  },
  {
   "cell_type": "markdown",
   "metadata": {},
   "source": [
    "### Предобработка"
   ]
  },
  {
   "cell_type": "markdown",
   "metadata": {},
   "source": [
    "#### Оставляем только слова:"
   ]
  },
  {
   "cell_type": "code",
   "execution_count": 29,
   "metadata": {},
   "outputs": [],
   "source": [
    "import re\n",
    "regex = re.compile(\"[А-Яа-я]+\")\n",
    "# датасет сократил для уменьшения времени лемматизации до приемлемого\n",
    "sample = df[df['rating_grade'] == 1].head(100)"
   ]
  },
  {
   "cell_type": "code",
   "execution_count": 30,
   "metadata": {},
   "outputs": [],
   "source": [
    "def words_only(text, regex=regex):\n",
    "    return \" \".join(regex.findall(str(text)))\n",
    "\n",
    "\n",
    "sample.text = sample.text.str.lower()\n",
    "sample.text = sample.text.apply(words_only)"
   ]
  },
  {
   "cell_type": "code",
   "execution_count": 31,
   "metadata": {},
   "outputs": [
    {
     "data": {
      "text/plain": [
       "'открыт вклад и счет в плюс к этому есть зарплатная карта в рублях само собой сегодня пришел в указанное отделение с целью пополнить долларовый сч т на дал операционисту паспорт зарплатную карту т к на окошке написано приготовьте карту для подтверждения операции или что то подобное и в прошлый раз у меня ее потребовали и сказал что нужно положить деньги на долларовый счет операционист вс взяла что то делала крутила вертела вставила карту в терминал сказала введите пин я вв л пин получил в ответ чек где было написано что доллары были внесены на сч т карты в рублях вопрос банку риторический я не понимаю кем нужно быть чтобы сознательно проводить такие операции за углом меньше чем через квартал курс при ма валюты выше почти на рубль если я действительно хотел совершить такую хитрую операцию мне было выгоднее сделать шагов и заработать на этом около рублей после чего просто внести рубли на сч т карты в банкомате далее после долгих около двух часов выяснений отношений с операционистом и видимо ее начальником их попыток отменить первую транзакцию и т д и т п мы сошлись на том что мне компенсируют курсовую разницу между зачислением долларов на рубл вую карту руб доллар со слов операциониста и курсом покупки валюты руб доллар я куплю за наличные те же долларов и положу их на долларовый сч т также я попросил указать на чеке курс по которому прошла первая транзакция доллары на рубл вый сч т и поставить печать доллары поступили на сч т через часа и по курсу тадааам комиссия банка или что это было опять же операционист не знает о комиссиях или курсах проведения операции вывод в итоге я потерял часа времени нервы и фиг уж с ними рубля вывод другим клиентам требуйте распечатки тех операций которые собирается провести операционист до их проведения если бы не было высокотехнологичного подтверждения операции ом а была обычная плат жка всего этого можно было бы избежать вопрос банку риторический сбер когда вы будете брать на работу компетентных сотрудников которые способны думать или хотя бы слушать что их просят сделать'"
      ]
     },
     "execution_count": 31,
     "metadata": {},
     "output_type": "execute_result"
    }
   ],
   "source": [
    "sample.text.iloc[0]"
   ]
  },
  {
   "cell_type": "markdown",
   "metadata": {},
   "source": [
    "#### Убираем стоп-слова:"
   ]
  },
  {
   "cell_type": "code",
   "execution_count": 32,
   "metadata": {},
   "outputs": [
    {
     "name": "stdout",
     "output_type": "stream",
     "text": [
      "['и', 'в', 'во', 'не', 'что', 'он', 'на', 'я', 'с', 'со', 'как', 'а', 'то', 'все', 'она', 'так', 'его', 'но', 'да', 'ты', 'к', 'у', 'же', 'вы', 'за', 'бы', 'по', 'только', 'ее', 'мне', 'было', 'вот', 'от', 'меня', 'еще', 'нет', 'о', 'из', 'ему', 'теперь', 'когда', 'даже', 'ну', 'вдруг', 'ли', 'если', 'уже', 'или', 'ни', 'быть', 'был', 'него', 'до', 'вас', 'нибудь', 'опять', 'уж', 'вам', 'ведь', 'там', 'потом', 'себя', 'ничего', 'ей', 'может', 'они', 'тут', 'где', 'есть', 'надо', 'ней', 'для', 'мы', 'тебя', 'их', 'чем', 'была', 'сам', 'чтоб', 'без', 'будто', 'чего', 'раз', 'тоже', 'себе', 'под', 'будет', 'ж', 'тогда', 'кто', 'этот', 'того', 'потому', 'этого', 'какой', 'совсем', 'ним', 'здесь', 'этом', 'один', 'почти', 'мой', 'тем', 'чтобы', 'нее', 'сейчас', 'были', 'куда', 'зачем', 'всех', 'никогда', 'можно', 'при', 'наконец', 'два', 'об', 'другой', 'хоть', 'после', 'над', 'больше', 'тот', 'через', 'эти', 'нас', 'про', 'всего', 'них', 'какая', 'много', 'разве', 'три', 'эту', 'моя', 'впрочем', 'хорошо', 'свою', 'этой', 'перед', 'иногда', 'лучше', 'чуть', 'том', 'нельзя', 'такой', 'им', 'более', 'всегда', 'конечно', 'всю', 'между', 'это', 'наш', 'тыс', 'млн', 'млрд', 'также', 'т', 'д']\n"
     ]
    }
   ],
   "source": [
    "from nltk.corpus import stopwords\n",
    "mystopwords = stopwords.words('russian') + ['это', 'наш' , 'тыс', 'млн', 'млрд', 'также',  'т', 'д']\n",
    "\n",
    "print(mystopwords)"
   ]
  },
  {
   "cell_type": "code",
   "execution_count": 33,
   "metadata": {},
   "outputs": [],
   "source": [
    "def remove_stopwords(text, mystopwords = mystopwords):\n",
    "    try:\n",
    "        return \" \".join([token for token in text.split() if not token in mystopwords])\n",
    "    except:\n",
    "        return \"\"\n",
    "sample.text = sample.text.apply(remove_stopwords)   "
   ]
  },
  {
   "cell_type": "code",
   "execution_count": 34,
   "metadata": {},
   "outputs": [
    {
     "data": {
      "text/plain": [
       "'открыт вклад счет плюс этому зарплатная карта рублях само собой сегодня пришел указанное отделение ц'"
      ]
     },
     "execution_count": 34,
     "metadata": {},
     "output_type": "execute_result"
    }
   ],
   "source": [
    "sample.text.iloc[0][:100]"
   ]
  },
  {
   "cell_type": "markdown",
   "metadata": {},
   "source": [
    "#### Лемматизируем"
   ]
  },
  {
   "cell_type": "code",
   "execution_count": 25,
   "metadata": {},
   "outputs": [],
   "source": [
    "from pymystem3 import Mystem\n",
    "m = Mystem()"
   ]
  },
  {
   "cell_type": "code",
   "execution_count": 26,
   "metadata": {},
   "outputs": [],
   "source": [
    "m = Mystem()\n",
    "def lemmatize(text, mystem=m):\n",
    "    try:\n",
    "        return \"\".join(m.lemmatize(text)).strip()  \n",
    "    except:\n",
    "        return \" \""
   ]
  },
  {
   "cell_type": "code",
   "execution_count": 35,
   "metadata": {},
   "outputs": [
    {
     "name": "stdout",
     "output_type": "stream",
     "text": [
      "Wall time: 1min 21s\n"
     ]
    }
   ],
   "source": [
    "%%time\n",
    "sample.text = sample.text.apply(lemmatize)"
   ]
  },
  {
   "cell_type": "code",
   "execution_count": 36,
   "metadata": {},
   "outputs": [
    {
     "data": {
      "text/plain": [
       "'открывать вклад счет плюс этот зарплатный карта рубль сам себя сегодня приходить указанный отделение'"
      ]
     },
     "execution_count": 36,
     "metadata": {},
     "output_type": "execute_result"
    }
   ],
   "source": [
    "sample.text.iloc[0][:100]"
   ]
  },
  {
   "cell_type": "markdown",
   "metadata": {
    "slideshow": {
     "slide_type": "slide"
    }
   },
   "source": [
    "#### Удаление стоп-лемм"
   ]
  },
  {
   "cell_type": "code",
   "execution_count": 37,
   "metadata": {
    "slideshow": {
     "slide_type": "subslide"
    }
   },
   "outputs": [],
   "source": [
    "mystoplemmas = ['который', 'прошлый', 'сей', 'свой', 'наш', 'мочь', 'год']\n",
    "def  remove_stoplemmas(text, mystoplemmas = mystoplemmas):\n",
    "    try:\n",
    "        return \" \".join([token for token in text.split() if not token in mystoplemmas])\n",
    "    except:\n",
    "        return \"\"\n",
    "\n",
    "sample.text = sample.text.apply(remove_stoplemmas)   "
   ]
  },
  {
   "cell_type": "markdown",
   "metadata": {},
   "source": [
    "### Частотный словарь и облако слов"
   ]
  },
  {
   "cell_type": "code",
   "execution_count": 40,
   "metadata": {},
   "outputs": [],
   "source": [
    "from collections import Counter\n",
    "from wordcloud import WordCloud\n",
    "import matplotlib.pyplot as plt"
   ]
  },
  {
   "cell_type": "code",
   "execution_count": 41,
   "metadata": {},
   "outputs": [],
   "source": [
    "lemmata = [lemma for text in sample.text for lemma in text.split()]"
   ]
  },
  {
   "cell_type": "code",
   "execution_count": 42,
   "metadata": {},
   "outputs": [],
   "source": [
    "cnt = Counter(lemmata)"
   ]
  },
  {
   "cell_type": "code",
   "execution_count": 43,
   "metadata": {},
   "outputs": [
    {
     "name": "stdout",
     "output_type": "stream",
     "text": [
      "('банк', 442)\n",
      "('карта', 275)\n",
      "('отделение', 154)\n",
      "('сотрудник', 135)\n",
      "('деньги', 127)\n",
      "('мой', 116)\n",
      "('день', 114)\n",
      "('клиент', 97)\n",
      "('заявление', 90)\n",
      "('вклад', 85)\n"
     ]
    }
   ],
   "source": [
    "for i in cnt.most_common(10):\n",
    "    print(i)"
   ]
  },
  {
   "cell_type": "code",
   "execution_count": 44,
   "metadata": {},
   "outputs": [
    {
     "data": {
      "image/png": "[encoded data removed]",
      "text/plain": [
       "<Figure size 432x288 with 1 Axes>"
      ]
     },
     "metadata": {
      "needs_background": "light"
     },
     "output_type": "display_data"
    }
   ],
   "source": [
    "word_freq = [i for i in cnt.most_common(100)]\n",
    "wd = WordCloud(background_color = 'white')\n",
    "wd.generate_from_frequencies(dict(word_freq))\n",
    "plt.figure()\n",
    "plt.imshow(wd, interpolation = 'bilinear')\n",
    "plt.axis('off')\n",
    "plt.show()"
   ]
  },
  {
   "cell_type": "markdown",
   "metadata": {},
   "source": [
    "## Извлечение ключевых словосочетаний \n",
    "\n",
    "\n",
    "Ключевые слова и словосочетания сложно определить формально. Поскольку определений ключевых слов и словосочетаний множество, существует масса методов их извлечения:\n",
    "* с учителем VS без учителя\n",
    "* по частотам VS посложнее\n",
    "* из одного текста VS из коллекции текстов\n",
    "* слова (униграммы) VS биграммы VS $N$-граммы\n",
    "* термины VS именованные сущности VS коллокации\n",
    "* последовательные слова VS с использованием окна"
   ]
  },
  {
   "cell_type": "markdown",
   "metadata": {},
   "source": [
    "### Основные этапы извлечения ключевых слов и словосочетаний:\n",
    "1. Порождение кандидатов\n",
    "2. Оценка свойст кандидатов\n",
    "3. Выбор лучших кандидатов\n",
    "\n",
    "### Основные методы извлечения ключевых слов и словосочетаний:\n",
    "* Морфологические шаблоны\n",
    "* Меры ассоциации биграмм: PMI, T-Score, LLR\n",
    "* Графовые методы: TextRank [Mihalcea, Tarau, 2004]\n",
    "* Синтаксические шаблоны\n"
   ]
  },
  {
   "cell_type": "markdown",
   "metadata": {},
   "source": [
    "### Морфологические шаблоны\n",
    "\n",
    "Можно использовать парсер  Yargy. \n",
    "\n",
    "Простейший шаблон ПРИЛ + СУЩ\n",
    "\n",
    "```\n",
    "S -> Adj<gnc-agr[1]> Noun<rt,gnc-agr[1]>; \n",
    "```"
   ]
  },
  {
   "cell_type": "markdown",
   "metadata": {},
   "source": [
    "### Использование мер связности \n",
    "\n",
    "\n",
    "$w_1, w_2$ − два слова\n",
    "\n",
    "$f(w_1), f(w_2)$ − их частоты\n",
    "\n",
    "$f(w_1, w_2)$ − совместная частота биграммы $w_1 w_2$\n",
    "\n",
    "$N$ − число слов\n",
    "\n",
    "$PMI(w_1, w_2) = \\log \\frac{f(w_1, w_2)}{f(w_1)f(w_2)}$\n",
    "\n",
    "$T-score(w_1, w_2) = \\frac{f(w_1,w_2)-f(w_1)*f(w_2)}{f(w_1,w_2)/N}$\n",
    "\n",
    "Другие меры связности: $\\chi^2$"
   ]
  },
  {
   "cell_type": "markdown",
   "metadata": {},
   "source": [
    "![chi-square](chi-square-formula.jpg)"
   ]
  },
  {
   "cell_type": "markdown",
   "metadata": {},
   "source": [
    "### На практике"
   ]
  },
  {
   "cell_type": "markdown",
   "metadata": {
    "slideshow": {
     "slide_type": "subslide"
    }
   },
   "source": [
    "Получаем из датафрейма списки по разных топиков:"
   ]
  },
  {
   "cell_type": "code",
   "execution_count": 47,
   "metadata": {
    "slideshow": {
     "slide_type": "subslide"
    }
   },
   "outputs": [],
   "source": [
    "def get_topic_to_tokens(df):\n",
    "    tokens_by_rating = {}\n",
    "    for rating in set(df['rating_grade']):\n",
    "        # берём по сто случайных текстов из каждой темы\n",
    "        sample = df[df['rating_grade']==rating].sample(n=100)\n",
    "            \n",
    "        # предобрабатываем\n",
    "        sample.text = sample.text.str.lower()\n",
    "        sample.text = sample.text.apply(words_only)\n",
    "        sample.text = sample.text.apply(remove_stopwords) \n",
    "        sample.text = sample.text.apply(lemmatize)\n",
    "        sample.text = sample.text.apply(remove_stoplemmas) \n",
    "\n",
    "        tokens_by_rating[rating] = [tok for text in sample.text for tok in text.split()]\n",
    "            \n",
    "    return tokens_by_rating"
   ]
  },
  {
   "cell_type": "code",
   "execution_count": 48,
   "metadata": {},
   "outputs": [],
   "source": [
    "tokens_by_rating = get_topic_to_tokens(df)"
   ]
  },
  {
   "cell_type": "code",
   "execution_count": 50,
   "metadata": {},
   "outputs": [
    {
     "data": {
      "text/plain": [
       "dict_keys([1.0, 5.0])"
      ]
     },
     "execution_count": 50,
     "metadata": {},
     "output_type": "execute_result"
    }
   ],
   "source": [
    "tokens_by_rating.keys()"
   ]
  },
  {
   "cell_type": "markdown",
   "metadata": {
    "slideshow": {
     "slide_type": "subslide"
    }
   },
   "source": [
    "Выберем тему, из текстов про которую будем извлекать ключевые слова:"
   ]
  },
  {
   "cell_type": "code",
   "execution_count": 51,
   "metadata": {
    "slideshow": {
     "slide_type": "subslide"
    }
   },
   "outputs": [],
   "source": [
    "topic_texts = tokens_by_rating[1]"
   ]
  },
  {
   "cell_type": "code",
   "execution_count": 52,
   "metadata": {},
   "outputs": [
    {
     "data": {
      "text/plain": [
       "['декабрь',\n",
       " 'нужно',\n",
       " 'срочно',\n",
       " 'полагать',\n",
       " 'деньги',\n",
       " 'яндекс',\n",
       " 'кошелек',\n",
       " 'рука',\n",
       " 'оказываться',\n",
       " 'терминал']"
      ]
     },
     "execution_count": 52,
     "metadata": {},
     "output_type": "execute_result"
    }
   ],
   "source": [
    "topic_texts[:10]"
   ]
  },
  {
   "cell_type": "markdown",
   "metadata": {
    "slideshow": {
     "slide_type": "subslide"
    }
   },
   "source": [
    "Извлекаем биграммы по разным мерам связности:"
   ]
  },
  {
   "cell_type": "code",
   "execution_count": 53,
   "metadata": {},
   "outputs": [],
   "source": [
    "import nltk\n",
    "from nltk.collocations import *"
   ]
  },
  {
   "cell_type": "code",
   "execution_count": 54,
   "metadata": {},
   "outputs": [],
   "source": [
    "bigram_measures = nltk.collocations.BigramAssocMeasures() # класс для мер ассоциации биграм\n",
    "finder = BigramCollocationFinder.from_words(topic_texts) # класс для хранения и извлечения биграм"
   ]
  },
  {
   "cell_type": "code",
   "execution_count": 55,
   "metadata": {},
   "outputs": [],
   "source": [
    "N_best = 100 # число извлекаемых биграм"
   ]
  },
  {
   "cell_type": "code",
   "execution_count": 56,
   "metadata": {
    "slideshow": {
     "slide_type": "subslide"
    }
   },
   "outputs": [
    {
     "name": "stdout",
     "output_type": "stream",
     "text": [
      "Wall time: 8.58 ms\n"
     ]
    }
   ],
   "source": [
    "%%time \n",
    "finder.apply_freq_filter(3) # избавимся от биграм, которые встречаются реже трех раз\n",
    "\n",
    "# выбираем топ-100 биграм по каждой мере\n",
    "raw_freq_ranking = [' '.join(i) for i in finder.nbest(bigram_measures.raw_freq, N_best)]\n",
    "tscore_ranking = [' '.join(i) for i in finder.nbest(bigram_measures.student_t, N_best)]\n",
    "pmi_ranking =  [' '.join(i) for i in finder.nbest(bigram_measures.pmi, N_best)]\n",
    "chi2_ranking =  [' '.join(i) for i in finder.nbest(bigram_measures.chi_sq, N_best)]"
   ]
  },
  {
   "cell_type": "markdown",
   "metadata": {
    "slideshow": {
     "slide_type": "subslide"
    }
   },
   "source": [
    "Результаты:"
   ]
  },
  {
   "cell_type": "code",
   "execution_count": 57,
   "metadata": {
    "slideshow": {
     "slide_type": "subslide"
    }
   },
   "outputs": [
    {
     "data": {
      "text/html": [
       "<div>\n",
       "<style scoped>\n",
       "    .dataframe tbody tr th:only-of-type {\n",
       "        vertical-align: middle;\n",
       "    }\n",
       "\n",
       "    .dataframe tbody tr th {\n",
       "        vertical-align: top;\n",
       "    }\n",
       "\n",
       "    .dataframe thead th {\n",
       "        text-align: right;\n",
       "    }\n",
       "</style>\n",
       "<table border=\"1\" class=\"dataframe\">\n",
       "  <thead>\n",
       "    <tr style=\"text-align: right;\">\n",
       "      <th></th>\n",
       "      <th>raw_freq</th>\n",
       "      <th>pmi</th>\n",
       "      <th>t-score</th>\n",
       "      <th>chi2</th>\n",
       "    </tr>\n",
       "  </thead>\n",
       "  <tbody>\n",
       "    <tr>\n",
       "      <th>0</th>\n",
       "      <td>кредитный карта</td>\n",
       "      <td>моральный вред</td>\n",
       "      <td>кредитный карта</td>\n",
       "      <td>санкт петербург</td>\n",
       "    </tr>\n",
       "    <tr>\n",
       "      <th>1</th>\n",
       "      <td>написать заявление</td>\n",
       "      <td>больничный лист</td>\n",
       "      <td>написать заявление</td>\n",
       "      <td>великий новгород</td>\n",
       "    </tr>\n",
       "    <tr>\n",
       "      <th>2</th>\n",
       "      <td>кредитный история</td>\n",
       "      <td>московский область</td>\n",
       "      <td>кредитный история</td>\n",
       "      <td>пин код</td>\n",
       "    </tr>\n",
       "    <tr>\n",
       "      <th>3</th>\n",
       "      <td>пин код</td>\n",
       "      <td>страховой компания</td>\n",
       "      <td>пин код</td>\n",
       "      <td>моральный вред</td>\n",
       "    </tr>\n",
       "    <tr>\n",
       "      <th>4</th>\n",
       "      <td>рабочий день</td>\n",
       "      <td>бла бла</td>\n",
       "      <td>рабочий день</td>\n",
       "      <td>страховой компания</td>\n",
       "    </tr>\n",
       "    <tr>\n",
       "      <th>5</th>\n",
       "      <td>сотрудник банк</td>\n",
       "      <td>пош л</td>\n",
       "      <td>денежный средство</td>\n",
       "      <td>колл центр</td>\n",
       "    </tr>\n",
       "    <tr>\n",
       "      <th>6</th>\n",
       "      <td>денежный средство</td>\n",
       "      <td>приш л</td>\n",
       "      <td>колл центр</td>\n",
       "      <td>процентный ставка</td>\n",
       "    </tr>\n",
       "    <tr>\n",
       "      <th>7</th>\n",
       "      <td>колл центр</td>\n",
       "      <td>пятьдесят тысяча</td>\n",
       "      <td>приходить смс</td>\n",
       "      <td>оао отп</td>\n",
       "    </tr>\n",
       "    <tr>\n",
       "      <th>8</th>\n",
       "      <td>позвонить банк</td>\n",
       "      <td>входить положение</td>\n",
       "      <td>сотрудник банк</td>\n",
       "      <td>денежный средство</td>\n",
       "    </tr>\n",
       "    <tr>\n",
       "      <th>9</th>\n",
       "      <td>приходить смс</td>\n",
       "      <td>процентный ставка</td>\n",
       "      <td>следующий день</td>\n",
       "      <td>пош л</td>\n",
       "    </tr>\n",
       "  </tbody>\n",
       "</table>\n",
       "</div>"
      ],
      "text/plain": [
       "             raw_freq                 pmi             t-score  \\\n",
       "0     кредитный карта      моральный вред     кредитный карта   \n",
       "1  написать заявление     больничный лист  написать заявление   \n",
       "2   кредитный история  московский область   кредитный история   \n",
       "3             пин код  страховой компания             пин код   \n",
       "4        рабочий день             бла бла        рабочий день   \n",
       "5      сотрудник банк               пош л   денежный средство   \n",
       "6   денежный средство              приш л          колл центр   \n",
       "7          колл центр    пятьдесят тысяча       приходить смс   \n",
       "8      позвонить банк   входить положение      сотрудник банк   \n",
       "9       приходить смс   процентный ставка      следующий день   \n",
       "\n",
       "                 chi2  \n",
       "0     санкт петербург  \n",
       "1    великий новгород  \n",
       "2             пин код  \n",
       "3      моральный вред  \n",
       "4  страховой компания  \n",
       "5          колл центр  \n",
       "6   процентный ставка  \n",
       "7             оао отп  \n",
       "8   денежный средство  \n",
       "9               пош л  "
      ]
     },
     "execution_count": 57,
     "metadata": {},
     "output_type": "execute_result"
    }
   ],
   "source": [
    "rankings = pd.DataFrame({\n",
    "    'chi2': chi2_ranking,\n",
    "    't-score' : tscore_ranking,\n",
    "    'pmi': pmi_ranking,\n",
    "    'raw_freq':raw_freq_ranking\n",
    "})\n",
    "rankings = rankings[['raw_freq', 'pmi', 't-score', 'chi2']]\n",
    "rankings.head(10)"
   ]
  },
  {
   "cell_type": "code",
   "execution_count": 60,
   "metadata": {},
   "outputs": [
    {
     "data": {
      "text/html": [
       "<div>\n",
       "<style scoped>\n",
       "    .dataframe tbody tr th:only-of-type {\n",
       "        vertical-align: middle;\n",
       "    }\n",
       "\n",
       "    .dataframe tbody tr th {\n",
       "        vertical-align: top;\n",
       "    }\n",
       "\n",
       "    .dataframe thead th {\n",
       "        text-align: right;\n",
       "    }\n",
       "</style>\n",
       "<table border=\"1\" class=\"dataframe\">\n",
       "  <thead>\n",
       "    <tr style=\"text-align: right;\">\n",
       "      <th></th>\n",
       "      <th>raw_freq</th>\n",
       "      <th>pmi</th>\n",
       "      <th>t-score</th>\n",
       "      <th>chi2</th>\n",
       "    </tr>\n",
       "  </thead>\n",
       "  <tbody>\n",
       "    <tr>\n",
       "      <th>0</th>\n",
       "      <td>следующий день</td>\n",
       "      <td>алина юрьевна</td>\n",
       "      <td>следующий день</td>\n",
       "      <td>алина юрьевна</td>\n",
       "    </tr>\n",
       "    <tr>\n",
       "      <th>1</th>\n",
       "      <td>клиент банк</td>\n",
       "      <td>горячий линия</td>\n",
       "      <td>ипотечный кредит</td>\n",
       "      <td>горячий линия</td>\n",
       "    </tr>\n",
       "    <tr>\n",
       "      <th>2</th>\n",
       "      <td>ипотечный кредит</td>\n",
       "      <td>тарифный план</td>\n",
       "      <td>кредитный карта</td>\n",
       "      <td>первоначальный взнос</td>\n",
       "    </tr>\n",
       "    <tr>\n",
       "      <th>3</th>\n",
       "      <td>кредитный карта</td>\n",
       "      <td>обращать внимание</td>\n",
       "      <td>рабочий день</td>\n",
       "      <td>тарифный план</td>\n",
       "    </tr>\n",
       "    <tr>\n",
       "      <th>4</th>\n",
       "      <td>отделение банк</td>\n",
       "      <td>цик мясницкий</td>\n",
       "      <td>клиент банк</td>\n",
       "      <td>купля продажа</td>\n",
       "    </tr>\n",
       "    <tr>\n",
       "      <th>5</th>\n",
       "      <td>рабочий день</td>\n",
       "      <td>треть купюра</td>\n",
       "      <td>отделение банк</td>\n",
       "      <td>обращать внимание</td>\n",
       "    </tr>\n",
       "    <tr>\n",
       "      <th>6</th>\n",
       "      <td>интернет банк</td>\n",
       "      <td>наталья александровна</td>\n",
       "      <td>какой либо</td>\n",
       "      <td>цик мясницкий</td>\n",
       "    </tr>\n",
       "    <tr>\n",
       "      <th>7</th>\n",
       "      <td>какой либо</td>\n",
       "      <td>право собственность</td>\n",
       "      <td>положительный решение</td>\n",
       "      <td>треть купюра</td>\n",
       "    </tr>\n",
       "    <tr>\n",
       "      <th>8</th>\n",
       "      <td>добрый день</td>\n",
       "      <td>купля продажа</td>\n",
       "      <td>отношение клиент</td>\n",
       "      <td>право собственность</td>\n",
       "    </tr>\n",
       "    <tr>\n",
       "      <th>9</th>\n",
       "      <td>открывать вклад</td>\n",
       "      <td>первоначальный взнос</td>\n",
       "      <td>добрый день</td>\n",
       "      <td>з п</td>\n",
       "    </tr>\n",
       "  </tbody>\n",
       "</table>\n",
       "</div>"
      ],
      "text/plain": [
       "           raw_freq                    pmi                t-score  \\\n",
       "0    следующий день          алина юрьевна         следующий день   \n",
       "1       клиент банк          горячий линия       ипотечный кредит   \n",
       "2  ипотечный кредит          тарифный план        кредитный карта   \n",
       "3   кредитный карта      обращать внимание           рабочий день   \n",
       "4    отделение банк          цик мясницкий            клиент банк   \n",
       "5      рабочий день           треть купюра         отделение банк   \n",
       "6     интернет банк  наталья александровна             какой либо   \n",
       "7        какой либо    право собственность  положительный решение   \n",
       "8       добрый день          купля продажа       отношение клиент   \n",
       "9   открывать вклад   первоначальный взнос            добрый день   \n",
       "\n",
       "                   chi2  \n",
       "0         алина юрьевна  \n",
       "1         горячий линия  \n",
       "2  первоначальный взнос  \n",
       "3         тарифный план  \n",
       "4         купля продажа  \n",
       "5     обращать внимание  \n",
       "6         цик мясницкий  \n",
       "7          треть купюра  \n",
       "8   право собственность  \n",
       "9                   з п  "
      ]
     },
     "execution_count": 60,
     "metadata": {},
     "output_type": "execute_result"
    }
   ],
   "source": [
    "# повторим с пятерками\n",
    "\n",
    "topic_texts = tokens_by_rating[5]\n",
    "finder = BigramCollocationFinder.from_words(topic_texts)\n",
    "\n",
    "finder.apply_freq_filter(3) # избавимся от биграм, которые встречаются реже трех раз\n",
    "\n",
    "# выбираем топ-100 биграм по каждой мере\n",
    "raw_freq_ranking = [' '.join(i) for i in finder.nbest(bigram_measures.raw_freq, N_best)]\n",
    "tscore_ranking = [' '.join(i) for i in finder.nbest(bigram_measures.student_t, N_best)]\n",
    "pmi_ranking =  [' '.join(i) for i in finder.nbest(bigram_measures.pmi, N_best)]\n",
    "chi2_ranking =  [' '.join(i) for i in finder.nbest(bigram_measures.chi_sq, N_best)]\n",
    "\n",
    "rankings = pd.DataFrame({\n",
    "    'chi2': chi2_ranking,\n",
    "    't-score' : tscore_ranking,\n",
    "    'pmi': pmi_ranking,\n",
    "    'raw_freq':raw_freq_ranking\n",
    "})\n",
    "rankings = rankings[['raw_freq', 'pmi', 't-score', 'chi2']]\n",
    "rankings.head(10)"
   ]
  }
 ],
 "metadata": {
  "kernelspec": {
   "display_name": "Python 3",
   "language": "python",
   "name": "python3"
  },
  "language_info": {
   "codemirror_mode": {
    "name": "ipython",
    "version": 3
   },
   "file_extension": ".py",
   "mimetype": "text/x-python",
   "name": "python",
   "nbconvert_exporter": "python",
   "pygments_lexer": "ipython3",
   "version": "3.8.5"
  }
 },
 "nbformat": 4,
 "nbformat_minor": 4
}
