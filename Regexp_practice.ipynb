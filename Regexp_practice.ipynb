{
 "cells": [
  {
   "cell_type": "code",
   "execution_count": 1,
   "metadata": {},
   "outputs": [],
   "source": [
    "import re"
   ]
  },
  {
   "cell_type": "code",
   "execution_count": 174,
   "metadata": {},
   "outputs": [],
   "source": [
    "text = 'Что такое регулярные выражения и как их использовать?\\\n",
    "        Говоря простым языком, регулярное выражение — это последовательность символов,\\\n",
    "        используемая для поиска и замены текста в строке или файле. Как уже было упомянуто,\\\n",
    "        их поддерживает множество языков общего назначения: Python, Perl, R.\\\n",
    "        Так что изучение регулярных выражений рано или поздно пригодится.'"
   ]
  },
  {
   "cell_type": "code",
   "execution_count": 3,
   "metadata": {},
   "outputs": [],
   "source": [
    "pattern = 'регулярн[а-я]+ выражен[а-я]+'"
   ]
  },
  {
   "cell_type": "code",
   "execution_count": 4,
   "metadata": {},
   "outputs": [],
   "source": [
    "# match\n",
    "re.match(pattern, text)"
   ]
  },
  {
   "cell_type": "code",
   "execution_count": 7,
   "metadata": {},
   "outputs": [
    {
     "data": {
      "text/plain": [
       "<re.Match object; span=(0, 3), match='Что'>"
      ]
     },
     "execution_count": 7,
     "metadata": {},
     "output_type": "execute_result"
    }
   ],
   "source": [
    "result = re.match('Что', text)\n",
    "result\n",
    "# print('Нашел' if result else 'Не нашел')"
   ]
  },
  {
   "cell_type": "code",
   "execution_count": 8,
   "metadata": {},
   "outputs": [
    {
     "data": {
      "text/plain": [
       "'Что'"
      ]
     },
     "execution_count": 8,
     "metadata": {},
     "output_type": "execute_result"
    }
   ],
   "source": [
    "result.group()"
   ]
  },
  {
   "cell_type": "code",
   "execution_count": 10,
   "metadata": {},
   "outputs": [
    {
     "data": {
      "text/plain": [
       "0"
      ]
     },
     "execution_count": 10,
     "metadata": {},
     "output_type": "execute_result"
    }
   ],
   "source": [
    "result.start(), result.end()"
   ]
  },
  {
   "cell_type": "code",
   "execution_count": 11,
   "metadata": {},
   "outputs": [
    {
     "data": {
      "text/plain": [
       "<re.Match object; span=(10, 30), match='регулярные выражения'>"
      ]
     },
     "execution_count": 11,
     "metadata": {},
     "output_type": "execute_result"
    }
   ],
   "source": [
    "# search\n",
    "re.search(pattern, text)"
   ]
  },
  {
   "cell_type": "code",
   "execution_count": 12,
   "metadata": {},
   "outputs": [
    {
     "data": {
      "text/plain": [
       "['регулярные выражения', 'регулярное выражение', 'регулярных выражений']"
      ]
     },
     "execution_count": 12,
     "metadata": {},
     "output_type": "execute_result"
    }
   ],
   "source": [
    "# findall\n",
    "re.findall(pattern, text)"
   ]
  },
  {
   "cell_type": "code",
   "execution_count": 13,
   "metadata": {},
   "outputs": [
    {
     "data": {
      "text/plain": [
       "['Что',\n",
       " 'такое',\n",
       " 'регулярные',\n",
       " 'выражения',\n",
       " 'и',\n",
       " 'как',\n",
       " 'их',\n",
       " 'использовать',\n",
       " 'Говоря',\n",
       " 'простым',\n",
       " 'языком',\n",
       " 'регулярное',\n",
       " 'выражение',\n",
       " 'это',\n",
       " 'последовательность',\n",
       " 'символов',\n",
       " 'используемая',\n",
       " 'для',\n",
       " 'поиска',\n",
       " 'и',\n",
       " 'замены',\n",
       " 'текста',\n",
       " 'в',\n",
       " 'строке',\n",
       " 'или',\n",
       " 'файле',\n",
       " 'Как',\n",
       " 'уже',\n",
       " 'было',\n",
       " 'упомянуто',\n",
       " 'их',\n",
       " 'поддерживает',\n",
       " 'множество',\n",
       " 'языков',\n",
       " 'общего',\n",
       " 'назначения',\n",
       " 'Python',\n",
       " 'Perl',\n",
       " 'R',\n",
       " 'Так',\n",
       " 'что',\n",
       " 'изучение',\n",
       " 'регулярных',\n",
       " 'выражений',\n",
       " 'рано',\n",
       " 'или',\n",
       " 'поздно',\n",
       " 'пригодится']"
      ]
     },
     "execution_count": 13,
     "metadata": {},
     "output_type": "execute_result"
    }
   ],
   "source": [
    "re.findall('[\\w]+', text)"
   ]
  },
  {
   "cell_type": "code",
   "execution_count": 14,
   "metadata": {},
   "outputs": [
    {
     "data": {
      "text/plain": [
       "['Что',\n",
       " '',\n",
       " 'такое',\n",
       " '',\n",
       " 'регулярные',\n",
       " '',\n",
       " 'выражения',\n",
       " '',\n",
       " 'и',\n",
       " '',\n",
       " 'как',\n",
       " '',\n",
       " 'их',\n",
       " '',\n",
       " 'использовать',\n",
       " '',\n",
       " '',\n",
       " '',\n",
       " '',\n",
       " '',\n",
       " '',\n",
       " '',\n",
       " '',\n",
       " '',\n",
       " 'Говоря',\n",
       " '',\n",
       " 'простым',\n",
       " '',\n",
       " 'языком',\n",
       " '',\n",
       " '',\n",
       " 'регулярное',\n",
       " '',\n",
       " 'выражение',\n",
       " '',\n",
       " '',\n",
       " '',\n",
       " 'это',\n",
       " '',\n",
       " 'последовательность',\n",
       " '',\n",
       " 'символов',\n",
       " '',\n",
       " '',\n",
       " '',\n",
       " '',\n",
       " '',\n",
       " '',\n",
       " '',\n",
       " '',\n",
       " '',\n",
       " 'используемая',\n",
       " '',\n",
       " 'для',\n",
       " '',\n",
       " 'поиска',\n",
       " '',\n",
       " 'и',\n",
       " '',\n",
       " 'замены',\n",
       " '',\n",
       " 'текста',\n",
       " '',\n",
       " 'в',\n",
       " '',\n",
       " 'строке',\n",
       " '',\n",
       " 'или',\n",
       " '',\n",
       " 'файле',\n",
       " '',\n",
       " '',\n",
       " 'Как',\n",
       " '',\n",
       " 'уже',\n",
       " '',\n",
       " 'было',\n",
       " '',\n",
       " 'упомянуто',\n",
       " '',\n",
       " '',\n",
       " '',\n",
       " '',\n",
       " '',\n",
       " '',\n",
       " '',\n",
       " '',\n",
       " '',\n",
       " 'их',\n",
       " '',\n",
       " 'поддерживает',\n",
       " '',\n",
       " 'множество',\n",
       " '',\n",
       " 'языков',\n",
       " '',\n",
       " 'общего',\n",
       " '',\n",
       " 'назначения',\n",
       " '',\n",
       " '',\n",
       " 'Python',\n",
       " '',\n",
       " '',\n",
       " 'Perl',\n",
       " '',\n",
       " '',\n",
       " 'R',\n",
       " '',\n",
       " '',\n",
       " '',\n",
       " '',\n",
       " '',\n",
       " '',\n",
       " '',\n",
       " '',\n",
       " '',\n",
       " 'Так',\n",
       " '',\n",
       " 'что',\n",
       " '',\n",
       " 'изучение',\n",
       " '',\n",
       " 'регулярных',\n",
       " '',\n",
       " 'выражений',\n",
       " '',\n",
       " 'рано',\n",
       " '',\n",
       " 'или',\n",
       " '',\n",
       " 'поздно',\n",
       " '',\n",
       " 'пригодится',\n",
       " '',\n",
       " '']"
      ]
     },
     "execution_count": 14,
     "metadata": {},
     "output_type": "execute_result"
    }
   ],
   "source": [
    "re.findall('[\\w]*', text)"
   ]
  },
  {
   "cell_type": "code",
   "execution_count": 15,
   "metadata": {},
   "outputs": [
    {
     "data": {
      "text/plain": [
       "['Ч',\n",
       " 'т',\n",
       " 'о',\n",
       " '',\n",
       " 'т',\n",
       " 'а',\n",
       " 'к',\n",
       " 'о',\n",
       " 'е',\n",
       " '',\n",
       " 'р',\n",
       " 'е',\n",
       " 'г',\n",
       " 'у',\n",
       " 'л',\n",
       " 'я',\n",
       " 'р',\n",
       " 'н',\n",
       " 'ы',\n",
       " 'е',\n",
       " '',\n",
       " 'в',\n",
       " 'ы',\n",
       " 'р',\n",
       " 'а',\n",
       " 'ж',\n",
       " 'е',\n",
       " 'н',\n",
       " 'и',\n",
       " 'я',\n",
       " '',\n",
       " 'и',\n",
       " '',\n",
       " 'к',\n",
       " 'а',\n",
       " 'к',\n",
       " '',\n",
       " 'и',\n",
       " 'х',\n",
       " '',\n",
       " 'и',\n",
       " 'с',\n",
       " 'п',\n",
       " 'о',\n",
       " 'л',\n",
       " 'ь',\n",
       " 'з',\n",
       " 'о',\n",
       " 'в',\n",
       " 'а',\n",
       " 'т',\n",
       " 'ь',\n",
       " '',\n",
       " '',\n",
       " '',\n",
       " '',\n",
       " '',\n",
       " '',\n",
       " '',\n",
       " '',\n",
       " '',\n",
       " 'Г',\n",
       " 'о',\n",
       " 'в',\n",
       " 'о',\n",
       " 'р',\n",
       " 'я',\n",
       " '',\n",
       " 'п',\n",
       " 'р',\n",
       " 'о',\n",
       " 'с',\n",
       " 'т',\n",
       " 'ы',\n",
       " 'м',\n",
       " '',\n",
       " 'я',\n",
       " 'з',\n",
       " 'ы',\n",
       " 'к',\n",
       " 'о',\n",
       " 'м',\n",
       " '',\n",
       " '',\n",
       " 'р',\n",
       " 'е',\n",
       " 'г',\n",
       " 'у',\n",
       " 'л',\n",
       " 'я',\n",
       " 'р',\n",
       " 'н',\n",
       " 'о',\n",
       " 'е',\n",
       " '',\n",
       " 'в',\n",
       " 'ы',\n",
       " 'р',\n",
       " 'а',\n",
       " 'ж',\n",
       " 'е',\n",
       " 'н',\n",
       " 'и',\n",
       " 'е',\n",
       " '',\n",
       " '',\n",
       " '',\n",
       " 'э',\n",
       " 'т',\n",
       " 'о',\n",
       " '',\n",
       " 'п',\n",
       " 'о',\n",
       " 'с',\n",
       " 'л',\n",
       " 'е',\n",
       " 'д',\n",
       " 'о',\n",
       " 'в',\n",
       " 'а',\n",
       " 'т',\n",
       " 'е',\n",
       " 'л',\n",
       " 'ь',\n",
       " 'н',\n",
       " 'о',\n",
       " 'с',\n",
       " 'т',\n",
       " 'ь',\n",
       " '',\n",
       " 'с',\n",
       " 'и',\n",
       " 'м',\n",
       " 'в',\n",
       " 'о',\n",
       " 'л',\n",
       " 'о',\n",
       " 'в',\n",
       " '',\n",
       " '',\n",
       " '',\n",
       " '',\n",
       " '',\n",
       " '',\n",
       " '',\n",
       " '',\n",
       " '',\n",
       " 'и',\n",
       " 'с',\n",
       " 'п',\n",
       " 'о',\n",
       " 'л',\n",
       " 'ь',\n",
       " 'з',\n",
       " 'у',\n",
       " 'е',\n",
       " 'м',\n",
       " 'а',\n",
       " 'я',\n",
       " '',\n",
       " 'д',\n",
       " 'л',\n",
       " 'я',\n",
       " '',\n",
       " 'п',\n",
       " 'о',\n",
       " 'и',\n",
       " 'с',\n",
       " 'к',\n",
       " 'а',\n",
       " '',\n",
       " 'и',\n",
       " '',\n",
       " 'з',\n",
       " 'а',\n",
       " 'м',\n",
       " 'е',\n",
       " 'н',\n",
       " 'ы',\n",
       " '',\n",
       " 'т',\n",
       " 'е',\n",
       " 'к',\n",
       " 'с',\n",
       " 'т',\n",
       " 'а',\n",
       " '',\n",
       " 'в',\n",
       " '',\n",
       " 'с',\n",
       " 'т',\n",
       " 'р',\n",
       " 'о',\n",
       " 'к',\n",
       " 'е',\n",
       " '',\n",
       " 'и',\n",
       " 'л',\n",
       " 'и',\n",
       " '',\n",
       " 'ф',\n",
       " 'а',\n",
       " 'й',\n",
       " 'л',\n",
       " 'е',\n",
       " '',\n",
       " '',\n",
       " 'К',\n",
       " 'а',\n",
       " 'к',\n",
       " '',\n",
       " 'у',\n",
       " 'ж',\n",
       " 'е',\n",
       " '',\n",
       " 'б',\n",
       " 'ы',\n",
       " 'л',\n",
       " 'о',\n",
       " '',\n",
       " 'у',\n",
       " 'п',\n",
       " 'о',\n",
       " 'м',\n",
       " 'я',\n",
       " 'н',\n",
       " 'у',\n",
       " 'т',\n",
       " 'о',\n",
       " '',\n",
       " '',\n",
       " '',\n",
       " '',\n",
       " '',\n",
       " '',\n",
       " '',\n",
       " '',\n",
       " '',\n",
       " 'и',\n",
       " 'х',\n",
       " '',\n",
       " 'п',\n",
       " 'о',\n",
       " 'д',\n",
       " 'д',\n",
       " 'е',\n",
       " 'р',\n",
       " 'ж',\n",
       " 'и',\n",
       " 'в',\n",
       " 'а',\n",
       " 'е',\n",
       " 'т',\n",
       " '',\n",
       " 'м',\n",
       " 'н',\n",
       " 'о',\n",
       " 'ж',\n",
       " 'е',\n",
       " 'с',\n",
       " 'т',\n",
       " 'в',\n",
       " 'о',\n",
       " '',\n",
       " 'я',\n",
       " 'з',\n",
       " 'ы',\n",
       " 'к',\n",
       " 'о',\n",
       " 'в',\n",
       " '',\n",
       " 'о',\n",
       " 'б',\n",
       " 'щ',\n",
       " 'е',\n",
       " 'г',\n",
       " 'о',\n",
       " '',\n",
       " 'н',\n",
       " 'а',\n",
       " 'з',\n",
       " 'н',\n",
       " 'а',\n",
       " 'ч',\n",
       " 'е',\n",
       " 'н',\n",
       " 'и',\n",
       " 'я',\n",
       " '',\n",
       " '',\n",
       " 'P',\n",
       " 'y',\n",
       " 't',\n",
       " 'h',\n",
       " 'o',\n",
       " 'n',\n",
       " '',\n",
       " '',\n",
       " 'P',\n",
       " 'e',\n",
       " 'r',\n",
       " 'l',\n",
       " '',\n",
       " '',\n",
       " 'R',\n",
       " '',\n",
       " '',\n",
       " '',\n",
       " '',\n",
       " '',\n",
       " '',\n",
       " '',\n",
       " '',\n",
       " '',\n",
       " 'Т',\n",
       " 'а',\n",
       " 'к',\n",
       " '',\n",
       " 'ч',\n",
       " 'т',\n",
       " 'о',\n",
       " '',\n",
       " 'и',\n",
       " 'з',\n",
       " 'у',\n",
       " 'ч',\n",
       " 'е',\n",
       " 'н',\n",
       " 'и',\n",
       " 'е',\n",
       " '',\n",
       " 'р',\n",
       " 'е',\n",
       " 'г',\n",
       " 'у',\n",
       " 'л',\n",
       " 'я',\n",
       " 'р',\n",
       " 'н',\n",
       " 'ы',\n",
       " 'х',\n",
       " '',\n",
       " 'в',\n",
       " 'ы',\n",
       " 'р',\n",
       " 'а',\n",
       " 'ж',\n",
       " 'е',\n",
       " 'н',\n",
       " 'и',\n",
       " 'й',\n",
       " '',\n",
       " 'р',\n",
       " 'а',\n",
       " 'н',\n",
       " 'о',\n",
       " '',\n",
       " 'и',\n",
       " 'л',\n",
       " 'и',\n",
       " '',\n",
       " 'п',\n",
       " 'о',\n",
       " 'з',\n",
       " 'д',\n",
       " 'н',\n",
       " 'о',\n",
       " '',\n",
       " 'п',\n",
       " 'р',\n",
       " 'и',\n",
       " 'г',\n",
       " 'о',\n",
       " 'д',\n",
       " 'и',\n",
       " 'т',\n",
       " 'с',\n",
       " 'я',\n",
       " '',\n",
       " '']"
      ]
     },
     "execution_count": 15,
     "metadata": {},
     "output_type": "execute_result"
    }
   ],
   "source": [
    "re.findall('[\\w]?', text)"
   ]
  },
  {
   "cell_type": "code",
   "execution_count": 61,
   "metadata": {},
   "outputs": [],
   "source": [
    "# разобъем текст на предложение (примитивным вариантом)\n",
    "# res = re.split('[\\.\\?]', text)\n",
    "res = re.split(r'(?<=\\w[.?]) ', text)\n",
    "len(res)"
   ]
  },
  {
   "cell_type": "code",
   "execution_count": 62,
   "metadata": {},
   "outputs": [],
   "source": [
    "text = 'Что такое регулярные выражения и как их использовать?\\\n",
    "        Говоря простым языком, регулярное выражение — это последовательность символов,\\\n",
    "        используемая для поиска и замены текста в строке или файле. Как уже было упомянуто,\\\n",
    "        их поддерживает множество языков общего назначения: Python, Perl, R.\\\n",
    "        Так что изучение регулярных выражений рано или поздно пригодится.'"
   ]
  },
  {
   "cell_type": "code",
   "execution_count": 63,
   "metadata": {},
   "outputs": [
    {
     "name": "stdout",
     "output_type": "stream",
     "text": [
      "['Что такое регулярные выражения и как их использовать', '        Говоря простым языком, регулярное выражение — это последовательность символов,        используемая для поиска и замены текста в строке или файле', ' Как уже было упомянуто,        их поддерживает множество языков общего назначения: Python, Perl, R', '        Так что изучение регулярных выражений рано или поздно пригодится', '']\n"
     ]
    }
   ],
   "source": [
    "print(res)"
   ]
  },
  {
   "cell_type": "code",
   "execution_count": 64,
   "metadata": {},
   "outputs": [
    {
     "data": {
      "text/plain": [
       "'Что такое Regex и как их использовать?        Говоря простым языком, Regex — это последовательность символов,        используемая для поиска и замены текста в строке или файле. Как уже было упомянуто,        их поддерживает множество языков общего назначения: Python, Perl, R.        Так что изучение Regex рано или поздно пригодится.'"
      ]
     },
     "execution_count": 64,
     "metadata": {},
     "output_type": "execute_result"
    }
   ],
   "source": [
    "# произведем замену\n",
    "res = re.sub(pattern, 'Regex', text)\n",
    "res"
   ]
  },
  {
   "cell_type": "code",
   "execution_count": 66,
   "metadata": {},
   "outputs": [
    {
     "data": {
      "text/plain": [
       "['Гепард', 'гепард']"
      ]
     },
     "execution_count": 66,
     "metadata": {},
     "output_type": "execute_result"
    }
   ],
   "source": [
    "# ИЛИ\n",
    "fastest_animal = 'Гепард - самое быстрое животное'\n",
    "re.findall('гепард|Гепард', fastest_animal)"
   ]
  },
  {
   "cell_type": "code",
   "execution_count": 148,
   "metadata": {},
   "outputs": [],
   "source": [
    "# группировка\n",
    "\n",
    "numbers = '55566667 3333 3333 44444444444444444 3333 666 777'\n",
    "# re.findall('\\d+', numbers)"
   ]
  },
  {
   "cell_type": "code",
   "execution_count": 120,
   "metadata": {},
   "outputs": [
    {
     "data": {
      "text/plain": [
       "['5538']"
      ]
     },
     "execution_count": 120,
     "metadata": {},
     "output_type": "execute_result"
    }
   ],
   "source": [
    "numbers = '5538'\n",
    "re.findall('(\\d{4})+', numbers)"
   ]
  },
  {
   "cell_type": "code",
   "execution_count": 119,
   "metadata": {},
   "outputs": [
    {
     "data": {
      "text/plain": [
       "['8']"
      ]
     },
     "execution_count": 119,
     "metadata": {},
     "output_type": "execute_result"
    }
   ],
   "source": [
    "re.findall('(\\d)', numbers)"
   ]
  },
  {
   "cell_type": "code",
   "execution_count": 151,
   "metadata": {},
   "outputs": [
    {
     "data": {
      "text/plain": [
       "'55566667 3333 3333 44444444444444444 3333 666 777'"
      ]
     },
     "execution_count": 151,
     "metadata": {},
     "output_type": "execute_result"
    }
   ],
   "source": [
    "re.sub('(\\d+)', r'\\1', numbers)"
   ]
  },
  {
   "cell_type": "code",
   "execution_count": 122,
   "metadata": {},
   "outputs": [
    {
     "data": {
      "text/plain": [
       "['4.44', '10.88']"
      ]
     },
     "execution_count": 122,
     "metadata": {},
     "output_type": "execute_result"
    }
   ],
   "source": [
    "# Lookaround\n",
    "prices = 'RUB4.44, RUB10.88, USD10.00'\n",
    "regex_prices = '(?<=RUB)[0-9\\.]*'\n",
    "\n",
    "re.findall(regex_prices, prices)"
   ]
  },
  {
   "cell_type": "code",
   "execution_count": 106,
   "metadata": {},
   "outputs": [
    {
     "data": {
      "text/plain": [
       "'30.08.1991'"
      ]
     },
     "execution_count": 106,
     "metadata": {},
     "output_type": "execute_result"
    }
   ],
   "source": [
    "# обращение к группам\n",
    "\n",
    "date = '08/30/1991'\n",
    "re.sub(r'(\\d\\d)/(\\d\\d)/(\\d{4})', r'\\2.\\1.\\3', date)"
   ]
  },
  {
   "cell_type": "markdown",
   "metadata": {},
   "source": [
    "### Практика"
   ]
  },
  {
   "cell_type": "code",
   "execution_count": 123,
   "metadata": {},
   "outputs": [],
   "source": [
    "# необходимо из строки с условными датами вытащить их\n",
    "registration = 'Date of start: 4-12. Date of registration: 20-11'"
   ]
  },
  {
   "cell_type": "code",
   "execution_count": 130,
   "metadata": {},
   "outputs": [
    {
     "data": {
      "text/plain": [
       "['4-12', '20-11']"
      ]
     },
     "execution_count": 130,
     "metadata": {},
     "output_type": "execute_result"
    }
   ],
   "source": [
    "# re.findall('([\\d]{1,2}-[\\d]{1,2})', registration)\n",
    "# re.findall(r'(\\d+-\\d+)', registration)\n",
    "# re.findall(r'(\\d+-\\d+)', registration)\n",
    "re.findall('([0-9]{1,2}-[0-9]{1,2})', registration)\n",
    "# re.findall('(?<=\\: )[0-9\\-]*', registration)\n",
    "# re.findall('[0-9\\-]+', registration)"
   ]
  },
  {
   "cell_type": "code",
   "execution_count": 131,
   "metadata": {},
   "outputs": [],
   "source": [
    "# простыс способом определить домен в зоне .com\n",
    "domain = 'www.site.com'"
   ]
  },
  {
   "cell_type": "code",
   "execution_count": 134,
   "metadata": {},
   "outputs": [
    {
     "data": {
      "text/plain": [
       "['www.site.com']"
      ]
     },
     "execution_count": 134,
     "metadata": {},
     "output_type": "execute_result"
    }
   ],
   "source": [
    "# re.findall(r'(.*com)', domain)\n",
    "re.findall('(\\w+).com', domain)\n",
    "re.findall('www.+.com', domain)"
   ]
  },
  {
   "cell_type": "code",
   "execution_count": null,
   "metadata": {},
   "outputs": [],
   "source": [
    "for email in emails:\n",
    "    if re.match(regex_mails, email):\n",
    "        print('The email {} is a valid email'.format(email))\n",
    "    else:\n",
    "        print('The email {} is invalid'.format(email))   "
   ]
  },
  {
   "cell_type": "code",
   "execution_count": 154,
   "metadata": {},
   "outputs": [],
   "source": [
    "# напишите регулярку, которая отберет только валидный пароль по критериям:\n",
    "# - содержит латинские символы в верхнем и нижнем регистре;\n",
    "# - содержит числа;\n",
    "# - содержит символы из *, #, $, %, !, &, .;\n",
    "# - от 8 до 20 символов в длину;\n",
    "passwords = ['Apple34!rose', 'My87hou#4$', 'abc123', '111111111']"
   ]
  },
  {
   "cell_type": "code",
   "execution_count": 155,
   "metadata": {},
   "outputs": [],
   "source": [
    "regex_pass = '[a-zA-Z0-9*#\\$%!&\\.]{8,20}'"
   ]
  },
  {
   "cell_type": "code",
   "execution_count": 160,
   "metadata": {},
   "outputs": [],
   "source": [
    "regex_pass = '[A-Za-z]+[0-9]+[*#\\$%!&\\.]+'\n",
    "# '/w/d*#$%!&.]{8,20}'\n",
    "regex_pass = '(?=.*[0-9])(?=.*[!@#$%^&*])(?=.*[a-z])(?=.*[A-Z])[0-9a-zA-Z!@#$%^&*]{6,}'\n"
   ]
  },
  {
   "cell_type": "code",
   "execution_count": 161,
   "metadata": {},
   "outputs": [
    {
     "name": "stdout",
     "output_type": "stream",
     "text": [
      "The password Apple34!rose is a valid password\n",
      "The password My87hou#4$ is a valid password\n",
      "The password abc123 is invalid\n",
      "The password 111111111 is invalid\n"
     ]
    }
   ],
   "source": [
    "for password in passwords:\n",
    "    if re.search(regex_pass, password):\n",
    "        print('The password {} is a valid password'.format(password))\n",
    "    else:\n",
    "        print('The password {} is invalid'.format(password))  "
   ]
  },
  {
   "cell_type": "code",
   "execution_count": null,
   "metadata": {},
   "outputs": [],
   "source": [
    "# выделить группы символов из посадочного талона, где:\n",
    "# - первые 2 символа - это авиакомпания;\n",
    "# - 4 следующие символа - номер рейса;\n",
    "# - 3 следующих символа - аэропорт отправления;\n",
    "# - 3 следюущих - аэропорт прибытия;\n",
    "# - оставшиеся - дата рейса\n",
    "# Все буквы всегда в верхнем регистре"
   ]
  },
  {
   "cell_type": "code",
   "execution_count": 162,
   "metadata": {},
   "outputs": [],
   "source": [
    "flight = 'Boarding pass: LA4214 AER-CDB 06NOV'"
   ]
  },
  {
   "cell_type": "code",
   "execution_count": 166,
   "metadata": {},
   "outputs": [],
   "source": [
    "regex_flight = '(?<=[ -])[A-Z0-9]+'\n",
    "regex_flight = '([A-Z]{2})(\\d{4}) ([A-Z]{3})-([A-Z]{3}) (\\d{2})([A-Z]{3})'"
   ]
  },
  {
   "cell_type": "code",
   "execution_count": 167,
   "metadata": {},
   "outputs": [],
   "source": [
    "flight_result = re.findall(regex_flight, flight)"
   ]
  },
  {
   "cell_type": "code",
   "execution_count": 168,
   "metadata": {},
   "outputs": [
    {
     "name": "stdout",
     "output_type": "stream",
     "text": [
      "[('LA', '4214', 'AER', 'CDB', '06', 'NOV')]\n"
     ]
    }
   ],
   "source": [
    "print(flight_result)"
   ]
  }
 ],
 "metadata": {
  "kernelspec": {
   "display_name": "Python 3",
   "language": "python",
   "name": "python3"
  },
  "language_info": {
   "codemirror_mode": {
    "name": "ipython",
    "version": 3
   },
   "file_extension": ".py",
   "mimetype": "text/x-python",
   "name": "python",
   "nbconvert_exporter": "python",
   "pygments_lexer": "ipython3",
   "version": "3.7.4"
  }
 },
 "nbformat": 4,
 "nbformat_minor": 2
}
