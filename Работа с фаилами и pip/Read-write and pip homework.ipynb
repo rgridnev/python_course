{
 "cells": [
  {
   "cell_type": "markdown",
   "metadata": {},
   "source": [
    "# Домашнее задание\n",
    "1. Переведите содержимое файла purchase_log.txt в словарь purchases вида:\n",
    "```python\n",
    "{'1840e0b9d4': 'Продукты', ...}\n",
    "```\n",
    "\n",
    "2. Для каждого user_id в файле visit_log.csv добавьте третий столбец с категорией покупки (если покупка была).\n",
    "\n",
    "3. Запишите в файл funnel.csv визиты из файла visit_log.csv, в которых были покупки с указанием категории.\n",
    "\n",
    "Учтите условия на данные:\n",
    "- содержимое purchase_log.txt помещается в оперативную память компьютера\n",
    "- содержимое visit_log.csv - нет; используйте только построчную обработку этого файла"
   ]
  },
  {
   "cell_type": "code",
   "execution_count": 41,
   "metadata": {},
   "outputs": [],
   "source": [
    "import json\n",
    "p = open('purchase_log.txt', 'r', encoding=\"utf-8\")\n",
    "purchases = []\n",
    "for line in p:\n",
    "        line = line.strip()\n",
    "        dict_ = json.loads(line)\n",
    "        purchases.append(dict_)\n",
    "#purchases[:5]"
   ]
  },
  {
   "cell_type": "code",
   "execution_count": 42,
   "metadata": {},
   "outputs": [],
   "source": [
    "def search(id):\n",
    "    for p in purchases:\n",
    "        if p['user_id'] == id:\n",
    "            return p['category']\n",
    "#search('1840e0b9d4')"
   ]
  },
  {
   "cell_type": "code",
   "execution_count": null,
   "metadata": {},
   "outputs": [],
   "source": [
    "with open('visit_log.csv', 'r') as v:\n",
    "    with open('funnel.csv', 'w') as f:\n",
    "        for element in v:\n",
    "            item=element.strip().split(',')\n",
    "            if search(item[0]) != None:\n",
    "                item.append(search(item[0]))\n",
    "                result=','.join(item)+'\\n'\n",
    "                f.write(result)    "
   ]
  }
 ],
 "metadata": {
  "kernelspec": {
   "display_name": "Python 3",
   "language": "python",
   "name": "python3"
  },
  "language_info": {
   "codemirror_mode": {
    "name": "ipython",
    "version": 3
   },
   "file_extension": ".py",
   "mimetype": "text/x-python",
   "name": "python",
   "nbconvert_exporter": "python",
   "pygments_lexer": "ipython3",
   "version": "3.7.4"
  }
 },
 "nbformat": 4,
 "nbformat_minor": 2
}
