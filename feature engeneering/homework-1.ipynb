{
 "cells": [
  {
   "cell_type": "code",
   "execution_count": 2,
   "metadata": {},
   "outputs": [],
   "source": [
    "import numpy as np\n",
    "import pandas as pd\n",
    "\n",
    "from sklearn.linear_model import LinearRegression"
   ]
  },
  {
   "cell_type": "code",
   "execution_count": 137,
   "metadata": {},
   "outputs": [
    {
     "data": {
      "text/html": [
       "<div>\n",
       "<style scoped>\n",
       "    .dataframe tbody tr th:only-of-type {\n",
       "        vertical-align: middle;\n",
       "    }\n",
       "\n",
       "    .dataframe tbody tr th {\n",
       "        vertical-align: top;\n",
       "    }\n",
       "\n",
       "    .dataframe thead th {\n",
       "        text-align: right;\n",
       "    }\n",
       "</style>\n",
       "<table border=\"1\" class=\"dataframe\">\n",
       "  <thead>\n",
       "    <tr style=\"text-align: right;\">\n",
       "      <th></th>\n",
       "      <th>avg_speed</th>\n",
       "      <th>number_stop</th>\n",
       "      <th>distance</th>\n",
       "      <th>fuel_consumption</th>\n",
       "      <th>total_fuel</th>\n",
       "    </tr>\n",
       "  </thead>\n",
       "  <tbody>\n",
       "    <tr>\n",
       "      <td>0</td>\n",
       "      <td>62</td>\n",
       "      <td>50</td>\n",
       "      <td>987</td>\n",
       "      <td>11</td>\n",
       "      <td>80.601065</td>\n",
       "    </tr>\n",
       "    <tr>\n",
       "      <td>1</td>\n",
       "      <td>106</td>\n",
       "      <td>46</td>\n",
       "      <td>607</td>\n",
       "      <td>7</td>\n",
       "      <td>50.982643</td>\n",
       "    </tr>\n",
       "    <tr>\n",
       "      <td>2</td>\n",
       "      <td>82</td>\n",
       "      <td>32</td>\n",
       "      <td>368</td>\n",
       "      <td>9</td>\n",
       "      <td>30.281616</td>\n",
       "    </tr>\n",
       "    <tr>\n",
       "      <td>3</td>\n",
       "      <td>64</td>\n",
       "      <td>44</td>\n",
       "      <td>877</td>\n",
       "      <td>8</td>\n",
       "      <td>53.852265</td>\n",
       "    </tr>\n",
       "    <tr>\n",
       "      <td>4</td>\n",
       "      <td>102</td>\n",
       "      <td>23</td>\n",
       "      <td>884</td>\n",
       "      <td>8</td>\n",
       "      <td>99.859100</td>\n",
       "    </tr>\n",
       "  </tbody>\n",
       "</table>\n",
       "</div>"
      ],
      "text/plain": [
       "   avg_speed  number_stop  distance  fuel_consumption  total_fuel\n",
       "0         62           50       987                11   80.601065\n",
       "1        106           46       607                 7   50.982643\n",
       "2         82           32       368                 9   30.281616\n",
       "3         64           44       877                 8   53.852265\n",
       "4        102           23       884                 8   99.859100"
      ]
     },
     "execution_count": 137,
     "metadata": {},
     "output_type": "execute_result"
    }
   ],
   "source": [
    "# Создаём сэмпл (расход топлива при поездке)\n",
    "n_samples = 500\n",
    "\n",
    "avg_speed = np.random.choice(60, n_samples) + 50\n",
    "number_stop = np.random.choice(50, n_samples)+1\n",
    "distance = np.random.choice(800, n_samples) + 200\n",
    "fuel_consumption = np.random.choice(7, n_samples) + 7\n",
    "\n",
    "total_fuel = (distance*fuel_consumption/100)*(1+distance*0.01/number_stop)*0.01*avg_speed\n",
    "\n",
    "data = pd.DataFrame({'avg_speed': avg_speed, 'number_stop': number_stop, 'distance': distance\n",
    "                     ,'fuel_consumption': fuel_consumption, 'total_fuel': total_fuel})\n",
    "data.head()"
   ]
  },
  {
   "cell_type": "code",
   "execution_count": 138,
   "metadata": {},
   "outputs": [
    {
     "data": {
      "text/plain": [
       "70.99632919203836"
      ]
     },
     "execution_count": 138,
     "metadata": {},
     "output_type": "execute_result"
    }
   ],
   "source": [
    "data.total_fuel.mean()"
   ]
  },
  {
   "cell_type": "code",
   "execution_count": 139,
   "metadata": {},
   "outputs": [
    {
     "name": "stdout",
     "output_type": "stream",
     "text": [
      "Weights: [ 0.95914172 -1.5012198   0.14488573  7.08316059]\n",
      "Bias: -123.57681529293713\n",
      "Error, %: 26.972631573975598\n"
     ]
    }
   ],
   "source": [
    "from sklearn.metrics import mean_absolute_error\n",
    "\n",
    "X = data[['avg_speed', 'number_stop', 'distance', 'fuel_consumption']]\n",
    "y = data['total_fuel']\n",
    "reg = LinearRegression().fit(X, y)\n",
    "print('Weights: {}'.format(reg.coef_))\n",
    "print('Bias: {}'.format(reg.intercept_))\n",
    "\n",
    "pred_values = reg.predict(X)\n",
    "print('Error, %: {}'.format(mean_absolute_error(pred_values, y)*100/data.total_fuel.mean()))"
   ]
  },
  {
   "cell_type": "code",
   "execution_count": 140,
   "metadata": {},
   "outputs": [
    {
     "data": {
      "text/html": [
       "<div>\n",
       "<style scoped>\n",
       "    .dataframe tbody tr th:only-of-type {\n",
       "        vertical-align: middle;\n",
       "    }\n",
       "\n",
       "    .dataframe tbody tr th {\n",
       "        vertical-align: top;\n",
       "    }\n",
       "\n",
       "    .dataframe thead th {\n",
       "        text-align: right;\n",
       "    }\n",
       "</style>\n",
       "<table border=\"1\" class=\"dataframe\">\n",
       "  <thead>\n",
       "    <tr style=\"text-align: right;\">\n",
       "      <th></th>\n",
       "      <th>0</th>\n",
       "      <th>1</th>\n",
       "      <th>2</th>\n",
       "      <th>3</th>\n",
       "      <th>4</th>\n",
       "    </tr>\n",
       "  </thead>\n",
       "  <tbody>\n",
       "    <tr>\n",
       "      <td>0</td>\n",
       "      <td>0.203390</td>\n",
       "      <td>1.000000</td>\n",
       "      <td>0.986198</td>\n",
       "      <td>0.666667</td>\n",
       "      <td>0.079773</td>\n",
       "    </tr>\n",
       "    <tr>\n",
       "      <td>1</td>\n",
       "      <td>0.949153</td>\n",
       "      <td>0.918367</td>\n",
       "      <td>0.509410</td>\n",
       "      <td>0.000000</td>\n",
       "      <td>0.045661</td>\n",
       "    </tr>\n",
       "    <tr>\n",
       "      <td>2</td>\n",
       "      <td>0.542373</td>\n",
       "      <td>0.632653</td>\n",
       "      <td>0.209536</td>\n",
       "      <td>0.333333</td>\n",
       "      <td>0.021820</td>\n",
       "    </tr>\n",
       "    <tr>\n",
       "      <td>3</td>\n",
       "      <td>0.237288</td>\n",
       "      <td>0.877551</td>\n",
       "      <td>0.848181</td>\n",
       "      <td>0.166667</td>\n",
       "      <td>0.048966</td>\n",
       "    </tr>\n",
       "    <tr>\n",
       "      <td>4</td>\n",
       "      <td>0.881356</td>\n",
       "      <td>0.448980</td>\n",
       "      <td>0.856964</td>\n",
       "      <td>0.166667</td>\n",
       "      <td>0.101953</td>\n",
       "    </tr>\n",
       "  </tbody>\n",
       "</table>\n",
       "</div>"
      ],
      "text/plain": [
       "          0         1         2         3         4\n",
       "0  0.203390  1.000000  0.986198  0.666667  0.079773\n",
       "1  0.949153  0.918367  0.509410  0.000000  0.045661\n",
       "2  0.542373  0.632653  0.209536  0.333333  0.021820\n",
       "3  0.237288  0.877551  0.848181  0.166667  0.048966\n",
       "4  0.881356  0.448980  0.856964  0.166667  0.101953"
      ]
     },
     "execution_count": 140,
     "metadata": {},
     "output_type": "execute_result"
    }
   ],
   "source": [
    "# пробуем то же самое, но на нормализованных данных\n",
    "\n",
    "from sklearn import preprocessing\n",
    "min_max_scaler = preprocessing.MinMaxScaler(feature_range=(0,1))\n",
    "np_scaled = min_max_scaler.fit_transform(data)\n",
    "data_norm = pd.DataFrame(np_scaled)\n",
    "data_norm.head()"
   ]
  },
  {
   "cell_type": "code",
   "execution_count": 141,
   "metadata": {},
   "outputs": [
    {
     "name": "stdout",
     "output_type": "stream",
     "text": [
      "Weights: [[ 0.06517454 -0.08471954  0.1329925   0.04894649]]\n",
      "Bias: [-0.01123247]\n",
      "Error, %: 32.09771279041967\n"
     ]
    }
   ],
   "source": [
    "# нормализация не помогла ровно никак, даже увеличив относительную ошибку\n",
    "\n",
    "X = data_norm.iloc[:,:4]\n",
    "y = data_norm.iloc[:,4:]\n",
    "reg = LinearRegression().fit(X, y)\n",
    "print('Weights: {}'.format(reg.coef_))\n",
    "print('Bias: {}'.format(reg.intercept_))\n",
    "\n",
    "pred_values = reg.predict(X)\n",
    "print('Error, %: {}'.format(mean_absolute_error(pred_values, y)*100/data_norm[4].mean()))"
   ]
  },
  {
   "cell_type": "code",
   "execution_count": 142,
   "metadata": {},
   "outputs": [
    {
     "name": "stdout",
     "output_type": "stream",
     "text": [
      "Weights: [0.96622049 0.14200233 7.76846228]\n",
      "Bias: -168.71491734910467\n",
      "Error, %: 29.8088155257404\n"
     ]
    }
   ],
   "source": [
    "# попробуем убрать столбцы, которые не влияют на результат \n",
    "# (даже не зная формулы, можно предположить, что количество остановок не влияет)\n",
    "\n",
    "X = data.drop(['total_fuel', 'number_stop'], axis = 1)\n",
    "y = data['total_fuel']\n",
    "reg = LinearRegression().fit(X, y)\n",
    "print('Weights: {}'.format(reg.coef_))\n",
    "print('Bias: {}'.format(reg.intercept_))\n",
    "\n",
    "pred_values = reg.predict(X)\n",
    "print('Error, %: {}'.format(mean_absolute_error(pred_values, y)*100/data.total_fuel.mean()))\n",
    "\n",
    "#снова увеличили ошибку"
   ]
  },
  {
   "cell_type": "code",
   "execution_count": 143,
   "metadata": {},
   "outputs": [
    {
     "data": {
      "text/html": [
       "<div>\n",
       "<style scoped>\n",
       "    .dataframe tbody tr th:only-of-type {\n",
       "        vertical-align: middle;\n",
       "    }\n",
       "\n",
       "    .dataframe tbody tr th {\n",
       "        vertical-align: top;\n",
       "    }\n",
       "\n",
       "    .dataframe thead th {\n",
       "        text-align: right;\n",
       "    }\n",
       "</style>\n",
       "<table border=\"1\" class=\"dataframe\">\n",
       "  <thead>\n",
       "    <tr style=\"text-align: right;\">\n",
       "      <th></th>\n",
       "      <th>avg_speed</th>\n",
       "      <th>number_stop</th>\n",
       "      <th>distance</th>\n",
       "      <th>fuel_consumption</th>\n",
       "      <th>total_fuel</th>\n",
       "      <th>f_cons_pure</th>\n",
       "    </tr>\n",
       "  </thead>\n",
       "  <tbody>\n",
       "    <tr>\n",
       "      <td>0</td>\n",
       "      <td>62</td>\n",
       "      <td>50</td>\n",
       "      <td>987</td>\n",
       "      <td>11</td>\n",
       "      <td>80.601065</td>\n",
       "      <td>108.57</td>\n",
       "    </tr>\n",
       "    <tr>\n",
       "      <td>1</td>\n",
       "      <td>106</td>\n",
       "      <td>46</td>\n",
       "      <td>607</td>\n",
       "      <td>7</td>\n",
       "      <td>50.982643</td>\n",
       "      <td>42.49</td>\n",
       "    </tr>\n",
       "    <tr>\n",
       "      <td>2</td>\n",
       "      <td>82</td>\n",
       "      <td>32</td>\n",
       "      <td>368</td>\n",
       "      <td>9</td>\n",
       "      <td>30.281616</td>\n",
       "      <td>33.12</td>\n",
       "    </tr>\n",
       "    <tr>\n",
       "      <td>3</td>\n",
       "      <td>64</td>\n",
       "      <td>44</td>\n",
       "      <td>877</td>\n",
       "      <td>8</td>\n",
       "      <td>53.852265</td>\n",
       "      <td>70.16</td>\n",
       "    </tr>\n",
       "    <tr>\n",
       "      <td>4</td>\n",
       "      <td>102</td>\n",
       "      <td>23</td>\n",
       "      <td>884</td>\n",
       "      <td>8</td>\n",
       "      <td>99.859100</td>\n",
       "      <td>70.72</td>\n",
       "    </tr>\n",
       "  </tbody>\n",
       "</table>\n",
       "</div>"
      ],
      "text/plain": [
       "   avg_speed  number_stop  distance  fuel_consumption  total_fuel  f_cons_pure\n",
       "0         62           50       987                11   80.601065       108.57\n",
       "1        106           46       607                 7   50.982643        42.49\n",
       "2         82           32       368                 9   30.281616        33.12\n",
       "3         64           44       877                 8   53.852265        70.16\n",
       "4        102           23       884                 8   99.859100        70.72"
      ]
     },
     "execution_count": 143,
     "metadata": {},
     "output_type": "execute_result"
    }
   ],
   "source": [
    "# Создаем новый признак\n",
    "data['f_cons_pure'] = data['distance'] * data['fuel_consumption']/100\n",
    "data.head(5)"
   ]
  },
  {
   "cell_type": "code",
   "execution_count": 144,
   "metadata": {},
   "outputs": [
    {
     "name": "stdout",
     "output_type": "stream",
     "text": [
      "Weights: [ 0.97798505 -1.50321405  0.00272677 -1.39116667  1.42873716]\n",
      "Bias: -40.76715031379278\n",
      "Error, %: 26.38353042958248\n"
     ]
    }
   ],
   "source": [
    "X = data[['avg_speed', 'number_stop', 'distance', 'fuel_consumption', 'f_cons_pure']]\n",
    "y = data['total_fuel']\n",
    "reg = LinearRegression().fit(X, y)\n",
    "print('Weights: {}'.format(reg.coef_))\n",
    "print('Bias: {}'.format(reg.intercept_))\n",
    "\n",
    "pred_values = reg.predict(X)\n",
    "print('Error, %: {}'.format(mean_absolute_error(pred_values, y)*100/data.total_fuel.mean()))\n",
    "\n",
    "#снова результат так себе"
   ]
  },
  {
   "cell_type": "code",
   "execution_count": 145,
   "metadata": {},
   "outputs": [
    {
     "name": "stdout",
     "output_type": "stream",
     "text": [
      "Weights: [1.37340641]\n",
      "Bias: -11.470380391969499\n",
      "Error, %: 30.719750860364858\n"
     ]
    }
   ],
   "source": [
    "# попробуем обучиться только на новом столбце\n",
    "\n",
    "X = data[['f_cons_pure']]\n",
    "y = data['total_fuel']\n",
    "reg = LinearRegression().fit(X, y)\n",
    "print('Weights: {}'.format(reg.coef_))\n",
    "print('Bias: {}'.format(reg.intercept_))\n",
    "\n",
    "pred_values = reg.predict(X)\n",
    "print('Error, %: {}'.format(mean_absolute_error(pred_values, y)*100/data.total_fuel.mean()))\n",
    "\n",
    "#снова результат так себе"
   ]
  },
  {
   "cell_type": "code",
   "execution_count": 146,
   "metadata": {},
   "outputs": [
    {
     "name": "stdout",
     "output_type": "stream",
     "text": [
      "Weights: [ 1.17520441 -1.50991715  0.02578578]\n",
      "Bias: 24.63255123228234\n",
      "Error, %: 31.9155377048291\n"
     ]
    }
   ],
   "source": [
    "# добавим дистанцию\n",
    "\n",
    "X = data[['f_cons_pure', 'number_stop', 'distance']]\n",
    "y = data['total_fuel']\n",
    "reg = LinearRegression().fit(X, y)\n",
    "print('Weights: {}'.format(reg.coef_))\n",
    "print('Bias: {}'.format(reg.intercept_))\n",
    "\n",
    "pred_values = reg.predict(X)\n",
    "print('Error, %: {}'.format(mean_absolute_error(pred_values, y)*100/data.total_fuel.mean()))\n",
    "\n",
    "#снова результат так себе"
   ]
  },
  {
   "cell_type": "code",
   "execution_count": 147,
   "metadata": {},
   "outputs": [
    {
     "data": {
      "text/html": [
       "<div>\n",
       "<style scoped>\n",
       "    .dataframe tbody tr th:only-of-type {\n",
       "        vertical-align: middle;\n",
       "    }\n",
       "\n",
       "    .dataframe tbody tr th {\n",
       "        vertical-align: top;\n",
       "    }\n",
       "\n",
       "    .dataframe thead th {\n",
       "        text-align: right;\n",
       "    }\n",
       "</style>\n",
       "<table border=\"1\" class=\"dataframe\">\n",
       "  <thead>\n",
       "    <tr style=\"text-align: right;\">\n",
       "      <th></th>\n",
       "      <th>avg_speed</th>\n",
       "      <th>number_stop</th>\n",
       "      <th>distance</th>\n",
       "      <th>fuel_consumption</th>\n",
       "      <th>total_fuel</th>\n",
       "      <th>f_cons_pure</th>\n",
       "      <th>mult</th>\n",
       "    </tr>\n",
       "  </thead>\n",
       "  <tbody>\n",
       "    <tr>\n",
       "      <td>0</td>\n",
       "      <td>62</td>\n",
       "      <td>50</td>\n",
       "      <td>987</td>\n",
       "      <td>11</td>\n",
       "      <td>80.601065</td>\n",
       "      <td>108.57</td>\n",
       "      <td>33656700</td>\n",
       "    </tr>\n",
       "    <tr>\n",
       "      <td>1</td>\n",
       "      <td>106</td>\n",
       "      <td>46</td>\n",
       "      <td>607</td>\n",
       "      <td>7</td>\n",
       "      <td>50.982643</td>\n",
       "      <td>42.49</td>\n",
       "      <td>20718124</td>\n",
       "    </tr>\n",
       "    <tr>\n",
       "      <td>2</td>\n",
       "      <td>82</td>\n",
       "      <td>32</td>\n",
       "      <td>368</td>\n",
       "      <td>9</td>\n",
       "      <td>30.281616</td>\n",
       "      <td>33.12</td>\n",
       "      <td>8690688</td>\n",
       "    </tr>\n",
       "    <tr>\n",
       "      <td>3</td>\n",
       "      <td>64</td>\n",
       "      <td>44</td>\n",
       "      <td>877</td>\n",
       "      <td>8</td>\n",
       "      <td>53.852265</td>\n",
       "      <td>70.16</td>\n",
       "      <td>19757056</td>\n",
       "    </tr>\n",
       "    <tr>\n",
       "      <td>4</td>\n",
       "      <td>102</td>\n",
       "      <td>23</td>\n",
       "      <td>884</td>\n",
       "      <td>8</td>\n",
       "      <td>99.859100</td>\n",
       "      <td>70.72</td>\n",
       "      <td>16590912</td>\n",
       "    </tr>\n",
       "  </tbody>\n",
       "</table>\n",
       "</div>"
      ],
      "text/plain": [
       "   avg_speed  number_stop  distance  fuel_consumption  total_fuel  \\\n",
       "0         62           50       987                11   80.601065   \n",
       "1        106           46       607                 7   50.982643   \n",
       "2         82           32       368                 9   30.281616   \n",
       "3         64           44       877                 8   53.852265   \n",
       "4        102           23       884                 8   99.859100   \n",
       "\n",
       "   f_cons_pure      mult  \n",
       "0       108.57  33656700  \n",
       "1        42.49  20718124  \n",
       "2        33.12   8690688  \n",
       "3        70.16  19757056  \n",
       "4        70.72  16590912  "
      ]
     },
     "execution_count": 147,
     "metadata": {},
     "output_type": "execute_result"
    }
   ],
   "source": [
    "# перемножим все признаки\n",
    "data['mult'] = data['distance'] * data['fuel_consumption']*data['avg_speed'] * data['number_stop']\n",
    "data.head(5)"
   ]
  },
  {
   "cell_type": "code",
   "execution_count": 148,
   "metadata": {},
   "outputs": [
    {
     "name": "stdout",
     "output_type": "stream",
     "text": [
      "Weights: [6.57518945e-07]\n",
      "Bias: 62.78820306422364\n",
      "Error, %: 49.42920460441576\n"
     ]
    }
   ],
   "source": [
    "# снова строим модельку\n",
    "\n",
    "X = data[['mult']]\n",
    "y = data['total_fuel']\n",
    "reg = LinearRegression().fit(X, y)\n",
    "print('Weights: {}'.format(reg.coef_))\n",
    "print('Bias: {}'.format(reg.intercept_))\n",
    "\n",
    "pred_values = reg.predict(X)\n",
    "print('Error, %: {}'.format(mean_absolute_error(pred_values, y)*100/data.total_fuel.mean()))\n",
    "\n",
    "#снова результат так себе"
   ]
  },
  {
   "cell_type": "code",
   "execution_count": 149,
   "metadata": {},
   "outputs": [
    {
     "data": {
      "text/plain": [
       "<matplotlib.axes._subplots.AxesSubplot at 0x273a248e108>"
      ]
     },
     "execution_count": 149,
     "metadata": {},
     "output_type": "execute_result"
    },
    {
     "data": {
      "image/png": "[encoded data removed]",
      "text/plain": [
       "<Figure size 432x288 with 1 Axes>"
      ]
     },
     "metadata": {
      "needs_background": "light"
     },
     "output_type": "display_data"
    }
   ],
   "source": [
    "# построим визуализацию того, что казалось бы, должно работать\n",
    "import seaborn as sns\n",
    "sns.regplot(x=data['mult'], y=data['total_fuel'], data=data, fit_reg=True)\n",
    "# видим выбросы"
   ]
  },
  {
   "cell_type": "code",
   "execution_count": 150,
   "metadata": {},
   "outputs": [],
   "source": [
    "# убираем выбросы\n",
    "datanew = data.loc[data['total_fuel'] < 200]"
   ]
  },
  {
   "cell_type": "code",
   "execution_count": 151,
   "metadata": {},
   "outputs": [
    {
     "data": {
      "text/plain": [
       "<matplotlib.axes._subplots.AxesSubplot at 0x273a24eb5c8>"
      ]
     },
     "execution_count": 151,
     "metadata": {},
     "output_type": "execute_result"
    },
    {
     "data": {
      "image/png": "[encoded data removed]",
      "text/plain": [
       "<Figure size 432x288 with 1 Axes>"
      ]
     },
     "metadata": {
      "needs_background": "light"
     },
     "output_type": "display_data"
    }
   ],
   "source": [
    "# построим визуализацию того, что осталось\n",
    "import seaborn as sns\n",
    "sns.regplot(x=datanew['mult'], y=datanew['total_fuel'], data=datanew, fit_reg=True)"
   ]
  },
  {
   "cell_type": "code",
   "execution_count": 152,
   "metadata": {},
   "outputs": [
    {
     "data": {
      "text/plain": [
       "<matplotlib.axes._subplots.AxesSubplot at 0x273a25546c8>"
      ]
     },
     "execution_count": 152,
     "metadata": {},
     "output_type": "execute_result"
    },
    {
     "data": {
      "image/png": "[encoded data removed]",
      "text/plain": [
       "<Figure size 432x288 with 1 Axes>"
      ]
     },
     "metadata": {
      "needs_background": "light"
     },
     "output_type": "display_data"
    }
   ],
   "source": [
    "# попробуем с другим параметром\n",
    "import seaborn as sns\n",
    "sns.regplot(x=datanew['f_cons_pure'], y=datanew['total_fuel'], data=datanew, fit_reg=True)"
   ]
  },
  {
   "cell_type": "code",
   "execution_count": 153,
   "metadata": {},
   "outputs": [
    {
     "name": "stdout",
     "output_type": "stream",
     "text": [
      "Weights: [1.15586958]\n",
      "Bias: -4.498693569479968\n",
      "Error, %: 23.828376628996796\n"
     ]
    }
   ],
   "source": [
    "# снова строим модельку\n",
    "\n",
    "X = datanew[['f_cons_pure']]\n",
    "y = datanew['total_fuel']\n",
    "reg = LinearRegression().fit(X, y)\n",
    "print('Weights: {}'.format(reg.coef_))\n",
    "print('Bias: {}'.format(reg.intercept_))\n",
    "\n",
    "pred_values = reg.predict(X)\n",
    "print('Error, %: {}'.format(mean_absolute_error(pred_values, y)*100/datanew.total_fuel.mean()))\n",
    "\n",
    "#результат заметно лучше"
   ]
  },
  {
   "cell_type": "code",
   "execution_count": 154,
   "metadata": {},
   "outputs": [
    {
     "name": "stderr",
     "output_type": "stream",
     "text": [
      "C:\\Users\\User\\Anaconda3\\lib\\site-packages\\ipykernel_launcher.py:3: SettingWithCopyWarning: \n",
      "A value is trying to be set on a copy of a slice from a DataFrame.\n",
      "Try using .loc[row_indexer,col_indexer] = value instead\n",
      "\n",
      "See the caveats in the documentation: http://pandas.pydata.org/pandas-docs/stable/user_guide/indexing.html#returning-a-view-versus-a-copy\n",
      "  This is separate from the ipykernel package so we can avoid doing imports until\n"
     ]
    },
    {
     "data": {
      "text/html": [
       "<div>\n",
       "<style scoped>\n",
       "    .dataframe tbody tr th:only-of-type {\n",
       "        vertical-align: middle;\n",
       "    }\n",
       "\n",
       "    .dataframe tbody tr th {\n",
       "        vertical-align: top;\n",
       "    }\n",
       "\n",
       "    .dataframe thead th {\n",
       "        text-align: right;\n",
       "    }\n",
       "</style>\n",
       "<table border=\"1\" class=\"dataframe\">\n",
       "  <thead>\n",
       "    <tr style=\"text-align: right;\">\n",
       "      <th></th>\n",
       "      <th>avg_speed</th>\n",
       "      <th>number_stop</th>\n",
       "      <th>distance</th>\n",
       "      <th>fuel_consumption</th>\n",
       "      <th>total_fuel</th>\n",
       "      <th>f_cons_pure</th>\n",
       "      <th>mult</th>\n",
       "      <th>fcp_sp</th>\n",
       "    </tr>\n",
       "  </thead>\n",
       "  <tbody>\n",
       "    <tr>\n",
       "      <td>0</td>\n",
       "      <td>62</td>\n",
       "      <td>50</td>\n",
       "      <td>987</td>\n",
       "      <td>11</td>\n",
       "      <td>80.601065</td>\n",
       "      <td>108.57</td>\n",
       "      <td>33656700</td>\n",
       "      <td>6731.34</td>\n",
       "    </tr>\n",
       "    <tr>\n",
       "      <td>1</td>\n",
       "      <td>106</td>\n",
       "      <td>46</td>\n",
       "      <td>607</td>\n",
       "      <td>7</td>\n",
       "      <td>50.982643</td>\n",
       "      <td>42.49</td>\n",
       "      <td>20718124</td>\n",
       "      <td>4503.94</td>\n",
       "    </tr>\n",
       "    <tr>\n",
       "      <td>2</td>\n",
       "      <td>82</td>\n",
       "      <td>32</td>\n",
       "      <td>368</td>\n",
       "      <td>9</td>\n",
       "      <td>30.281616</td>\n",
       "      <td>33.12</td>\n",
       "      <td>8690688</td>\n",
       "      <td>2715.84</td>\n",
       "    </tr>\n",
       "    <tr>\n",
       "      <td>3</td>\n",
       "      <td>64</td>\n",
       "      <td>44</td>\n",
       "      <td>877</td>\n",
       "      <td>8</td>\n",
       "      <td>53.852265</td>\n",
       "      <td>70.16</td>\n",
       "      <td>19757056</td>\n",
       "      <td>4490.24</td>\n",
       "    </tr>\n",
       "    <tr>\n",
       "      <td>4</td>\n",
       "      <td>102</td>\n",
       "      <td>23</td>\n",
       "      <td>884</td>\n",
       "      <td>8</td>\n",
       "      <td>99.859100</td>\n",
       "      <td>70.72</td>\n",
       "      <td>16590912</td>\n",
       "      <td>7213.44</td>\n",
       "    </tr>\n",
       "  </tbody>\n",
       "</table>\n",
       "</div>"
      ],
      "text/plain": [
       "   avg_speed  number_stop  distance  fuel_consumption  total_fuel  \\\n",
       "0         62           50       987                11   80.601065   \n",
       "1        106           46       607                 7   50.982643   \n",
       "2         82           32       368                 9   30.281616   \n",
       "3         64           44       877                 8   53.852265   \n",
       "4        102           23       884                 8   99.859100   \n",
       "\n",
       "   f_cons_pure      mult   fcp_sp  \n",
       "0       108.57  33656700  6731.34  \n",
       "1        42.49  20718124  4503.94  \n",
       "2        33.12   8690688  2715.84  \n",
       "3        70.16  19757056  4490.24  \n",
       "4        70.72  16590912  7213.44  "
      ]
     },
     "execution_count": 154,
     "metadata": {},
     "output_type": "execute_result"
    }
   ],
   "source": [
    "# попробуем учесть среднюю скорость, как теоретически важный фактор\n",
    "\n",
    "datanew['fcp_sp'] = datanew['f_cons_pure'] * datanew['avg_speed']\n",
    "datanew.head(5)\n",
    "\n",
    "# прошу преподавателя пояснить что это за ошибка (на данные вроде бы не влияет)"
   ]
  },
  {
   "cell_type": "code",
   "execution_count": 156,
   "metadata": {},
   "outputs": [
    {
     "name": "stdout",
     "output_type": "stream",
     "text": [
      "Weights: [0.24586058 0.01204662]\n",
      "Bias: -6.695153638094581\n",
      "Error, %: 14.781421352221667\n"
     ]
    }
   ],
   "source": [
    "# снова строим модельку\n",
    "\n",
    "X = datanew[['f_cons_pure', 'fcp_sp']]\n",
    "y = datanew['total_fuel']\n",
    "reg = LinearRegression().fit(X, y)\n",
    "print('Weights: {}'.format(reg.coef_))\n",
    "print('Bias: {}'.format(reg.intercept_))\n",
    "\n",
    "pred_values = reg.predict(X)\n",
    "print('Error, %: {}'.format(mean_absolute_error(pred_values, y)*100/data.total_fuel.mean()))\n",
    "\n",
    "#результат ещё лучше, и вполне приемлем для промышленного испоьзования (погрешность в расходе 15% вполне допустима)\n"
   ]
  }
 ],
 "metadata": {
  "kernelspec": {
   "display_name": "Python 3",
   "language": "python",
   "name": "python3"
  },
  "language_info": {
   "codemirror_mode": {
    "name": "ipython",
    "version": 3
   },
   "file_extension": ".py",
   "mimetype": "text/x-python",
   "name": "python",
   "nbconvert_exporter": "python",
   "pygments_lexer": "ipython3",
   "version": "3.7.4"
  }
 },
 "nbformat": 4,
 "nbformat_minor": 2
}
