{
 "cells": [
  {
   "cell_type": "markdown",
   "metadata": {},
   "source": [
    "**Задание 1.** Напишите функцию, которая принимает на вход строку и проверяет является ли она валидным транспортным номером. Если да, то функция должна возвращать отдельно номер и регион."
   ]
  },
  {
   "cell_type": "code",
   "execution_count": 10,
   "metadata": {},
   "outputs": [
    {
     "data": {
      "text/plain": [
       "['Госномер не соответствует формату']"
      ]
     },
     "execution_count": 10,
     "metadata": {},
     "output_type": "execute_result"
    }
   ],
   "source": [
    "import re\n",
    "\n",
    "regex_regno = '[АВЕКМНОРСТУХ]\\d{3}(?<!000)[АВЕКМНОРСТУХ]{2}\\d{2,3}'\n",
    "\n",
    "def regno(regno):\n",
    "    num_reg = []\n",
    "    if re.match(regex_regno, regno):\n",
    "        #print('Госномер {} правильный'.format(regno))\n",
    "        num_reg.append(regno[0:6])\n",
    "        num_reg.append(regno[6:])\n",
    "    else:\n",
    "        #Думаю, разработчику, который будет работать с этим, будет удобнее получать ответы в одном формате\n",
    "        num_reg.append('Госномер не соответствует формату')\n",
    "    return num_reg\n",
    "        \n",
    "regno('Х453РР750')"
   ]
  },
  {
   "cell_type": "markdown",
   "metadata": {},
   "source": [
    "**Задание 2**. Напишите функцию, которая проверяет e-mail адрес на валидность по стандарту RFC822: http://www.w3.org/Protocols/rfc822/. Для этого постарайтесь написать (в крайнем случае найти) самый полный шаблон для проверки e-mail адресов через регулярное выражение. Разберитесь и напишите примеры, какие ваш шаблон может не охватить."
   ]
  },
  {
   "cell_type": "code",
   "execution_count": 15,
   "metadata": {},
   "outputs": [
    {
     "data": {
      "text/plain": [
       "<re.Match object; span=(0, 28), match='test.test.te_st@mail.mail.ru'>"
      ]
     },
     "execution_count": 15,
     "metadata": {},
     "output_type": "execute_result"
    }
   ],
   "source": [
    "regex_mail = ('([a-z0-9_-]+\\.)*[a-z0-9_-]+@[a-z0-9_-]+(\\.[a-z0-9_-]+)*\\.[a-z]{2,6}')\n",
    "\n",
    "re.search(regex_mail, 'test.test.te_st@mail.mail.ru')\n",
    "\n",
    "#Думаю, адреса на локальных доменах вида test@test могут не попасть, но ни разу не встречал, чтобы ими кто то пользовался"
   ]
  },
  {
   "cell_type": "markdown",
   "metadata": {},
   "source": [
    "**Задание 3.** Напишите функцию, которая будет удалять все последовательные повторы слов из заданной строки при помощи регулярных выражений."
   ]
  },
  {
   "cell_type": "code",
   "execution_count": 88,
   "metadata": {},
   "outputs": [
    {
     "data": {
      "text/plain": [
       "'осталосьраз повтор слово осталосьдва'"
      ]
     },
     "execution_count": 88,
     "metadata": {},
     "output_type": "execute_result"
    }
   ],
   "source": [
    "words = 'осталосьраз повтор повтор слово слово осталосьдва'\n",
    "\n",
    "def doublewords(words):\n",
    "    clean_words = re.sub(r'(\\w+)\\s+\\1', r'\\1', words)\n",
    "    return clean_words\n",
    "\n",
    "doublewords(words)"
   ]
  },
  {
   "cell_type": "markdown",
   "metadata": {},
   "source": [
    "**Задание 4**. Напишите функцию, которая будет проверять номер сотового телефона на валидность, если он валиден, то переводить его в формат:   \n",
    "+7(xxx)-xxx-xx-xx  \n",
    "Постарайтесь предусмотреть как можно больше адекватных форматов изначального ввода номера.\n",
    "Примеры валидных форматов:\n",
    "- +7 955 555-55-55;\n",
    "- 9555555555;\n",
    "- 8(955)555-55-55;\n",
    "- +7 955 555 55 55;\n",
    "- 7(955) 555-55-55;\n",
    "- +7 955+555+55+55."
   ]
  },
  {
   "cell_type": "code",
   "execution_count": 175,
   "metadata": {},
   "outputs": [
    {
     "data": {
      "text/plain": [
       "'+7(123)456-78-999'"
      ]
     },
     "execution_count": 175,
     "metadata": {},
     "output_type": "execute_result"
    }
   ],
   "source": [
    "def cleanphone (phone):\n",
    "    #оставляем в номере только цифры, так проще будет проверять валидность\n",
    "    clean_phone = re.sub(r'(\\D+)', r'', phone)\n",
    "    rexexp_phone = '[+7|7|8|9](\\d{10})'\n",
    "    if re.match(rexexp_phone, clean_phone):\n",
    "        #print('Номер {} правильный'.format(phone))\n",
    "        final_phone = '+7(' + clean_phone[-11:-8] + ')' + clean_phone[-8:-5] + '-' + clean_phone[-5:-3] + '-' + clean_phone[-3:]\n",
    "        return final_phone\n",
    "    else:\n",
    "        print('Номер {} неправильный'.format(phone))\n",
    "        return 'Номер не соответствует формату'\n",
    "\n",
    "cleanphone ('+7 123+456+789+99') "
   ]
  }
 ],
 "metadata": {
  "kernelspec": {
   "display_name": "Python 3",
   "language": "python",
   "name": "python3"
  },
  "language_info": {
   "codemirror_mode": {
    "name": "ipython",
    "version": 3
   },
   "file_extension": ".py",
   "mimetype": "text/x-python",
   "name": "python",
   "nbconvert_exporter": "python",
   "pygments_lexer": "ipython3",
   "version": "3.7.4"
  }
 },
 "nbformat": 4,
 "nbformat_minor": 2
}
