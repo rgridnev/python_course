{
 "cells": [
  {
   "cell_type": "markdown",
   "metadata": {},
   "source": [
    "**Задание 1**. Даны 2 строки: *long_phrase* и *short_phrase*. \n",
    "Напишите код, который проверяет действительно ли длинная фраза *long_phrase* длиннее короткой *short_phrase*. И выводит *True* или *False* в зависимости от результата сравнения."
   ]
  },
  {
   "cell_type": "code",
   "execution_count": 2,
   "metadata": {},
   "outputs": [],
   "source": [
    "long_phrase = 'Насколько проще было бы писать программы, если бы не заказчики'\n",
    "short_phrase = '640Кб должно хватить для любых задач. Билл Гейтс (по легенде)'"
   ]
  },
  {
   "cell_type": "code",
   "execution_count": 3,
   "metadata": {},
   "outputs": [
    {
     "data": {
      "text/plain": [
       "True"
      ]
     },
     "execution_count": 3,
     "metadata": {},
     "output_type": "execute_result"
    }
   ],
   "source": [
    "len(long_phrase)>len(short_phrase)"
   ]
  },
  {
   "cell_type": "markdown",
   "metadata": {},
   "source": [
    "**Задание 2**. Дано значение объема файла в байтах (*В мегабайте 2^20 байт*). Напишите перевод этого значения в мегабайты в формате: \"*Объем файла равен 213.68Mb*\"."
   ]
  },
  {
   "cell_type": "code",
   "execution_count": 6,
   "metadata": {},
   "outputs": [
    {
     "name": "stdout",
     "output_type": "stream",
     "text": [
      "Введите размер в байтах 2000000000\n",
      "Объем файла равен  1907.35  Mb\n"
     ]
    }
   ],
   "source": [
    "bytes=int(input('Введите размер в байтах '))\n",
    "Mbytes=round(bytes/(2**20), 2)\n",
    "print('Объем файла равен ',Mbytes,' Mb')"
   ]
  },
  {
   "cell_type": "markdown",
   "metadata": {},
   "source": [
    "**Задание 3**. Разработать приложение для определения знака зодиака по дате рождения. Пример:\n",
    "\n",
    "Введите месяц: март\n",
    "\n",
    "Введите число: 6\n",
    "\n",
    "Вывод:\n",
    "Рыбы"
   ]
  },
  {
   "cell_type": "code",
   "execution_count": 21,
   "metadata": {},
   "outputs": [
    {
     "name": "stdout",
     "output_type": "stream",
     "text": [
      "Введите месяц: май\n",
      "Введите день: 24\n",
      "Близнецы\n"
     ]
    }
   ],
   "source": [
    "month=input('Введите месяц: ')\n",
    "day=int(input('Введите день: '))\n",
    "if month=='январь':\n",
    "    if 21 <= day <= 31:\n",
    "        zodiac='Водолей'\n",
    "    elif 1 <= day <= 20:\n",
    "        zodiac='Козерог'\n",
    "    else:\n",
    "        print('Ошибка ввода дня')\n",
    "elif month=='февраль':\n",
    "    if 1 <= day <= 18:\n",
    "        zodiac='Водолей'\n",
    "    elif 19 <= day <= 29:\n",
    "        zodiac='Рыбы'\n",
    "    else:\n",
    "        print('Ошибка ввода дня')\n",
    "elif month=='март':\n",
    "    if 1 <= day <= 20:\n",
    "        zodiac='Рыбы'\n",
    "    elif 21 <= day <= 31:\n",
    "        zodiac='Овен'\n",
    "    else:\n",
    "        print('Ошибка ввода дня')\n",
    "elif month=='апрель':\n",
    "    if 1 <= day <= 19:\n",
    "        zodiac='Овен'\n",
    "    elif 20 <= day <= 30:\n",
    "        zodiac='Телец'\n",
    "    else:\n",
    "        print('Ошибка ввода дня')\n",
    "elif month=='май':\n",
    "    if 1 <= day <= 20:\n",
    "        zodiac='Телец'\n",
    "    elif 21 <= day <= 31:\n",
    "        zodiac='Близнецы'\n",
    "    else:\n",
    "        print('Ошибка ввода дня')\n",
    "elif month=='июнь':\n",
    "    if 1 <= day <= 21:\n",
    "        zodiac='Близнецы'\n",
    "    elif 22 <= day <= 30:\n",
    "        zodiac='Рак'\n",
    "    else:\n",
    "        print('Ошибка ввода дня')\n",
    "elif month=='июль':\n",
    "    if 1 <= day <= 22:\n",
    "        zodiac='Рак'\n",
    "    elif 23 <= day <= 31:\n",
    "        zodiac='Лев'\n",
    "    else:\n",
    "        print('Ошибка ввода дня')\n",
    "elif month=='август':\n",
    "    if 1 <= day <= 22:\n",
    "        zodiac='Лев'\n",
    "    elif 23 <= day <= 31:\n",
    "        zodiac='Дева'\n",
    "    else:\n",
    "        print('Ошибка ввода дня')\n",
    "elif month=='сентябрь':\n",
    "    if 1 <= day <= 22:\n",
    "        zodiac='Дева'\n",
    "    elif 23 <= day <= 30:\n",
    "        zodiac='Весы'\n",
    "    else:\n",
    "        print('Ошибка ввода дня')\n",
    "elif month=='октябрь':\n",
    "    if 1 <= day <= 23:\n",
    "        zodiac='Весы'\n",
    "    elif 24 <= day <= 30:\n",
    "        zodiac='Скорпион'\n",
    "    else:\n",
    "        print('Ошибка ввода дня')\n",
    "elif month=='ноябрь':\n",
    "    if 1 <= day <= 22:\n",
    "        zodiac='Скорпион'\n",
    "    elif 23 <= day <= 30:\n",
    "        zodiac='Стрелец'\n",
    "    else:\n",
    "        print('Ошибка ввода дня')\n",
    "elif month=='декабрь':\n",
    "    if 1 <= day <= 21:\n",
    "        zodiac='Стрелец'\n",
    "    elif 22 <= day <= 31:\n",
    "        zodiac='Козерог'\n",
    "    else:\n",
    "        print('Ошибка ввода дня')\n",
    "else:\n",
    "    print('Ошибка ввода месяца. Не забывайте, что месяц необходимо вводить целиком, на русском языке, и с маленькой буквы')\n",
    "print(zodiac)"
   ]
  },
  {
   "cell_type": "markdown",
   "metadata": {},
   "source": [
    "**Задание 4**. Нужно разработать приложение для финансового планирования.\n",
    "Приложение учитывает сколько уходит на ипотеку, \"на жизнь\" и сколько нужно отложить на пенсию.\n",
    "Пользователь вводит:\n",
    "- заработанную плату в месяц.\n",
    "- сколько процентов от ЗП уходит на ипотеку.\n",
    "- сколько процентов от ЗП уходит \"на жизнь\".\n",
    "- сколько раз приходит премия в год.\n",
    "\n",
    "Остальная часть заработанной платы откладывается на пенсию.\n",
    "\n",
    "Также пользователю приходит премия в размере зарплаты, от которой половина уходит на отпуск, а вторая половина откладывается.\n",
    "\n",
    "Программа должна учитывать сколько премий было в год.\n",
    "\n",
    "Нужно вывести сколько денег тратит пользователь на ипотеку и сколько он накопит за год.\n",
    "\n",
    "Пример:\n",
    "\n",
    "Введите заработанную плату в месяц: 100000\n",
    "\n",
    "Введите сколько процентов уходит на ипотеку: 30\n",
    "\n",
    "Введите сколько процентов уходит на жизнь: 50\n",
    "\n",
    "Введите количество премий за год: 2\n",
    "\n",
    "Вывод:\n",
    "На ипотеку было потрачено: 360000 рублей\n",
    "Было накоплено: 340000 рублей"
   ]
  },
  {
   "cell_type": "code",
   "execution_count": 22,
   "metadata": {},
   "outputs": [
    {
     "name": "stdout",
     "output_type": "stream",
     "text": [
      "Введите вашу зарплату: 10000\n",
      "Сколько процентов уходит на ипотеку? 10\n",
      "Сколько процентов уходит на жизнь? 10\n",
      "Сколько раз в год приходит премиия? Если не приходит - введите 0. 2\n",
      "Вывод: на ипотеку было потрачено:  12000.0  рублей. Было накоплено:  18000.0  рублей.\n"
     ]
    }
   ],
   "source": [
    "salary=int(input('Введите вашу зарплату: '))\n",
    "if salary<0:\n",
    "    print('Ошибка ввода. Вы точно платите своему работодателю?')\n",
    "mortgage=int(input('Сколько процентов уходит на ипотеку? '))/100\n",
    "if mortgage<0 or mortgage>1:\n",
    "    print('Ошибка ввода.')\n",
    "life=int(input('Сколько процентов уходит на жизнь? '))/100\n",
    "if life<0 or (life+mortgage)>1:\n",
    "    print('Ошибка ввода.')\n",
    "premium=int(input('Сколько раз в год приходит премиия? Если не приходит - введите 0. '))\n",
    "if premium<0:\n",
    "    print('Ошибка ввода.')\n",
    "    \n",
    "accumulation=(salary-salary*(life+mortgage))+salary*premium/2\n",
    "mortgagesum=salary*mortgage*12\n",
    "\n",
    "print('Вывод: на ипотеку было потрачено: ', mortgagesum, ' рублей. Было накоплено: ',accumulation , ' рублей.')"
   ]
  }
 ],
 "metadata": {
  "kernelspec": {
   "display_name": "Python 3",
   "language": "python",
   "name": "python3"
  },
  "language_info": {
   "codemirror_mode": {
    "name": "ipython",
    "version": 3
   },
   "file_extension": ".py",
   "mimetype": "text/x-python",
   "name": "python",
   "nbconvert_exporter": "python",
   "pygments_lexer": "ipython3",
   "version": "3.7.4"
  }
 },
 "nbformat": 4,
 "nbformat_minor": 2
}
