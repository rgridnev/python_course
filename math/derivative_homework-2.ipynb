{
 "cells": [
  {
   "cell_type": "code",
   "execution_count": 6,
   "metadata": {},
   "outputs": [],
   "source": [
    "import numpy as np\n",
    "from scipy.optimize import approx_fprime"
   ]
  },
  {
   "cell_type": "markdown",
   "metadata": {},
   "source": [
    "### Задание 1: \n",
    "Посчитайте частные производные функций\n",
    "(как обычно, необходимо решение на бумажке или в LaTeX и на scipy):"
   ]
  },
  {
   "cell_type": "markdown",
   "metadata": {},
   "source": [
    "1) $f(x,y)=2x^2y^3 + 1/x + y^2x + 7$, а для этой функции также градиент в точке $(1,2)$\n",
    "\n",
    "2) $f(x,y)=x^2y - sin(xy) + cos(x^2) + 6y$"
   ]
  },
  {
   "cell_type": "code",
   "execution_count": null,
   "metadata": {},
   "outputs": [],
   "source": [
    " def partial_derivative(func, var=0, point=[]):\n",
    "        args = point[:] \n",
    "        def wraps(x): \n",
    "            args[var] = x \n",
    "            return func(*args) \n",
    "        return derivative(wraps, point[var], dx = 1e-6) "
   ]
  },
  {
   "cell_type": "code",
   "execution_count": 21,
   "metadata": {},
   "outputs": [],
   "source": [
    "def f1(x, y):\n",
    "    return (2*(x**2)) * y**3 + 1/x + x*y**2 + 7"
   ]
  },
  {
   "cell_type": "code",
   "execution_count": 25,
   "metadata": {},
   "outputs": [
    {
     "name": "stdout",
     "output_type": "stream",
     "text": [
      "35.00000000045134 28.00000000036107\n"
     ]
    }
   ],
   "source": [
    "# собственно, вектор градиента - это и есть две частные производные в точке\n",
    "print (partial_derivative(f1, 0, [1,2]), partial_derivative(f1, 1, [1,2]))"
   ]
  },
  {
   "cell_type": "code",
   "execution_count": 28,
   "metadata": {},
   "outputs": [],
   "source": [
    "def f2(x, y): \n",
    "    return((x**2)*y - np.sin(x*y) + np.cos(x**2) + 6*y) "
   ]
  },
  {
   "cell_type": "code",
   "execution_count": 29,
   "metadata": {},
   "outputs": [
    {
     "name": "stdout",
     "output_type": "stream",
     "text": [
      "3.1493517038683194 7.416146836192183\n"
     ]
    }
   ],
   "source": [
    "print (partial_derivative(f2, 0, [1,2]), partial_derivative(f2, 1, [1,2]))"
   ]
  },
  {
   "cell_type": "markdown",
   "metadata": {},
   "source": [
    "### Задание 2:\n",
    "\n",
    "Градиентный спуск своими руками"
   ]
  },
  {
   "cell_type": "code",
   "execution_count": 30,
   "metadata": {},
   "outputs": [],
   "source": [
    "def f(x):\n",
    "    return (x[0]**2) + (x[1]**2) "
   ]
  },
  {
   "cell_type": "code",
   "execution_count": 31,
   "metadata": {},
   "outputs": [],
   "source": [
    "x = np.array([100, 200])\n",
    "learning_rate = 0.1"
   ]
  },
  {
   "cell_type": "code",
   "execution_count": 40,
   "metadata": {},
   "outputs": [],
   "source": [
    "x1 = f(x)\n",
    "for i in range(100):\n",
    "    # Calculate gradient\n",
    "    a = 2*x[0]\n",
    "    b = 2*x[1]\n",
    "    grad = np.array([a, b])# Your code here (функция для вычисления градиента есть в лекционном ноутбуке)\n",
    "    x2 = f(x)\n",
    "    if x2 <= x1:\n",
    "        x1 = f(x)\n",
    "        x = x - learning_rate*grad    \n",
    "    else:\n",
    "        # думаю, тут можно задать нужную степень точности, чтобы цикл не бегал 100 раз, если разниуа между соседними\n",
    "        #значениями минимальна\n",
    "        break"
   ]
  },
  {
   "cell_type": "code",
   "execution_count": 41,
   "metadata": {},
   "outputs": [
    {
     "name": "stdout",
     "output_type": "stream",
     "text": [
      "Минимум достигается в:  [3.50746621e-47 7.01493242e-47]\n",
      "Значение функции в минимуме:  6.151159610805612e-93\n"
     ]
    }
   ],
   "source": [
    "print(\"Минимум достигается в: \", x)\n",
    "print(\"Значение функции в минимуме: \", f(x))"
   ]
  },
  {
   "cell_type": "markdown",
   "metadata": {},
   "source": [
    "Проверка с помощью встроенной функции numpy: "
   ]
  },
  {
   "cell_type": "code",
   "execution_count": 42,
   "metadata": {},
   "outputs": [
    {
     "name": "stdout",
     "output_type": "stream",
     "text": [
      "[0. 0.]\n"
     ]
    }
   ],
   "source": [
    "#градиент между соседними значениями равен нулю, что говорит о том, что найден локальный экстремум.\n",
    "j = np.gradient([x1, x2])\n",
    "print(j)"
   ]
  }
 ],
 "metadata": {
  "kernelspec": {
   "display_name": "Python 3",
   "language": "python",
   "name": "python3"
  },
  "language_info": {
   "codemirror_mode": {
    "name": "ipython",
    "version": 3
   },
   "file_extension": ".py",
   "mimetype": "text/x-python",
   "name": "python",
   "nbconvert_exporter": "python",
   "pygments_lexer": "ipython3",
   "version": "3.7.4"
  }
 },
 "nbformat": 4,
 "nbformat_minor": 2
}
