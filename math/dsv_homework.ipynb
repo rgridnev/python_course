{
 "cells": [
  {
   "cell_type": "markdown",
   "metadata": {},
   "source": [
    "## Уровень 0\n",
    "### Задание 1\n",
    "Монетку подбрасывают 15 раз, найдите вероятность выпадения простого числа орлов (решение на бумажке и на python).\n",
    "\n",
    "### Решение \"на бумажке\":\n",
    "Количество экспериментов (n) - 15. Количество простых чисел от 1 до 15 - 6 (единицу простым числом не считаем, 2,3,5,7,11,13)  \n",
    "\n",
    "Так как броски монет - события независимые (результат броска одной монеты не влияет на последующие броски), вероятность выпадения герба в каждом броске одинакова (и равна p=1/2=0.5), то можно для вычисления вероятности применить формулу Бернулли:\n",
    "\n",
    "p(k) = c*((1/2)**n) = (в нашем случае) с/32768 \n",
    "\n",
    "где c = n!/(k!*(1-k)!)\n",
    "\n",
    "После чего сложим вероятности всех событий:\n",
    "\n",
    "p = (p(2)+p(3)+p(5)+p(7)+p(11)+p(13))/32768 = 105+455+3003+6435+1365+105 = 11468/32768 = 0,35\n"
   ]
  },
  {
   "cell_type": "code",
   "execution_count": null,
   "metadata": {},
   "outputs": [],
   "source": [
    "k = (2,3,5,7,11,13)\n",
    "n = 15\n",
    "csum = 0\n",
    "\n",
    "for i in k:\n",
    "    c = math.factorial(n)/(math.factorial(i)*math.factorial(n-i))\n",
    "    csum += c\n",
    "    \n",
    "p = csum / 2**n\n",
    "\n",
    "p"
   ]
  },
  {
   "cell_type": "code",
   "execution_count": 117,
   "metadata": {},
   "outputs": [
    {
     "data": {
      "text/plain": [
       "0.3499755859375"
      ]
     },
     "execution_count": 117,
     "metadata": {},
     "output_type": "execute_result"
    }
   ],
   "source": [
    "11468/32768"
   ]
  },
  {
   "cell_type": "code",
   "execution_count": 3,
   "metadata": {},
   "outputs": [
    {
     "data": {
      "text/plain": [
       "0.4"
      ]
     },
     "execution_count": 3,
     "metadata": {},
     "output_type": "execute_result"
    }
   ],
   "source": [
    "# на Python вероятность получения одного из множества конкретных исходов размера N при количестве экспериментов X\n",
    "\n",
    "def prob(n, x):\n",
    "    return n/x   \n",
    "\n",
    "prob(6, 15)"
   ]
  },
  {
   "cell_type": "markdown",
   "metadata": {},
   "source": [
    "## Задание 2\n",
    "\n",
    "Создайте свою дискретную случайную величину с не менее, чем 10 значениями. \n",
    "Просемплируйте 1000 случайных значений, постройте гистограмму плотности распределения по выборке, \n",
    "посчитайте среднее, дисперсию и медиану."
   ]
  },
  {
   "cell_type": "code",
   "execution_count": 89,
   "metadata": {},
   "outputs": [],
   "source": [
    "from random import randint\n",
    "\n",
    "i = 0\n",
    "res = []\n",
    "while i < 1000:\n",
    "    res.append(randint(1,10))\n",
    "    i += 1"
   ]
  },
  {
   "cell_type": "code",
   "execution_count": 92,
   "metadata": {},
   "outputs": [
    {
     "data": {
      "image/png": "[encoded data removed]",
      "text/plain": [
       "<Figure size 432x288 with 1 Axes>"
      ]
     },
     "metadata": {
      "needs_background": "light"
     },
     "output_type": "display_data"
    }
   ],
   "source": [
    "import matplotlib.pyplot as plt\n",
    "\n",
    "plt.hist(res)\n",
    "plt.show()"
   ]
  },
  {
   "cell_type": "code",
   "execution_count": 96,
   "metadata": {},
   "outputs": [
    {
     "name": "stdout",
     "output_type": "stream",
     "text": [
      "Среднее:  5.47 Медиана:  5.0 Дисперсия:  8.279099999999998\n"
     ]
    }
   ],
   "source": [
    "import numpy as np\n",
    "\n",
    "print('Среднее: ', np.mean(res), 'Медиана: ', np.median(res), 'Дисперсия: ', np.var(res))"
   ]
  },
  {
   "cell_type": "markdown",
   "metadata": {},
   "source": [
    "## Уровень 1\n",
    "\n",
    "### Задание 3\n",
    "\n",
    "### Задача про 3 монеты\n",
    "Пусть брошены 3 уравновешенные монеты.  \n",
    "Рассмотрим 3 события:  \n",
    "A1 - монеты 1 и 2 упали одной и той же стороной,  \n",
    "A2 - монеты 2 и 3 упали одной и той же стороной,  \n",
    "A3 - монеты 1 и 3 упали одной и той же стороной.  \n",
    "Покажите, почему эти 3 события (A1, A2, A3) являются попарно независимыми, но не являются независимыми в совокупности.  \n",
    "\n",
    "### Объяснение\n",
    "Они будут попано независимыми, так как любое из событий содержит в себе по одному подкидыванию двух монеток. Любое второе событие, по сути, добавляет бросок третьей монеты, никак не зависящий от первых двух. А вот если добавить третье событие - все результаты подбрасываний уже определены, соответсвенно, третье событие неизбежно оказывается зависимым от первых двух.\n",
    "\n",
    "\n",
    "### Задание 4 (формула полной вероятности)\n",
    "В магазин привезли устройства с 3-х разных предприятий. Соотношение устройств следующее: 20% - продукция первого предприятия, 30% - продукция второго предприятия, 50% - продукция третьего предприятия; далее, 10% продукции первого предприятия высшего сорта, на втором предприятии - 5% и на третьем - 20% продукции высшего сорта. Найти вероятность того, что случайно купленная новая продукция окажется высшего сорта."
   ]
  },
  {
   "cell_type": "code",
   "execution_count": 101,
   "metadata": {},
   "outputs": [
    {
     "data": {
      "text/plain": [
       "0.135"
      ]
     },
     "execution_count": 101,
     "metadata": {},
     "output_type": "execute_result"
    }
   ],
   "source": [
    "# Имеем ри независимые вероятности события \"первый сорт\":\n",
    "\n",
    "p1 = 0.1\n",
    "p2 = 0.05\n",
    "p3 = 0.2\n",
    "\n",
    "# вычисляем вероятность события с учётом разного количества товара:\n",
    "\n",
    "x = 0.2 * 0.1 + 0.05 * 0.3 + 0.2 * 0.5\n",
    "x"
   ]
  }
 ],
 "metadata": {
  "kernelspec": {
   "display_name": "Python 3.7.4 64-bit ('base': conda)",
   "language": "python",
   "name": "python37464bitbaseconda5eae52ef982343258f102ad8e7e22d57"
  },
  "language_info": {
   "codemirror_mode": {
    "name": "ipython",
    "version": 3
   },
   "file_extension": ".py",
   "mimetype": "text/x-python",
   "name": "python",
   "nbconvert_exporter": "python",
   "pygments_lexer": "ipython3",
   "version": "3.7.4"
  }
 },
 "nbformat": 4,
 "nbformat_minor": 2
}
