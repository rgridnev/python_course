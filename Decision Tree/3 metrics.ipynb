{
 "cells": [
  {
   "cell_type": "markdown",
   "metadata": {},
   "source": [
    "# Метрики качества классификации"
   ]
  },
  {
   "cell_type": "markdown",
   "metadata": {},
   "source": [
    "## 1. Данные"
   ]
  },
  {
   "cell_type": "code",
   "execution_count": 4,
   "metadata": {
    "ExecuteTime": {
     "end_time": "2020-06-22T05:46:56.125515Z",
     "start_time": "2020-06-22T05:46:56.120662Z"
    }
   },
   "outputs": [],
   "source": [
    "import numpy as np\n",
    "import pandas as pd\n",
    "\n",
    "from matplotlib import pyplot as plt\n",
    "%matplotlib inline\n",
    "import seaborn as sns"
   ]
  },
  {
   "cell_type": "code",
   "execution_count": 5,
   "metadata": {
    "ExecuteTime": {
     "end_time": "2020-06-22T05:46:56.789636Z",
     "start_time": "2020-06-22T05:46:56.786909Z"
    }
   },
   "outputs": [],
   "source": [
    "from sklearn.model_selection import train_test_split"
   ]
  },
  {
   "cell_type": "code",
   "execution_count": 6,
   "metadata": {
    "ExecuteTime": {
     "end_time": "2020-06-22T05:47:01.575387Z",
     "start_time": "2020-06-22T05:47:01.473185Z"
    }
   },
   "outputs": [],
   "source": [
    "X = pd.read_pickle('data/shelter/xtrain.pkl')\n",
    "y = pd.read_csv('data/shelter/train.csv')['OutcomeType']"
   ]
  },
  {
   "cell_type": "markdown",
   "metadata": {},
   "source": [
    "для учебных примеров оставим только 2 класса, отличающихся значительно и по смыслу, и по размеру"
   ]
  },
  {
   "cell_type": "code",
   "execution_count": 7,
   "metadata": {
    "ExecuteTime": {
     "end_time": "2020-06-22T05:47:03.686474Z",
     "start_time": "2020-06-22T05:47:03.675252Z"
    }
   },
   "outputs": [
    {
     "data": {
      "text/plain": [
       "Adoption           10769\n",
       "Transfer            9422\n",
       "Return_to_owner     4786\n",
       "Euthanasia          1555\n",
       "Died                 197\n",
       "Name: OutcomeType, dtype: int64"
      ]
     },
     "execution_count": 7,
     "metadata": {},
     "output_type": "execute_result"
    }
   ],
   "source": [
    "y.value_counts()"
   ]
  },
  {
   "cell_type": "code",
   "execution_count": 8,
   "metadata": {
    "ExecuteTime": {
     "end_time": "2020-06-22T05:47:04.540112Z",
     "start_time": "2020-06-22T05:47:04.530997Z"
    }
   },
   "outputs": [],
   "source": [
    "is_first_2_class = (y=='Adoption')|(y=='Euthanasia')"
   ]
  },
  {
   "cell_type": "code",
   "execution_count": 9,
   "metadata": {
    "ExecuteTime": {
     "end_time": "2020-06-22T05:47:05.300786Z",
     "start_time": "2020-06-22T05:47:05.289972Z"
    }
   },
   "outputs": [],
   "source": [
    "X = X[is_first_2_class]\n",
    "X.index = range(len(X))\n",
    "y = y[is_first_2_class]\n",
    "y.index = range(len(y))"
   ]
  },
  {
   "cell_type": "markdown",
   "metadata": {},
   "source": [
    "y теперь можно перевести в множество {0,1}"
   ]
  },
  {
   "cell_type": "code",
   "execution_count": 10,
   "metadata": {
    "ExecuteTime": {
     "end_time": "2020-06-22T05:47:07.621635Z",
     "start_time": "2020-06-22T05:47:07.616882Z"
    }
   },
   "outputs": [],
   "source": [
    "y = (y=='Adoption').astype(int)"
   ]
  },
  {
   "cell_type": "markdown",
   "metadata": {},
   "source": [
    "для оценки качества разобьём выборки на 2 части, 3:1"
   ]
  },
  {
   "cell_type": "code",
   "execution_count": 11,
   "metadata": {
    "ExecuteTime": {
     "end_time": "2020-06-22T05:47:09.288396Z",
     "start_time": "2020-06-22T05:47:09.272179Z"
    }
   },
   "outputs": [],
   "source": [
    "Xtr, Xval, ytr, yval = train_test_split(X, y, test_size=0.25)"
   ]
  },
  {
   "cell_type": "markdown",
   "metadata": {},
   "source": [
    "-----"
   ]
  },
  {
   "cell_type": "markdown",
   "metadata": {},
   "source": [
    "## 2. Обучим классификатор"
   ]
  },
  {
   "cell_type": "code",
   "execution_count": 12,
   "metadata": {
    "ExecuteTime": {
     "end_time": "2020-06-22T05:47:11.921289Z",
     "start_time": "2020-06-22T05:47:11.894068Z"
    }
   },
   "outputs": [],
   "source": [
    "from sklearn.tree import DecisionTreeClassifier"
   ]
  },
  {
   "cell_type": "code",
   "execution_count": 13,
   "metadata": {
    "ExecuteTime": {
     "end_time": "2020-06-22T05:47:12.308467Z",
     "start_time": "2020-06-22T05:47:12.305608Z"
    }
   },
   "outputs": [],
   "source": [
    "clf = DecisionTreeClassifier(max_depth=5)"
   ]
  },
  {
   "cell_type": "code",
   "execution_count": 14,
   "metadata": {
    "ExecuteTime": {
     "end_time": "2020-06-22T05:47:12.796192Z",
     "start_time": "2020-06-22T05:47:12.771893Z"
    }
   },
   "outputs": [
    {
     "data": {
      "text/plain": [
       "DecisionTreeClassifier(class_weight=None, criterion='gini', max_depth=5,\n",
       "            max_features=None, max_leaf_nodes=None,\n",
       "            min_impurity_decrease=0.0, min_impurity_split=None,\n",
       "            min_samples_leaf=1, min_samples_split=2,\n",
       "            min_weight_fraction_leaf=0.0, presort=False, random_state=None,\n",
       "            splitter='best')"
      ]
     },
     "execution_count": 14,
     "metadata": {},
     "output_type": "execute_result"
    }
   ],
   "source": [
    "clf.fit(Xtr, ytr)"
   ]
  },
  {
   "cell_type": "code",
   "execution_count": 15,
   "metadata": {
    "ExecuteTime": {
     "end_time": "2020-06-22T05:47:14.709290Z",
     "start_time": "2020-06-22T05:47:14.703132Z"
    }
   },
   "outputs": [],
   "source": [
    "yval_pred = clf.predict(Xval)\n",
    "yval_pred_proba = clf.predict_proba(Xval)"
   ]
  },
  {
   "cell_type": "markdown",
   "metadata": {},
   "source": [
    "-----"
   ]
  },
  {
   "cell_type": "markdown",
   "metadata": {},
   "source": [
    "## 3. Написание метрик с нуля"
   ]
  },
  {
   "cell_type": "code",
   "execution_count": 16,
   "metadata": {
    "ExecuteTime": {
     "end_time": "2020-06-22T05:47:17.184728Z",
     "start_time": "2020-06-22T05:47:17.182017Z"
    }
   },
   "outputs": [],
   "source": [
    "from sklearn import metrics"
   ]
  },
  {
   "cell_type": "markdown",
   "metadata": {},
   "source": [
    "-----"
   ]
  },
  {
   "cell_type": "code",
   "execution_count": 37,
   "metadata": {
    "ExecuteTime": {
     "end_time": "2020-06-22T05:48:53.519168Z",
     "start_time": "2020-06-22T05:48:53.510208Z"
    },
    "scrolled": true
   },
   "outputs": [
    {
     "data": {
      "text/plain": [
       "array([[ 247,  158],\n",
       "       [  22, 2654]])"
      ]
     },
     "execution_count": 37,
     "metadata": {},
     "output_type": "execute_result"
    }
   ],
   "source": [
    "metrics.confusion_matrix(yval, yval_pred)"
   ]
  },
  {
   "cell_type": "code",
   "execution_count": 38,
   "metadata": {
    "ExecuteTime": {
     "end_time": "2020-06-22T05:49:39.568544Z",
     "start_time": "2020-06-22T05:49:39.562971Z"
    },
    "scrolled": true
   },
   "outputs": [
    {
     "data": {
      "text/plain": [
       "0.9415774099318404"
      ]
     },
     "execution_count": 38,
     "metadata": {},
     "output_type": "execute_result"
    }
   ],
   "source": [
    "metrics.accuracy_score(yval, yval_pred)"
   ]
  },
  {
   "cell_type": "code",
   "execution_count": 39,
   "metadata": {
    "ExecuteTime": {
     "end_time": "2020-06-22T05:50:01.004347Z",
     "start_time": "2020-06-22T05:50:00.997457Z"
    },
    "scrolled": true
   },
   "outputs": [
    {
     "data": {
      "text/plain": [
       "0.9438122332859175"
      ]
     },
     "execution_count": 39,
     "metadata": {},
     "output_type": "execute_result"
    }
   ],
   "source": [
    "metrics.precision_score(yval, yval_pred)"
   ]
  },
  {
   "cell_type": "code",
   "execution_count": 40,
   "metadata": {
    "ExecuteTime": {
     "end_time": "2020-06-22T05:50:11.664355Z",
     "start_time": "2020-06-22T05:50:11.658026Z"
    }
   },
   "outputs": [
    {
     "data": {
      "text/plain": [
       "0.9917787742899851"
      ]
     },
     "execution_count": 40,
     "metadata": {},
     "output_type": "execute_result"
    }
   ],
   "source": [
    "metrics.recall_score(yval, yval_pred)"
   ]
  },
  {
   "cell_type": "code",
   "execution_count": 32,
   "metadata": {
    "ExecuteTime": {
     "end_time": "2020-06-22T05:47:49.360086Z",
     "start_time": "2020-06-22T05:47:49.347912Z"
    }
   },
   "outputs": [
    {
     "data": {
      "text/plain": [
       "0.9393156360146894"
      ]
     },
     "execution_count": 32,
     "metadata": {},
     "output_type": "execute_result"
    }
   ],
   "source": [
    "metrics.roc_auc_score(yval, yval_pred_proba[:,1])"
   ]
  },
  {
   "cell_type": "code",
   "execution_count": 33,
   "metadata": {
    "ExecuteTime": {
     "end_time": "2020-06-22T05:47:49.582626Z",
     "start_time": "2020-06-22T05:47:49.575435Z"
    },
    "scrolled": true
   },
   "outputs": [
    {
     "data": {
      "text/plain": [
       "0.9853221397582519"
      ]
     },
     "execution_count": 33,
     "metadata": {},
     "output_type": "execute_result"
    }
   ],
   "source": [
    "metrics.average_precision_score(yval, yval_pred_proba[:,1])"
   ]
  },
  {
   "cell_type": "markdown",
   "metadata": {},
   "source": [
    "## Реализовать самостоятельно вывод графика ROC-AUC"
   ]
  },
  {
   "cell_type": "code",
   "execution_count": 41,
   "metadata": {
    "ExecuteTime": {
     "end_time": "2020-06-22T05:51:07.118935Z",
     "start_time": "2020-06-22T05:51:07.112668Z"
    }
   },
   "outputs": [],
   "source": [
    "%matplotlib inline\n",
    "import matplotlib.pyplot as plt"
   ]
  },
  {
   "cell_type": "code",
   "execution_count": 54,
   "metadata": {
    "ExecuteTime": {
     "end_time": "2020-06-22T06:01:51.111329Z",
     "start_time": "2020-06-22T06:01:51.108131Z"
    }
   },
   "outputs": [],
   "source": [
    "def calculate_tpr_and_fpr(y_true, y_pred_probas, alpha):\n",
    "    ## 1. Отнесите  наблюдения к одному  из нескольких классов в зависимости от порога\n",
    "    ## 2. Посчитайте tpr и fpr\n",
    "    \n",
    "    \n",
    "    return tpr, fpr"
   ]
  },
  {
   "cell_type": "code",
   "execution_count": 52,
   "metadata": {
    "ExecuteTime": {
     "end_time": "2020-06-22T06:00:19.820622Z",
     "start_time": "2020-06-22T06:00:19.815878Z"
    }
   },
   "outputs": [],
   "source": [
    "def roc_auc_plot(y_true, y_pred_probas):\n",
    "    alphas = np.arange(0, 1, 0.001)\n",
    "    tprs, fprs = [], []\n",
    "    for a in alphas:\n",
    "        tpr, fpr = calculate_tpr_and_fpr(y_true, y_pred_probas, a)\n",
    "        tprs.append(tpr)\n",
    "        fprs.append(fpr)\n",
    "        \n",
    "    plt.plot(fprs, tprs)\n",
    "    plt.show()"
   ]
  },
  {
   "cell_type": "code",
   "execution_count": 53,
   "metadata": {
    "ExecuteTime": {
     "end_time": "2020-06-22T06:00:21.117954Z",
     "start_time": "2020-06-22T06:00:20.180689Z"
    }
   },
   "outputs": [
    {
     "data": {
      "image/png": "[encoded data removed]",
      "text/plain": [
       "<Figure size 432x288 with 1 Axes>"
      ]
     },
     "metadata": {
      "needs_background": "light"
     },
     "output_type": "display_data"
    }
   ],
   "source": [
    "roc_auc_plot(yval, yval_pred_proba[:, 1])"
   ]
  },
  {
   "cell_type": "code",
   "execution_count": 51,
   "metadata": {
    "ExecuteTime": {
     "end_time": "2020-06-22T06:00:06.280594Z",
     "start_time": "2020-06-22T06:00:06.144530Z"
    }
   },
   "outputs": [
    {
     "data": {
      "image/png": "[encoded data removed]",
      "text/plain": [
       "<Figure size 432x288 with 1 Axes>"
      ]
     },
     "metadata": {
      "needs_background": "light"
     },
     "output_type": "display_data"
    }
   ],
   "source": [
    "## SKLEARN\n",
    "fpr, tpr, _ = metrics.roc_curve(yval,  yval_pred_proba[: ,1])\n",
    "plt.plot(fpr,tpr,label=\"data 1\")\n",
    "plt.legend(loc=4)\n",
    "plt.show()"
   ]
  },
  {
   "cell_type": "code",
   "execution_count": null,
   "metadata": {},
   "outputs": [],
   "source": []
  }
 ],
 "metadata": {
  "kernelspec": {
   "display_name": "Python 3",
   "language": "python",
   "name": "python3"
  },
  "language_info": {
   "codemirror_mode": {
    "name": "ipython",
    "version": 3
   },
   "file_extension": ".py",
   "mimetype": "text/x-python",
   "name": "python",
   "nbconvert_exporter": "python",
   "pygments_lexer": "ipython3",
   "version": "3.7.4"
  }
 },
 "nbformat": 4,
 "nbformat_minor": 2
}
