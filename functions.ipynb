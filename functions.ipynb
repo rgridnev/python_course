{
 "cells": [
  {
   "cell_type": "markdown",
   "metadata": {},
   "source": [
    "Вы работаете секретарем и вам постоянно приходят различные документы. Вы должны быть очень внимательны, чтобы не потерять ни один документ. Каталог документов хранится в следующем виде:"
   ]
  },
  {
   "cell_type": "code",
   "execution_count": 12,
   "metadata": {},
   "outputs": [],
   "source": [
    "documents = [\n",
    "    {'type': 'passport', 'number': '2207 876234', 'name': 'Василий Гупкин'},\n",
    "    {'type': 'invoice', 'number': '11-2', 'name': 'Геннадий Покемонов'},\n",
    "    {'type': 'insurance', 'number': '10006', 'name': 'Аристарх Павлов'}\n",
    "]\n",
    "\n",
    "#documents[1]['name']"
   ]
  },
  {
   "cell_type": "markdown",
   "metadata": {},
   "source": [
    "Перечень полок, на которых находятся документы хранится в следующем виде:"
   ]
  },
  {
   "cell_type": "code",
   "execution_count": 13,
   "metadata": {},
   "outputs": [],
   "source": [
    "directories = {\n",
    "    '1': ['2207 876234', '11-2'],\n",
    "    '2': ['10006'],\n",
    "    '3': []\n",
    "}"
   ]
  },
  {
   "cell_type": "markdown",
   "metadata": {},
   "source": [
    "Необходимо реализовать пользовательские команды (внимание! это не название функций, которые должны быть выразительными, а команды, которые вводит пользователь, чтобы получить необходимый результат):\n",
    "  \n",
    "- p – people – команда, которая спросит номер документа и выведет имя человека, которому он принадлежит;  \n",
    "- s – shelf – команда, которая спросит номер документа и выведет номер полки, на которой он находится  \n",
    "Правильно обработайте ситуацию, когда пользователь будет вводить несуществующий документ.\n",
    "- l – list – команда, которая выведет список всех документов в формате   \n",
    "**passport \"2207 876234\" \"Василий Гупкин\"**  \n",
    "- as – add shelf – команда, которая спросит номер новой полки и добавит ее в перечень\n",
    "- d – delete – команда, которая спросит номер документа и удалит его из каталога и из перечня полок. Предусмотрите сценарий, когда пользователь вводит несуществующий документ;  \n",
    "- m – move – команда, которая спросит номер документа и целевую полку и переместит его с текущей полки на целевую. Корректно обработайте кейсы, когда пользователь пытается переместить несуществующий документ или переместить документ на несуществующую полку;  \n",
    "- a – add – команда, которая добавит новый документ в каталог и в перечень полок, спросив его номер, тип, имя владельца и номер полки, на котором он будет храниться."
   ]
  },
  {
   "cell_type": "code",
   "execution_count": 10,
   "metadata": {},
   "outputs": [
    {
     "data": {
      "text/plain": [
       "1"
      ]
     },
     "execution_count": 10,
     "metadata": {},
     "output_type": "execute_result"
    }
   ],
   "source": [
    "def docfind(docs, doctype, value):\n",
    "    for element in docs:\n",
    "        if element[doctype] == value:\n",
    "                return docs.index(element)\n",
    "\n",
    "        \n",
    "docfind (documents, 'number', '11-2')  "
   ]
  },
  {
   "cell_type": "code",
   "execution_count": 4,
   "metadata": {},
   "outputs": [],
   "source": [
    "def shelffind(dirs, docno):\n",
    "    for key, value in dirs.items():\n",
    "        if docno in value:\n",
    "                return (key, value.index(docno))\n",
    "\n",
    "#shelffind (directories, '11-2')"
   ]
  },
  {
   "cell_type": "code",
   "execution_count": 8,
   "metadata": {},
   "outputs": [
    {
     "name": "stdout",
     "output_type": "stream",
     "text": [
      "Введите номер документа: 11-2\n",
      "Геннадий Покемонов\n"
     ]
    }
   ],
   "source": [
    "def people(docs):\n",
    "    docno = input('Введите номер документа: ')\n",
    "    res = docfind(docs, 'number', docno)\n",
    "    if res != None:\n",
    "        print(docs[res]['name'])\n",
    "    else:\n",
    "        print('Документ не найден')\n",
    "    \n",
    "#people (documents)"
   ]
  },
  {
   "cell_type": "code",
   "execution_count": 13,
   "metadata": {},
   "outputs": [
    {
     "name": "stdout",
     "output_type": "stream",
     "text": [
      "Введите номер документа: 11-2\n",
      "1\n"
     ]
    }
   ],
   "source": [
    "def shelf(dirs):\n",
    "    docno = input('Введите номер документа: ')\n",
    "    res = shelffind(dirs, docno)\n",
    "    if res != None:\n",
    "        print(res[1])\n",
    "    else:\n",
    "        print('Документ не найден')\n",
    "        \n",
    "#shelf (directories)"
   ]
  },
  {
   "cell_type": "code",
   "execution_count": 65,
   "metadata": {},
   "outputs": [
    {
     "name": "stdout",
     "output_type": "stream",
     "text": [
      "passport \"2207 876234\" \"passport\"\n",
      "invoice \"11-2\" \"invoice\"\n",
      "insurance \"10006\" \"insurance\"\n"
     ]
    }
   ],
   "source": [
    "def listdocs(docs):\n",
    "    for element in docs:\n",
    "        doctype = element['type']\n",
    "        docno = element['number']\n",
    "        docname = element['name']\n",
    "        print(f'{doctype} \"{docno}\" \"{doctype}\"')\n",
    "\n",
    "listdocs (documents)"
   ]
  },
  {
   "cell_type": "code",
   "execution_count": 30,
   "metadata": {},
   "outputs": [
    {
     "name": "stdout",
     "output_type": "stream",
     "text": [
      "Введите номер полки: 5\n"
     ]
    }
   ],
   "source": [
    "def addshelf (dirs):\n",
    "    shelfno = input('Введите номер полки: ')\n",
    "    if shelfno in dirs:\n",
    "        return None\n",
    "    else:\n",
    "        dirs[shelfno] = []\n",
    "        print('Полка добавлена успешно')\n",
    "    \n",
    "#addshelf (directories)"
   ]
  },
  {
   "cell_type": "code",
   "execution_count": 14,
   "metadata": {},
   "outputs": [
    {
     "name": "stdout",
     "output_type": "stream",
     "text": [
      "Введите номер документа: 11-2\n",
      "Документ удалён успешно\n"
     ]
    }
   ],
   "source": [
    "def delete(dirs, docs):\n",
    "    docno = input('Введите номер документа: ')\n",
    "    resdir = shelffind(dirs, docno)\n",
    "    resdoc = docfind(docs, 'number', docno)\n",
    "    if resdir != None:\n",
    "        dir=dirs[resdir[0]]\n",
    "        dir.remove(docno)\n",
    "        del docs[resdoc]\n",
    "        print('Документ удалён успешно')\n",
    "    else:\n",
    "        print('Документ не найден')\n",
    "        \n",
    "delete (directories, documents)"
   ]
  },
  {
   "cell_type": "code",
   "execution_count": 21,
   "metadata": {},
   "outputs": [
    {
     "data": {
      "text/plain": [
       "{'1': ['2207 876234'], '2': ['10006'], '3': ['11']}"
      ]
     },
     "execution_count": 21,
     "metadata": {},
     "output_type": "execute_result"
    }
   ],
   "source": [
    "directories\n"
   ]
  },
  {
   "cell_type": "code",
   "execution_count": 22,
   "metadata": {},
   "outputs": [
    {
     "data": {
      "text/plain": [
       "[{'type': 'passport', 'number': '2207 876234', 'name': 'Василий Гупкин'},\n",
       " {'type': 'insurance', 'number': '10006', 'name': 'Аристарх Павлов'},\n",
       " {'type': 'pop', 'number': '123', 'name': 'ppp'},\n",
       " {'type': 'paper', 'number': '11', 'name': 'pop'}]"
      ]
     },
     "execution_count": 22,
     "metadata": {},
     "output_type": "execute_result"
    }
   ],
   "source": [
    "documents"
   ]
  },
  {
   "cell_type": "code",
   "execution_count": 49,
   "metadata": {},
   "outputs": [
    {
     "name": "stdout",
     "output_type": "stream",
     "text": [
      "Введите номер документа: 10006\n",
      "Введите номер полки: 2\n"
     ]
    }
   ],
   "source": [
    "def move(dirs):\n",
    "    docno = input('Введите номер документа: ')\n",
    "    res = shelffind (dirs, docno)\n",
    "    if res != None:\n",
    "        shelfno = input('Введите номер полки: ')\n",
    "        if shelfno in dirs:\n",
    "            docs = dirs[res[0]]\n",
    "            docs.remove(docno)\n",
    "            docs = dirs[shelfno]\n",
    "            docs.append(docno)\n",
    "            print('Документ перемещён успешно')\n",
    "        else:\n",
    "            print ('Полка не существует, воспользуйтесь командой as')\n",
    "    else:\n",
    "        print('Документ не найден')\n",
    "    \n",
    "#move (directories)"
   ]
  },
  {
   "cell_type": "code",
   "execution_count": 20,
   "metadata": {},
   "outputs": [
    {
     "name": "stdout",
     "output_type": "stream",
     "text": [
      "Введите номер документа: 11\n",
      "Введите тип документа: paper\n",
      "Введите имя владельца документа: pop\n",
      "Введите номер полки: 3\n",
      "Документ добавлен успешно\n"
     ]
    }
   ],
   "source": [
    "def add(dirs, docs):\n",
    "    docno = input('Введите номер документа: ')\n",
    "    doctype = input('Введите тип документа: ')\n",
    "    docname = input('Введите имя владельца документа: ')\n",
    "    shelfno = input('Введите номер полки: ')\n",
    "    docelement = {}\n",
    "    docelement['type'] = doctype\n",
    "    docelement['number'] = docno\n",
    "    docelement['name'] = docname\n",
    "    docs.append(docelement)\n",
    "    dir = dirs[shelfno]\n",
    "    dir.append(docno)\n",
    "    print('Документ добавлен успешно')\n",
    "\n",
    "add (directories, documents)"
   ]
  },
  {
   "cell_type": "code",
   "execution_count": null,
   "metadata": {},
   "outputs": [
    {
     "name": "stdout",
     "output_type": "stream",
     "text": [
      "Введите команду: l\n",
      "passport \"2207 876234\" \"passport\"\n",
      "invoice \"11-2\" \"invoice\"\n",
      "insurance \"10006\" \"insurance\"\n",
      "Введите команду: d\n",
      "Введите номер документа: 10006\n",
      "Введите команду: a\n",
      "Введите номер документа: 123\n",
      "Введите тип документа: driverlicense\n",
      "Введите имя владельца документа: Poupkine\n"
     ]
    }
   ],
   "source": [
    "def archive(dirs, docs):\n",
    "    while True:\n",
    "        command = input('Введите команду: ')\n",
    "        if command == 'p':\n",
    "            people(docs)\n",
    "        elif command == 's':\n",
    "            shelf(dirs)\n",
    "        elif command == 'l':\n",
    "            listdocs (docs)\n",
    "        elif command == 'as':\n",
    "            addshelf(dirs)\n",
    "        elif command == 'd':\n",
    "            delete(dirs, docs)\n",
    "        elif command == 'm':\n",
    "            move(dirs)\n",
    "        elif command == 'a':\n",
    "            add(dirs, docs)\n",
    "        elif command == 'help' or command == '?':\n",
    "            print('p – people – команда, которая спросит номер документа и выведет имя человека, которому он принадлежит')\n",
    "            print('s – shelf – команда, которая спросит номер документа и выведет номер полки, на которой он находится')\n",
    "            print('l – list – команда, которая выведет список всех документов в формате passport \"2207 876234\" \"Василий Гупкин\"')\n",
    "            print('as –add shelf – команда, которая спросит номер новой полки и добавит ее в перечень')\n",
    "            print('d – delete – команда, которая спросит номер документа и удалит его из каталога и из перечня полок.')\n",
    "            print('m – move – команда, которая спросит номер документа и целевую полку и переместит его с текущей полки на целевую.')\n",
    "            print('a – add – команда, которая добавит новый документ в каталог и в перечень полок, спросив его номер, тип, имя владельца и номер полки, на котором он будет храниться.')\n",
    "            print('Любая другая команда завершит работу с архивом')\n",
    "        else:\n",
    "            print('Работа с архивом завершена')\n",
    "            break\n",
    "                  \n",
    "\n",
    "archive (directories, documents)      "
   ]
  }
 ],
 "metadata": {
  "kernelspec": {
   "display_name": "Python 3",
   "language": "python",
   "name": "python3"
  },
  "language_info": {
   "codemirror_mode": {
    "name": "ipython",
    "version": 3
   },
   "file_extension": ".py",
   "mimetype": "text/x-python",
   "name": "python",
   "nbconvert_exporter": "python",
   "pygments_lexer": "ipython3",
   "version": "3.7.4"
  }
 },
 "nbformat": 4,
 "nbformat_minor": 2
}
