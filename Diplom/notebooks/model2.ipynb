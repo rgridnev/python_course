{
 "cells": [
  {
   "cell_type": "code",
   "execution_count": 1,
   "metadata": {
    "scrolled": false
   },
   "outputs": [
    {
     "data": {
      "text/html": [
       "<div>\n",
       "<style scoped>\n",
       "    .dataframe tbody tr th:only-of-type {\n",
       "        vertical-align: middle;\n",
       "    }\n",
       "\n",
       "    .dataframe tbody tr th {\n",
       "        vertical-align: top;\n",
       "    }\n",
       "\n",
       "    .dataframe thead th {\n",
       "        text-align: right;\n",
       "    }\n",
       "</style>\n",
       "<table border=\"1\" class=\"dataframe\">\n",
       "  <thead>\n",
       "    <tr style=\"text-align: right;\">\n",
       "      <th></th>\n",
       "      <th>INS_YEAR</th>\n",
       "      <th>OWN_YEAR</th>\n",
       "      <th>AGR_KBM</th>\n",
       "      <th>TS_POWER</th>\n",
       "      <th>f1_daysbeforestart</th>\n",
       "      <th>f2_AGR_SRC_True</th>\n",
       "      <th>f2_AGR_SRC_False</th>\n",
       "      <th>f3_AGR_CREATEDBY_True</th>\n",
       "      <th>f3_AGR_CREATEDBY_False</th>\n",
       "      <th>f4_TS_CATEGORY_True</th>\n",
       "      <th>...</th>\n",
       "      <th>f22_agr_days</th>\n",
       "      <th>claim</th>\n",
       "      <th>f19_drv_skill_min</th>\n",
       "      <th>f20_drv_skill_max</th>\n",
       "      <th>ABS-WEB: ELT SOAP</th>\n",
       "      <th>Агент РСА</th>\n",
       "      <th>КИАС:WebCustomer</th>\n",
       "      <th>КИАС:WebSale</th>\n",
       "      <th>КИАС:Страхование</th>\n",
       "      <th>РСА: Е-ОСАГО Гарант</th>\n",
       "    </tr>\n",
       "  </thead>\n",
       "  <tbody>\n",
       "    <tr>\n",
       "      <th>0</th>\n",
       "      <td>49.0</td>\n",
       "      <td>49.0</td>\n",
       "      <td>0.85</td>\n",
       "      <td>156.4</td>\n",
       "      <td>3</td>\n",
       "      <td>0.049135</td>\n",
       "      <td>0.111105</td>\n",
       "      <td>0.050685</td>\n",
       "      <td>0.068493</td>\n",
       "      <td>0.05135</td>\n",
       "      <td>...</td>\n",
       "      <td>364</td>\n",
       "      <td>0</td>\n",
       "      <td>10.0</td>\n",
       "      <td>28.0</td>\n",
       "      <td>0</td>\n",
       "      <td>0</td>\n",
       "      <td>0</td>\n",
       "      <td>0</td>\n",
       "      <td>1</td>\n",
       "      <td>0</td>\n",
       "    </tr>\n",
       "    <tr>\n",
       "      <th>1</th>\n",
       "      <td>52.0</td>\n",
       "      <td>52.0</td>\n",
       "      <td>0.80</td>\n",
       "      <td>235.0</td>\n",
       "      <td>5</td>\n",
       "      <td>0.049135</td>\n",
       "      <td>0.111105</td>\n",
       "      <td>0.050685</td>\n",
       "      <td>0.068493</td>\n",
       "      <td>0.05135</td>\n",
       "      <td>...</td>\n",
       "      <td>365</td>\n",
       "      <td>0</td>\n",
       "      <td>11.0</td>\n",
       "      <td>29.0</td>\n",
       "      <td>0</td>\n",
       "      <td>0</td>\n",
       "      <td>0</td>\n",
       "      <td>0</td>\n",
       "      <td>1</td>\n",
       "      <td>0</td>\n",
       "    </tr>\n",
       "    <tr>\n",
       "      <th>2</th>\n",
       "      <td>52.0</td>\n",
       "      <td>52.0</td>\n",
       "      <td>0.80</td>\n",
       "      <td>235.0</td>\n",
       "      <td>5</td>\n",
       "      <td>0.049135</td>\n",
       "      <td>0.111105</td>\n",
       "      <td>0.041509</td>\n",
       "      <td>0.045283</td>\n",
       "      <td>0.05135</td>\n",
       "      <td>...</td>\n",
       "      <td>365</td>\n",
       "      <td>0</td>\n",
       "      <td>11.0</td>\n",
       "      <td>29.0</td>\n",
       "      <td>0</td>\n",
       "      <td>0</td>\n",
       "      <td>0</td>\n",
       "      <td>0</td>\n",
       "      <td>1</td>\n",
       "      <td>0</td>\n",
       "    </tr>\n",
       "    <tr>\n",
       "      <th>3</th>\n",
       "      <td>50.0</td>\n",
       "      <td>50.0</td>\n",
       "      <td>1.00</td>\n",
       "      <td>156.4</td>\n",
       "      <td>6</td>\n",
       "      <td>0.049135</td>\n",
       "      <td>0.111105</td>\n",
       "      <td>0.050685</td>\n",
       "      <td>0.068493</td>\n",
       "      <td>0.05135</td>\n",
       "      <td>...</td>\n",
       "      <td>365</td>\n",
       "      <td>0</td>\n",
       "      <td>0.0</td>\n",
       "      <td>29.0</td>\n",
       "      <td>0</td>\n",
       "      <td>0</td>\n",
       "      <td>0</td>\n",
       "      <td>0</td>\n",
       "      <td>1</td>\n",
       "      <td>0</td>\n",
       "    </tr>\n",
       "    <tr>\n",
       "      <th>4</th>\n",
       "      <td>53.0</td>\n",
       "      <td>53.0</td>\n",
       "      <td>0.75</td>\n",
       "      <td>235.0</td>\n",
       "      <td>10</td>\n",
       "      <td>0.049135</td>\n",
       "      <td>0.111105</td>\n",
       "      <td>0.047490</td>\n",
       "      <td>0.087291</td>\n",
       "      <td>0.05135</td>\n",
       "      <td>...</td>\n",
       "      <td>364</td>\n",
       "      <td>0</td>\n",
       "      <td>12.0</td>\n",
       "      <td>30.0</td>\n",
       "      <td>0</td>\n",
       "      <td>0</td>\n",
       "      <td>0</td>\n",
       "      <td>0</td>\n",
       "      <td>1</td>\n",
       "      <td>0</td>\n",
       "    </tr>\n",
       "  </tbody>\n",
       "</table>\n",
       "<p>5 rows × 55 columns</p>\n",
       "</div>"
      ],
      "text/plain": [
       "   INS_YEAR  OWN_YEAR  AGR_KBM  TS_POWER  f1_daysbeforestart  f2_AGR_SRC_True  \\\n",
       "0      49.0      49.0     0.85     156.4                   3         0.049135   \n",
       "1      52.0      52.0     0.80     235.0                   5         0.049135   \n",
       "2      52.0      52.0     0.80     235.0                   5         0.049135   \n",
       "3      50.0      50.0     1.00     156.4                   6         0.049135   \n",
       "4      53.0      53.0     0.75     235.0                  10         0.049135   \n",
       "\n",
       "   f2_AGR_SRC_False  f3_AGR_CREATEDBY_True  f3_AGR_CREATEDBY_False  \\\n",
       "0          0.111105               0.050685                0.068493   \n",
       "1          0.111105               0.050685                0.068493   \n",
       "2          0.111105               0.041509                0.045283   \n",
       "3          0.111105               0.050685                0.068493   \n",
       "4          0.111105               0.047490                0.087291   \n",
       "\n",
       "   f4_TS_CATEGORY_True  ...  f22_agr_days  claim  f19_drv_skill_min  \\\n",
       "0              0.05135  ...           364      0               10.0   \n",
       "1              0.05135  ...           365      0               11.0   \n",
       "2              0.05135  ...           365      0               11.0   \n",
       "3              0.05135  ...           365      0                0.0   \n",
       "4              0.05135  ...           364      0               12.0   \n",
       "\n",
       "   f20_drv_skill_max  ABS-WEB: ELT SOAP  Агент РСА  КИАС:WebCustomer  \\\n",
       "0               28.0                  0          0                 0   \n",
       "1               29.0                  0          0                 0   \n",
       "2               29.0                  0          0                 0   \n",
       "3               29.0                  0          0                 0   \n",
       "4               30.0                  0          0                 0   \n",
       "\n",
       "   КИАС:WebSale  КИАС:Страхование  РСА: Е-ОСАГО Гарант  \n",
       "0             0                 1                    0  \n",
       "1             0                 1                    0  \n",
       "2             0                 1                    0  \n",
       "3             0                 1                    0  \n",
       "4             0                 1                    0  \n",
       "\n",
       "[5 rows x 55 columns]"
      ]
     },
     "execution_count": 1,
     "metadata": {},
     "output_type": "execute_result"
    }
   ],
   "source": [
    "import pandas as pd\n",
    "import numpy as np\n",
    "dt = pd.read_csv('../data/model2.csv')\n",
    "# откуда то при пересохранении в csv образуется лишний столбец\n",
    "dt.drop(dt.columns[[0]], axis = 1, inplace = True)\n",
    "dt.drop('yearsign', axis=1, inplace=True)\n",
    "\n",
    "# подготовим данные для модели\n",
    "X = dt.drop(['claim'], axis = 1)\n",
    "Y = dt.claim\n",
    "\n",
    "from sklearn.model_selection import train_test_split\n",
    "X_train, X_test, y_train, y_test = train_test_split(X, Y, test_size=0.2, random_state=42)\n",
    "\n",
    "from sklearn.metrics import confusion_matrix, classification_report, roc_auc_score\n",
    "import matplotlib.pyplot as plt\n",
    "\n",
    "\n",
    "dt.head()"
   ]
  },
  {
   "cell_type": "code",
   "execution_count": 2,
   "metadata": {},
   "outputs": [],
   "source": [
    "from scipy.optimize import minimize\n",
    "from sklearn.metrics import roc_curve, auc, roc_auc_score, confusion_matrix, classification_report,f1_score\n",
    "\n",
    "def mtr(m, x = X_test, y = y_test, limit = 0, metrics = 'AUC'):\n",
    "#     print(len(x), len(y))\n",
    "    pr = m.predict(x)\n",
    "    meanclaim = 27000\n",
    "    meanpremium = 5000\n",
    "#     print(pr)\n",
    "    if limit == 0:\n",
    "        pred = pr\n",
    "    elif limit == 1:\n",
    "        def min(limit, m=m):\n",
    "            s = m.predict_proba(x)\n",
    "            r = []\n",
    "            for i in s:\n",
    "                if i[0] > limit:\n",
    "                    r.append(0)\n",
    "                else:\n",
    "                    r.append(1)\n",
    "            if metrics == 'AUC':\n",
    "                res = roc_auc_score(y, r)\n",
    "            elif metrics == 'F1':\n",
    "                res = f1_score(y, r)\n",
    "            elif metrics == 'money':\n",
    "                cm = confusion_matrix(y, r)\n",
    "                res = (cm[0][0] + cm[1][0])*meanpremium - cm[1][0]*meanclaim\n",
    "                \n",
    "            return -res\n",
    "        l = minimize(min, 0.5, method='COBYLA')['x']\n",
    "        print ('Оптимальный лимит: ', l)\n",
    "        print('')\n",
    "        s = m.predict_proba(x)\n",
    "        pred = []\n",
    "        for i in s:\n",
    "            if i[0] > l:\n",
    "                pred.append(0)\n",
    "            else:\n",
    "                pred.append(1)\n",
    "        \n",
    "    else:\n",
    "        s = m.predict_proba(x)\n",
    "        pred = []\n",
    "        for i in s:\n",
    "            if i[0] > limit:\n",
    "                pred.append(0)\n",
    "            else:\n",
    "                pred.append(1)\n",
    "    cmf = confusion_matrix(y, pred)\n",
    "    print('Всего денег: ',  (cmf[0][0] + cmf[1][0])*meanpremium - cmf[1][0]*meanclaim)\n",
    "    print('')\n",
    "    print(cmf)\n",
    "    print('')\n",
    "    print(classification_report(y, pred))\n",
    "    print('')\n",
    "    print('ROC-AUC score: ', roc_auc_score(y, pred))"
   ]
  },
  {
   "cell_type": "code",
   "execution_count": 3,
   "metadata": {},
   "outputs": [
    {
     "data": {
      "text/plain": [
       "Counter({0: 78203, 1: 3767})"
      ]
     },
     "execution_count": 3,
     "metadata": {},
     "output_type": "execute_result"
    }
   ],
   "source": [
    "from collections import Counter\n",
    "Counter(Y)\n"
   ]
  },
  {
   "cell_type": "code",
   "execution_count": 4,
   "metadata": {},
   "outputs": [
    {
     "name": "stdout",
     "output_type": "stream",
     "text": [
      "Оптимальный лимит:  0.94765390625\n",
      "\n",
      "Всего денег:  43259000\n",
      "\n",
      "[[10227  5428]\n",
      " [  358   381]]\n",
      "\n",
      "              precision    recall  f1-score   support\n",
      "\n",
      "           0       0.97      0.65      0.78     15655\n",
      "           1       0.07      0.52      0.12       739\n",
      "\n",
      "    accuracy                           0.65     16394\n",
      "   macro avg       0.52      0.58      0.45     16394\n",
      "weighted avg       0.93      0.65      0.75     16394\n",
      "\n",
      "\n",
      "ROC-AUC score:  0.5844176420784948\n"
     ]
    }
   ],
   "source": [
    "# попробуем решить задачу ансамблем деревьев\n",
    "from sklearn.ensemble import RandomForestClassifier\n",
    "\n",
    "modelrf = RandomForestClassifier(max_depth = 30)\n",
    "modelrf.fit(X_train, y_train)\n",
    "\n",
    "mtr(modelrf, x = X_test, y = y_test, limit = 1, metrics = 'AUC')"
   ]
  },
  {
   "cell_type": "code",
   "execution_count": 28,
   "metadata": {},
   "outputs": [
    {
     "name": "stdout",
     "output_type": "stream",
     "text": [
      "Оптимальный лимит:  0.625\n",
      "\n",
      "Всего денег:  62128000\n",
      "\n",
      "[[15598    57]\n",
      " [  721    18]]\n",
      "\n",
      "              precision    recall  f1-score   support\n",
      "\n",
      "           0       0.96      1.00      0.98     15655\n",
      "           1       0.24      0.02      0.04       739\n",
      "\n",
      "    accuracy                           0.95     16394\n",
      "   macro avg       0.60      0.51      0.51     16394\n",
      "weighted avg       0.92      0.95      0.93     16394\n",
      "\n",
      "\n",
      "ROC-AUC score:  0.5103581151253194\n"
     ]
    }
   ],
   "source": [
    "mtr(modelrf, x = X_test, y = y_test, limit = 1, metrics = 'AUC')"
   ]
  },
  {
   "cell_type": "code",
   "execution_count": 65,
   "metadata": {},
   "outputs": [
    {
     "name": "stdout",
     "output_type": "stream",
     "text": [
      "Оптимальный лимит:  0.958840234375\n",
      "\n",
      "Всего денег:  40753000\n",
      "\n",
      "[[9387 6268]\n",
      " [ 281  458]]\n",
      "\n",
      "              precision    recall  f1-score   support\n",
      "\n",
      "           0       0.97      0.60      0.74     15655\n",
      "           1       0.07      0.62      0.12       739\n",
      "\n",
      "    accuracy                           0.60     16394\n",
      "   macro avg       0.52      0.61      0.43     16394\n",
      "weighted avg       0.93      0.60      0.71     16394\n",
      "\n",
      "\n",
      "ROC-AUC score:  0.6096865817360033\n"
     ]
    }
   ],
   "source": [
    "# попробуем другие модели\n",
    "from sklearn.ensemble import GradientBoostingClassifier\n",
    "modelgb = GradientBoostingClassifier()\n",
    "modelgb.fit(X_train, y_train)\n",
    "mtr(modelgb, x = X_test, y = y_test, limit = 1, metrics = 'AUC')"
   ]
  },
  {
   "cell_type": "code",
   "execution_count": 26,
   "metadata": {},
   "outputs": [
    {
     "name": "stdout",
     "output_type": "stream",
     "text": [
      "Оптимальный лимит:  0.763671875\n",
      "\n",
      "Всего денег:  62123000\n",
      "\n",
      "[[15597    58]\n",
      " [  721    18]]\n",
      "\n",
      "              precision    recall  f1-score   support\n",
      "\n",
      "           0       0.96      1.00      0.98     15655\n",
      "           1       0.24      0.02      0.04       739\n",
      "\n",
      "    accuracy                           0.95     16394\n",
      "   macro avg       0.60      0.51      0.51     16394\n",
      "weighted avg       0.92      0.95      0.93     16394\n",
      "\n",
      "\n",
      "ROC-AUC score:  0.5103261764475806\n"
     ]
    }
   ],
   "source": [
    "mtr(modelgb, x = X_test, y = y_test, limit = 1, metrics = 'money')"
   ]
  },
  {
   "cell_type": "code",
   "execution_count": 5,
   "metadata": {},
   "outputs": [
    {
     "name": "stdout",
     "output_type": "stream",
     "text": [
      "Оптимальный лимит:  0.90625\n",
      "\n",
      "Всего денег:  50158000\n",
      "\n",
      "[[12280  3375]\n",
      " [  511   228]]\n",
      "\n",
      "              precision    recall  f1-score   support\n",
      "\n",
      "           0       0.96      0.78      0.86     15655\n",
      "           1       0.06      0.31      0.11       739\n",
      "\n",
      "    accuracy                           0.76     16394\n",
      "   macro avg       0.51      0.55      0.48     16394\n",
      "weighted avg       0.92      0.76      0.83     16394\n",
      "\n",
      "\n",
      "ROC-AUC score:  0.5464694795464967\n"
     ]
    }
   ],
   "source": [
    "from sklearn.neighbors import KNeighborsClassifier\n",
    "modelknn = KNeighborsClassifier(n_neighbors=20)\n",
    "modelknn.fit(X_train, y_train)\n",
    "mtr(modelknn, x = X_test, y = y_test, limit = 1, metrics = 'AUC')"
   ]
  },
  {
   "cell_type": "code",
   "execution_count": 34,
   "metadata": {},
   "outputs": [
    {
     "name": "stdout",
     "output_type": "stream",
     "text": [
      "Оптимальный лимит:  0.5\n",
      "\n",
      "Всего денег:  62017000\n",
      "\n",
      "[[15655     0]\n",
      " [  739     0]]\n",
      "\n",
      "              precision    recall  f1-score   support\n",
      "\n",
      "           0       0.95      1.00      0.98     15655\n",
      "           1       0.00      0.00      0.00       739\n",
      "\n",
      "    accuracy                           0.95     16394\n",
      "   macro avg       0.48      0.50      0.49     16394\n",
      "weighted avg       0.91      0.95      0.93     16394\n",
      "\n",
      "\n",
      "ROC-AUC score:  0.5\n"
     ]
    },
    {
     "name": "stderr",
     "output_type": "stream",
     "text": [
      "C:\\ProgramData\\Anaconda3\\lib\\site-packages\\sklearn\\metrics\\_classification.py:1221: UndefinedMetricWarning: Precision and F-score are ill-defined and being set to 0.0 in labels with no predicted samples. Use `zero_division` parameter to control this behavior.\n",
      "  _warn_prf(average, modifier, msg_start, len(result))\n"
     ]
    }
   ],
   "source": [
    "mtr(modelknn, x = X_test, y = y_test, limit = 1, metrics = 'money')"
   ]
  },
  {
   "cell_type": "code",
   "execution_count": 35,
   "metadata": {},
   "outputs": [],
   "source": [
    "from catboost import CatBoostClassifier"
   ]
  },
  {
   "cell_type": "code",
   "execution_count": 36,
   "metadata": {},
   "outputs": [],
   "source": [
    "modelcb = CatBoostClassifier(\n",
    "#         learning_rate=0.1,\n",
    "        loss_function='Logloss',\n",
    "        depth=12,\n",
    "        iterations=50,\n",
    "        eval_metric='AUC',\n",
    "#         od_type='Iter',\n",
    "#         od_wait=40,\n",
    "#         random_seed=42,\n",
    "        logging_level='Silent',\n",
    "        allow_writing_files=False\n",
    "    )"
   ]
  },
  {
   "cell_type": "code",
   "execution_count": 67,
   "metadata": {},
   "outputs": [
    {
     "name": "stdout",
     "output_type": "stream",
     "text": [
      "Оптимальный лимит:  0.961869921875\n",
      "\n",
      "Всего денег:  47571000\n",
      "\n",
      "[[11591  4064]\n",
      " [  472   267]]\n",
      "\n",
      "              precision    recall  f1-score   support\n",
      "\n",
      "           0       0.96      0.74      0.84     15655\n",
      "           1       0.06      0.36      0.11       739\n",
      "\n",
      "    accuracy                           0.72     16394\n",
      "   macro avg       0.51      0.55      0.47     16394\n",
      "weighted avg       0.92      0.72      0.80     16394\n",
      "\n",
      "\n",
      "ROC-AUC score:  0.5508507400567636\n"
     ]
    }
   ],
   "source": [
    "modelcb.fit(X_train, y_train)\n",
    "mtr(modelcb, x = X_test, y = y_test, limit = 1, metrics = 'AUC')"
   ]
  },
  {
   "cell_type": "code",
   "execution_count": 39,
   "metadata": {},
   "outputs": [
    {
     "data": {
      "text/html": [
       "<div>\n",
       "<style scoped>\n",
       "    .dataframe tbody tr th:only-of-type {\n",
       "        vertical-align: middle;\n",
       "    }\n",
       "\n",
       "    .dataframe tbody tr th {\n",
       "        vertical-align: top;\n",
       "    }\n",
       "\n",
       "    .dataframe thead th {\n",
       "        text-align: right;\n",
       "    }\n",
       "</style>\n",
       "<table border=\"1\" class=\"dataframe\">\n",
       "  <thead>\n",
       "    <tr style=\"text-align: right;\">\n",
       "      <th></th>\n",
       "      <th>Feature Id</th>\n",
       "      <th>Importances</th>\n",
       "    </tr>\n",
       "  </thead>\n",
       "  <tbody>\n",
       "    <tr>\n",
       "      <th>0</th>\n",
       "      <td>f6_TS_MODEL_NAME_True</td>\n",
       "      <td>5.990932</td>\n",
       "    </tr>\n",
       "    <tr>\n",
       "      <th>1</th>\n",
       "      <td>f1_daysbeforestart</td>\n",
       "      <td>5.612679</td>\n",
       "    </tr>\n",
       "    <tr>\n",
       "      <th>2</th>\n",
       "      <td>f23_kbm_min</td>\n",
       "      <td>5.547026</td>\n",
       "    </tr>\n",
       "    <tr>\n",
       "      <th>3</th>\n",
       "      <td>TS_POWER</td>\n",
       "      <td>5.541861</td>\n",
       "    </tr>\n",
       "    <tr>\n",
       "      <th>4</th>\n",
       "      <td>f3_AGR_CREATEDBY_False</td>\n",
       "      <td>5.287403</td>\n",
       "    </tr>\n",
       "    <tr>\n",
       "      <th>5</th>\n",
       "      <td>f7_car_age_on_start</td>\n",
       "      <td>4.771248</td>\n",
       "    </tr>\n",
       "    <tr>\n",
       "      <th>6</th>\n",
       "      <td>f5_TS_MARK_NAME_False</td>\n",
       "      <td>4.769952</td>\n",
       "    </tr>\n",
       "    <tr>\n",
       "      <th>7</th>\n",
       "      <td>f6_TS_MODEL_NAME_False</td>\n",
       "      <td>4.632217</td>\n",
       "    </tr>\n",
       "    <tr>\n",
       "      <th>8</th>\n",
       "      <td>f3_AGR_CREATEDBY_True</td>\n",
       "      <td>4.142764</td>\n",
       "    </tr>\n",
       "    <tr>\n",
       "      <th>9</th>\n",
       "      <td>f19_drv_skill_min</td>\n",
       "      <td>3.975993</td>\n",
       "    </tr>\n",
       "    <tr>\n",
       "      <th>10</th>\n",
       "      <td>AGR_KBM</td>\n",
       "      <td>3.575416</td>\n",
       "    </tr>\n",
       "    <tr>\n",
       "      <th>11</th>\n",
       "      <td>f20_drv_skill_max</td>\n",
       "      <td>3.562641</td>\n",
       "    </tr>\n",
       "    <tr>\n",
       "      <th>12</th>\n",
       "      <td>INS_YEAR</td>\n",
       "      <td>3.324453</td>\n",
       "    </tr>\n",
       "    <tr>\n",
       "      <th>13</th>\n",
       "      <td>f5_TS_MARK_NAME_True</td>\n",
       "      <td>3.225724</td>\n",
       "    </tr>\n",
       "    <tr>\n",
       "      <th>14</th>\n",
       "      <td>f12_OWN_DOCSER_True</td>\n",
       "      <td>3.026950</td>\n",
       "    </tr>\n",
       "    <tr>\n",
       "      <th>15</th>\n",
       "      <td>f11_INS_DOCSER_False</td>\n",
       "      <td>2.686658</td>\n",
       "    </tr>\n",
       "    <tr>\n",
       "      <th>16</th>\n",
       "      <td>f17_drv_age_min</td>\n",
       "      <td>2.662327</td>\n",
       "    </tr>\n",
       "    <tr>\n",
       "      <th>17</th>\n",
       "      <td>f18_drv_age_max</td>\n",
       "      <td>2.635395</td>\n",
       "    </tr>\n",
       "    <tr>\n",
       "      <th>18</th>\n",
       "      <td>f9_OWN_REG_False</td>\n",
       "      <td>2.158964</td>\n",
       "    </tr>\n",
       "    <tr>\n",
       "      <th>19</th>\n",
       "      <td>f22_agr_days</td>\n",
       "      <td>2.122046</td>\n",
       "    </tr>\n",
       "    <tr>\n",
       "      <th>20</th>\n",
       "      <td>f2_AGR_SRC_False</td>\n",
       "      <td>2.069333</td>\n",
       "    </tr>\n",
       "    <tr>\n",
       "      <th>21</th>\n",
       "      <td>f11_INS_DOCSER_True</td>\n",
       "      <td>2.064351</td>\n",
       "    </tr>\n",
       "    <tr>\n",
       "      <th>22</th>\n",
       "      <td>f12_OWN_DOCSER_False</td>\n",
       "      <td>1.955791</td>\n",
       "    </tr>\n",
       "    <tr>\n",
       "      <th>23</th>\n",
       "      <td>INS_SEX_Ж</td>\n",
       "      <td>1.785757</td>\n",
       "    </tr>\n",
       "    <tr>\n",
       "      <th>24</th>\n",
       "      <td>f21_oneperson</td>\n",
       "      <td>1.746142</td>\n",
       "    </tr>\n",
       "    <tr>\n",
       "      <th>25</th>\n",
       "      <td>OWN_YEAR</td>\n",
       "      <td>1.739968</td>\n",
       "    </tr>\n",
       "    <tr>\n",
       "      <th>26</th>\n",
       "      <td>f10_INS_REG_False</td>\n",
       "      <td>1.394719</td>\n",
       "    </tr>\n",
       "    <tr>\n",
       "      <th>27</th>\n",
       "      <td>f2_AGR_SRC_True</td>\n",
       "      <td>1.366708</td>\n",
       "    </tr>\n",
       "    <tr>\n",
       "      <th>28</th>\n",
       "      <td>f15_drivers_count</td>\n",
       "      <td>1.355279</td>\n",
       "    </tr>\n",
       "    <tr>\n",
       "      <th>29</th>\n",
       "      <td>f9_OWN_REG_True</td>\n",
       "      <td>1.275002</td>\n",
       "    </tr>\n",
       "    <tr>\n",
       "      <th>30</th>\n",
       "      <td>f14_is_prolongation</td>\n",
       "      <td>1.105748</td>\n",
       "    </tr>\n",
       "    <tr>\n",
       "      <th>31</th>\n",
       "      <td>OWN_SEX_М</td>\n",
       "      <td>0.780308</td>\n",
       "    </tr>\n",
       "    <tr>\n",
       "      <th>32</th>\n",
       "      <td>f10_INS_REG_True</td>\n",
       "      <td>0.692265</td>\n",
       "    </tr>\n",
       "    <tr>\n",
       "      <th>33</th>\n",
       "      <td>OWN_SEX_Ж</td>\n",
       "      <td>0.533510</td>\n",
       "    </tr>\n",
       "    <tr>\n",
       "      <th>34</th>\n",
       "      <td>КИАС:Страхование</td>\n",
       "      <td>0.282128</td>\n",
       "    </tr>\n",
       "    <tr>\n",
       "      <th>35</th>\n",
       "      <td>КИАС:WebCustomer</td>\n",
       "      <td>0.256910</td>\n",
       "    </tr>\n",
       "    <tr>\n",
       "      <th>36</th>\n",
       "      <td>КИАС:WebSale</td>\n",
       "      <td>0.246642</td>\n",
       "    </tr>\n",
       "    <tr>\n",
       "      <th>37</th>\n",
       "      <td>TS_USE_NAME_Личная</td>\n",
       "      <td>0.031532</td>\n",
       "    </tr>\n",
       "    <tr>\n",
       "      <th>38</th>\n",
       "      <td>Агент РСА</td>\n",
       "      <td>0.023028</td>\n",
       "    </tr>\n",
       "    <tr>\n",
       "      <th>39</th>\n",
       "      <td>ABS-WEB: ELT SOAP</td>\n",
       "      <td>0.016742</td>\n",
       "    </tr>\n",
       "    <tr>\n",
       "      <th>40</th>\n",
       "      <td>TS_USE_NAME_Такси, Маршрутное такси</td>\n",
       "      <td>0.015444</td>\n",
       "    </tr>\n",
       "    <tr>\n",
       "      <th>41</th>\n",
       "      <td>f4_TS_CATEGORY_True</td>\n",
       "      <td>0.003146</td>\n",
       "    </tr>\n",
       "    <tr>\n",
       "      <th>42</th>\n",
       "      <td>TS_USE_NAME_Прокат или краткосрочная аренда</td>\n",
       "      <td>0.003034</td>\n",
       "    </tr>\n",
       "    <tr>\n",
       "      <th>43</th>\n",
       "      <td>f4_TS_CATEGORY_False</td>\n",
       "      <td>0.001773</td>\n",
       "    </tr>\n",
       "    <tr>\n",
       "      <th>44</th>\n",
       "      <td>TS_USE_NAME_Прочее</td>\n",
       "      <td>0.001084</td>\n",
       "    </tr>\n",
       "    <tr>\n",
       "      <th>45</th>\n",
       "      <td>TS_CATEGORY_Категория \"C\"</td>\n",
       "      <td>0.000604</td>\n",
       "    </tr>\n",
       "    <tr>\n",
       "      <th>46</th>\n",
       "      <td>TS_USE_NAME_Регулярные пассажирские перевозки</td>\n",
       "      <td>0.000404</td>\n",
       "    </tr>\n",
       "    <tr>\n",
       "      <th>47</th>\n",
       "      <td>INS_SEX_М</td>\n",
       "      <td>0.000000</td>\n",
       "    </tr>\n",
       "    <tr>\n",
       "      <th>48</th>\n",
       "      <td>TS_CATEGORY_Категория \"B\"</td>\n",
       "      <td>0.000000</td>\n",
       "    </tr>\n",
       "    <tr>\n",
       "      <th>49</th>\n",
       "      <td>TS_CATEGORY_Категория \"D\"</td>\n",
       "      <td>0.000000</td>\n",
       "    </tr>\n",
       "    <tr>\n",
       "      <th>50</th>\n",
       "      <td>TS_USE_NAME_Дорожные и специальные ТС</td>\n",
       "      <td>0.000000</td>\n",
       "    </tr>\n",
       "    <tr>\n",
       "      <th>51</th>\n",
       "      <td>TS_USE_NAME_Перевозка опасных грузов</td>\n",
       "      <td>0.000000</td>\n",
       "    </tr>\n",
       "    <tr>\n",
       "      <th>52</th>\n",
       "      <td>TS_USE_NAME_Учебная езда</td>\n",
       "      <td>0.000000</td>\n",
       "    </tr>\n",
       "    <tr>\n",
       "      <th>53</th>\n",
       "      <td>РСА: Е-ОСАГО Гарант</td>\n",
       "      <td>0.000000</td>\n",
       "    </tr>\n",
       "  </tbody>\n",
       "</table>\n",
       "</div>"
      ],
      "text/plain": [
       "                                       Feature Id  Importances\n",
       "0                           f6_TS_MODEL_NAME_True     5.990932\n",
       "1                              f1_daysbeforestart     5.612679\n",
       "2                                     f23_kbm_min     5.547026\n",
       "3                                        TS_POWER     5.541861\n",
       "4                          f3_AGR_CREATEDBY_False     5.287403\n",
       "5                             f7_car_age_on_start     4.771248\n",
       "6                           f5_TS_MARK_NAME_False     4.769952\n",
       "7                          f6_TS_MODEL_NAME_False     4.632217\n",
       "8                           f3_AGR_CREATEDBY_True     4.142764\n",
       "9                               f19_drv_skill_min     3.975993\n",
       "10                                        AGR_KBM     3.575416\n",
       "11                              f20_drv_skill_max     3.562641\n",
       "12                                       INS_YEAR     3.324453\n",
       "13                           f5_TS_MARK_NAME_True     3.225724\n",
       "14                            f12_OWN_DOCSER_True     3.026950\n",
       "15                           f11_INS_DOCSER_False     2.686658\n",
       "16                                f17_drv_age_min     2.662327\n",
       "17                                f18_drv_age_max     2.635395\n",
       "18                               f9_OWN_REG_False     2.158964\n",
       "19                                   f22_agr_days     2.122046\n",
       "20                               f2_AGR_SRC_False     2.069333\n",
       "21                            f11_INS_DOCSER_True     2.064351\n",
       "22                           f12_OWN_DOCSER_False     1.955791\n",
       "23                                      INS_SEX_Ж     1.785757\n",
       "24                                  f21_oneperson     1.746142\n",
       "25                                       OWN_YEAR     1.739968\n",
       "26                              f10_INS_REG_False     1.394719\n",
       "27                                f2_AGR_SRC_True     1.366708\n",
       "28                              f15_drivers_count     1.355279\n",
       "29                                f9_OWN_REG_True     1.275002\n",
       "30                            f14_is_prolongation     1.105748\n",
       "31                                      OWN_SEX_М     0.780308\n",
       "32                               f10_INS_REG_True     0.692265\n",
       "33                                      OWN_SEX_Ж     0.533510\n",
       "34                               КИАС:Страхование     0.282128\n",
       "35                               КИАС:WebCustomer     0.256910\n",
       "36                                   КИАС:WebSale     0.246642\n",
       "37                             TS_USE_NAME_Личная     0.031532\n",
       "38                                      Агент РСА     0.023028\n",
       "39                              ABS-WEB: ELT SOAP     0.016742\n",
       "40            TS_USE_NAME_Такси, Маршрутное такси     0.015444\n",
       "41                            f4_TS_CATEGORY_True     0.003146\n",
       "42    TS_USE_NAME_Прокат или краткосрочная аренда     0.003034\n",
       "43                           f4_TS_CATEGORY_False     0.001773\n",
       "44                             TS_USE_NAME_Прочее     0.001084\n",
       "45                      TS_CATEGORY_Категория \"C\"     0.000604\n",
       "46  TS_USE_NAME_Регулярные пассажирские перевозки     0.000404\n",
       "47                                      INS_SEX_М     0.000000\n",
       "48                      TS_CATEGORY_Категория \"B\"     0.000000\n",
       "49                      TS_CATEGORY_Категория \"D\"     0.000000\n",
       "50          TS_USE_NAME_Дорожные и специальные ТС     0.000000\n",
       "51           TS_USE_NAME_Перевозка опасных грузов     0.000000\n",
       "52                       TS_USE_NAME_Учебная езда     0.000000\n",
       "53                            РСА: Е-ОСАГО Гарант     0.000000"
      ]
     },
     "execution_count": 39,
     "metadata": {},
     "output_type": "execute_result"
    }
   ],
   "source": [
    "modelcb.get_feature_importance(prettified=True,)"
   ]
  },
  {
   "cell_type": "code",
   "execution_count": 8,
   "metadata": {},
   "outputs": [],
   "source": [
    "# устраним дисбаланс классов за счет downsampling'а обучающей выборки\n",
    "import random as r\n",
    "ds = dt\n",
    "ds['cat'] = ds['claim'].apply(lambda x: 1 if x==1 else r.choice(list(range(2, 20))))"
   ]
  },
  {
   "cell_type": "code",
   "execution_count": 9,
   "metadata": {},
   "outputs": [],
   "source": [
    "ds = ds[ds['cat'].isin([1,2])]\n",
    "Xs = ds.drop(['claim', 'cat'], axis = 1)\n",
    "Ys = ds.claim\n",
    "\n",
    "from sklearn.model_selection import train_test_split\n",
    "Xs_train, Xs_test, ys_train, ys_test = train_test_split(Xs, Ys, test_size=0.2, random_state=42)"
   ]
  },
  {
   "cell_type": "code",
   "execution_count": 44,
   "metadata": {},
   "outputs": [
    {
     "name": "stdout",
     "output_type": "stream",
     "text": [
      "Оптимальный лимит:  0.546875\n",
      "\n",
      "Всего денег:  -4712000\n",
      "\n",
      "[[558 304]\n",
      " [341 435]]\n",
      "\n",
      "              precision    recall  f1-score   support\n",
      "\n",
      "           0       0.62      0.65      0.63       862\n",
      "           1       0.59      0.56      0.57       776\n",
      "\n",
      "    accuracy                           0.61      1638\n",
      "   macro avg       0.60      0.60      0.60      1638\n",
      "weighted avg       0.61      0.61      0.61      1638\n",
      "\n",
      "\n",
      "ROC-AUC score:  0.603949398426101\n"
     ]
    }
   ],
   "source": [
    "modelcbs = RandomForestClassifier()\n",
    "modelcbs.fit(Xs_train, ys_train)\n",
    "mtr(modelcbs, x = Xs_test, y = ys_test, limit = 1, metrics = 'AUC')"
   ]
  },
  {
   "cell_type": "code",
   "execution_count": 61,
   "metadata": {},
   "outputs": [
    {
     "name": "stdout",
     "output_type": "stream",
     "text": [
      "Всего денег:  50399000\n",
      "\n",
      "[[11721  3934]\n",
      " [  373   366]]\n",
      "\n",
      "              precision    recall  f1-score   support\n",
      "\n",
      "           0       0.97      0.75      0.84     15655\n",
      "           1       0.09      0.50      0.15       739\n",
      "\n",
      "    accuracy                           0.74     16394\n",
      "   macro avg       0.53      0.62      0.50     16394\n",
      "weighted avg       0.93      0.74      0.81     16394\n",
      "\n",
      "\n",
      "ROC-AUC score:  0.6219851768231518\n"
     ]
    }
   ],
   "source": [
    "model = GradientBoostingClassifier()\n",
    "model.fit(Xs_train, ys_train)\n",
    "mtr(model)"
   ]
  },
  {
   "cell_type": "code",
   "execution_count": 60,
   "metadata": {},
   "outputs": [
    {
     "name": "stdout",
     "output_type": "stream",
     "text": [
      "Оптимальный лимит:  0.5\n",
      "\n",
      "Всего денег:  -8680000\n",
      "\n",
      "[[750 112]\n",
      " [565 211]]\n",
      "\n",
      "              precision    recall  f1-score   support\n",
      "\n",
      "           0       0.57      0.87      0.69       862\n",
      "           1       0.65      0.27      0.38       776\n",
      "\n",
      "    accuracy                           0.59      1638\n",
      "   macro avg       0.61      0.57      0.54      1638\n",
      "weighted avg       0.61      0.59      0.54      1638\n",
      "\n",
      "\n",
      "ROC-AUC score:  0.5709884110316454\n"
     ]
    }
   ],
   "source": [
    "modelknn = KNeighborsClassifier(n_neighbors=200)\n",
    "modelknn.fit(Xs_train, ys_train)\n",
    "mtr(modelknn, x = Xs_test, y = ys_test, limit = 1, metrics = 'AUC')"
   ]
  },
  {
   "cell_type": "code",
   "execution_count": 10,
   "metadata": {},
   "outputs": [
    {
     "name": "stdout",
     "output_type": "stream",
     "text": [
      "max_depth:  10 min_samples_leaf:  1 RAC:  0.5845935749504864\n",
      "max_depth:  10 min_samples_leaf:  2 RAC:  0.5886304838316859\n",
      "max_depth:  10 min_samples_leaf:  3 RAC:  0.5974027764375026\n",
      "max_depth:  11 min_samples_leaf:  2 RAC:  0.6008974482692069\n",
      "max_depth:  12 min_samples_leaf:  1 RAC:  0.6016143040295565\n"
     ]
    },
    {
     "ename": "KeyboardInterrupt",
     "evalue": "",
     "output_type": "error",
     "traceback": [
      "\u001b[1;31m---------------------------------------------------------------------------\u001b[0m",
      "\u001b[1;31mKeyboardInterrupt\u001b[0m                         Traceback (most recent call last)",
      "\u001b[1;32m<ipython-input-10-cf056afe6f43>\u001b[0m in \u001b[0;36m<module>\u001b[1;34m\u001b[0m\n\u001b[0;32m      3\u001b[0m     \u001b[1;32mfor\u001b[0m \u001b[0ms\u001b[0m \u001b[1;32min\u001b[0m \u001b[0mrange\u001b[0m\u001b[1;33m(\u001b[0m\u001b[1;36m3\u001b[0m\u001b[1;33m)\u001b[0m\u001b[1;33m:\u001b[0m\u001b[1;33m\u001b[0m\u001b[1;33m\u001b[0m\u001b[0m\n\u001b[0;32m      4\u001b[0m         \u001b[0mmodelrf\u001b[0m \u001b[1;33m=\u001b[0m \u001b[0mRandomForestClassifier\u001b[0m\u001b[1;33m(\u001b[0m\u001b[0mmax_depth\u001b[0m \u001b[1;33m=\u001b[0m \u001b[0md\u001b[0m\u001b[1;33m+\u001b[0m\u001b[1;36m10\u001b[0m\u001b[1;33m,\u001b[0m \u001b[0mmin_samples_leaf\u001b[0m \u001b[1;33m=\u001b[0m \u001b[0ms\u001b[0m\u001b[1;33m+\u001b[0m\u001b[1;36m1\u001b[0m\u001b[1;33m)\u001b[0m\u001b[1;33m\u001b[0m\u001b[1;33m\u001b[0m\u001b[0m\n\u001b[1;32m----> 5\u001b[1;33m         \u001b[0mmodelrf\u001b[0m\u001b[1;33m.\u001b[0m\u001b[0mfit\u001b[0m\u001b[1;33m(\u001b[0m\u001b[0mXs_train\u001b[0m\u001b[1;33m,\u001b[0m \u001b[0mys_train\u001b[0m\u001b[1;33m)\u001b[0m\u001b[1;33m\u001b[0m\u001b[1;33m\u001b[0m\u001b[0m\n\u001b[0m\u001b[0;32m      6\u001b[0m         \u001b[0mpred\u001b[0m \u001b[1;33m=\u001b[0m \u001b[0mmodelrf\u001b[0m\u001b[1;33m.\u001b[0m\u001b[0mpredict\u001b[0m\u001b[1;33m(\u001b[0m\u001b[0mXs_test\u001b[0m\u001b[1;33m)\u001b[0m\u001b[1;33m\u001b[0m\u001b[1;33m\u001b[0m\u001b[0m\n\u001b[0;32m      7\u001b[0m         \u001b[0mr\u001b[0m \u001b[1;33m=\u001b[0m \u001b[0mroc_auc_score\u001b[0m\u001b[1;33m(\u001b[0m\u001b[0mys_test\u001b[0m\u001b[1;33m,\u001b[0m \u001b[0mpred\u001b[0m\u001b[1;33m)\u001b[0m\u001b[1;33m\u001b[0m\u001b[1;33m\u001b[0m\u001b[0m\n",
      "\u001b[1;32mC:\\ProgramData\\Anaconda3\\lib\\site-packages\\sklearn\\ensemble\\_forest.py\u001b[0m in \u001b[0;36mfit\u001b[1;34m(self, X, y, sample_weight)\u001b[0m\n\u001b[0;32m    384\u001b[0m             \u001b[1;31m# parallel_backend contexts set at a higher level,\u001b[0m\u001b[1;33m\u001b[0m\u001b[1;33m\u001b[0m\u001b[1;33m\u001b[0m\u001b[0m\n\u001b[0;32m    385\u001b[0m             \u001b[1;31m# since correctness does not rely on using threads.\u001b[0m\u001b[1;33m\u001b[0m\u001b[1;33m\u001b[0m\u001b[1;33m\u001b[0m\u001b[0m\n\u001b[1;32m--> 386\u001b[1;33m             trees = Parallel(n_jobs=self.n_jobs, verbose=self.verbose,\n\u001b[0m\u001b[0;32m    387\u001b[0m                              \u001b[1;33m**\u001b[0m\u001b[0m_joblib_parallel_args\u001b[0m\u001b[1;33m(\u001b[0m\u001b[0mprefer\u001b[0m\u001b[1;33m=\u001b[0m\u001b[1;34m'threads'\u001b[0m\u001b[1;33m)\u001b[0m\u001b[1;33m)\u001b[0m\u001b[1;33m(\u001b[0m\u001b[1;33m\u001b[0m\u001b[1;33m\u001b[0m\u001b[0m\n\u001b[0;32m    388\u001b[0m                 delayed(_parallel_build_trees)(\n",
      "\u001b[1;32mC:\\ProgramData\\Anaconda3\\lib\\site-packages\\joblib\\parallel.py\u001b[0m in \u001b[0;36m__call__\u001b[1;34m(self, iterable)\u001b[0m\n\u001b[0;32m   1049\u001b[0m                 \u001b[0mself\u001b[0m\u001b[1;33m.\u001b[0m\u001b[0m_iterating\u001b[0m \u001b[1;33m=\u001b[0m \u001b[0mself\u001b[0m\u001b[1;33m.\u001b[0m\u001b[0m_original_iterator\u001b[0m \u001b[1;32mis\u001b[0m \u001b[1;32mnot\u001b[0m \u001b[1;32mNone\u001b[0m\u001b[1;33m\u001b[0m\u001b[1;33m\u001b[0m\u001b[0m\n\u001b[0;32m   1050\u001b[0m \u001b[1;33m\u001b[0m\u001b[0m\n\u001b[1;32m-> 1051\u001b[1;33m             \u001b[1;32mwhile\u001b[0m \u001b[0mself\u001b[0m\u001b[1;33m.\u001b[0m\u001b[0mdispatch_one_batch\u001b[0m\u001b[1;33m(\u001b[0m\u001b[0miterator\u001b[0m\u001b[1;33m)\u001b[0m\u001b[1;33m:\u001b[0m\u001b[1;33m\u001b[0m\u001b[1;33m\u001b[0m\u001b[0m\n\u001b[0m\u001b[0;32m   1052\u001b[0m                 \u001b[1;32mpass\u001b[0m\u001b[1;33m\u001b[0m\u001b[1;33m\u001b[0m\u001b[0m\n\u001b[0;32m   1053\u001b[0m \u001b[1;33m\u001b[0m\u001b[0m\n",
      "\u001b[1;32mC:\\ProgramData\\Anaconda3\\lib\\site-packages\\joblib\\parallel.py\u001b[0m in \u001b[0;36mdispatch_one_batch\u001b[1;34m(self, iterator)\u001b[0m\n\u001b[0;32m    864\u001b[0m                 \u001b[1;32mreturn\u001b[0m \u001b[1;32mFalse\u001b[0m\u001b[1;33m\u001b[0m\u001b[1;33m\u001b[0m\u001b[0m\n\u001b[0;32m    865\u001b[0m             \u001b[1;32melse\u001b[0m\u001b[1;33m:\u001b[0m\u001b[1;33m\u001b[0m\u001b[1;33m\u001b[0m\u001b[0m\n\u001b[1;32m--> 866\u001b[1;33m                 \u001b[0mself\u001b[0m\u001b[1;33m.\u001b[0m\u001b[0m_dispatch\u001b[0m\u001b[1;33m(\u001b[0m\u001b[0mtasks\u001b[0m\u001b[1;33m)\u001b[0m\u001b[1;33m\u001b[0m\u001b[1;33m\u001b[0m\u001b[0m\n\u001b[0m\u001b[0;32m    867\u001b[0m                 \u001b[1;32mreturn\u001b[0m \u001b[1;32mTrue\u001b[0m\u001b[1;33m\u001b[0m\u001b[1;33m\u001b[0m\u001b[0m\n\u001b[0;32m    868\u001b[0m \u001b[1;33m\u001b[0m\u001b[0m\n",
      "\u001b[1;32mC:\\ProgramData\\Anaconda3\\lib\\site-packages\\joblib\\parallel.py\u001b[0m in \u001b[0;36m_dispatch\u001b[1;34m(self, batch)\u001b[0m\n\u001b[0;32m    782\u001b[0m         \u001b[1;32mwith\u001b[0m \u001b[0mself\u001b[0m\u001b[1;33m.\u001b[0m\u001b[0m_lock\u001b[0m\u001b[1;33m:\u001b[0m\u001b[1;33m\u001b[0m\u001b[1;33m\u001b[0m\u001b[0m\n\u001b[0;32m    783\u001b[0m             \u001b[0mjob_idx\u001b[0m \u001b[1;33m=\u001b[0m \u001b[0mlen\u001b[0m\u001b[1;33m(\u001b[0m\u001b[0mself\u001b[0m\u001b[1;33m.\u001b[0m\u001b[0m_jobs\u001b[0m\u001b[1;33m)\u001b[0m\u001b[1;33m\u001b[0m\u001b[1;33m\u001b[0m\u001b[0m\n\u001b[1;32m--> 784\u001b[1;33m             \u001b[0mjob\u001b[0m \u001b[1;33m=\u001b[0m \u001b[0mself\u001b[0m\u001b[1;33m.\u001b[0m\u001b[0m_backend\u001b[0m\u001b[1;33m.\u001b[0m\u001b[0mapply_async\u001b[0m\u001b[1;33m(\u001b[0m\u001b[0mbatch\u001b[0m\u001b[1;33m,\u001b[0m \u001b[0mcallback\u001b[0m\u001b[1;33m=\u001b[0m\u001b[0mcb\u001b[0m\u001b[1;33m)\u001b[0m\u001b[1;33m\u001b[0m\u001b[1;33m\u001b[0m\u001b[0m\n\u001b[0m\u001b[0;32m    785\u001b[0m             \u001b[1;31m# A job can complete so quickly than its callback is\u001b[0m\u001b[1;33m\u001b[0m\u001b[1;33m\u001b[0m\u001b[1;33m\u001b[0m\u001b[0m\n\u001b[0;32m    786\u001b[0m             \u001b[1;31m# called before we get here, causing self._jobs to\u001b[0m\u001b[1;33m\u001b[0m\u001b[1;33m\u001b[0m\u001b[1;33m\u001b[0m\u001b[0m\n",
      "\u001b[1;32mC:\\ProgramData\\Anaconda3\\lib\\site-packages\\joblib\\_parallel_backends.py\u001b[0m in \u001b[0;36mapply_async\u001b[1;34m(self, func, callback)\u001b[0m\n\u001b[0;32m    206\u001b[0m     \u001b[1;32mdef\u001b[0m \u001b[0mapply_async\u001b[0m\u001b[1;33m(\u001b[0m\u001b[0mself\u001b[0m\u001b[1;33m,\u001b[0m \u001b[0mfunc\u001b[0m\u001b[1;33m,\u001b[0m \u001b[0mcallback\u001b[0m\u001b[1;33m=\u001b[0m\u001b[1;32mNone\u001b[0m\u001b[1;33m)\u001b[0m\u001b[1;33m:\u001b[0m\u001b[1;33m\u001b[0m\u001b[1;33m\u001b[0m\u001b[0m\n\u001b[0;32m    207\u001b[0m         \u001b[1;34m\"\"\"Schedule a func to be run\"\"\"\u001b[0m\u001b[1;33m\u001b[0m\u001b[1;33m\u001b[0m\u001b[0m\n\u001b[1;32m--> 208\u001b[1;33m         \u001b[0mresult\u001b[0m \u001b[1;33m=\u001b[0m \u001b[0mImmediateResult\u001b[0m\u001b[1;33m(\u001b[0m\u001b[0mfunc\u001b[0m\u001b[1;33m)\u001b[0m\u001b[1;33m\u001b[0m\u001b[1;33m\u001b[0m\u001b[0m\n\u001b[0m\u001b[0;32m    209\u001b[0m         \u001b[1;32mif\u001b[0m \u001b[0mcallback\u001b[0m\u001b[1;33m:\u001b[0m\u001b[1;33m\u001b[0m\u001b[1;33m\u001b[0m\u001b[0m\n\u001b[0;32m    210\u001b[0m             \u001b[0mcallback\u001b[0m\u001b[1;33m(\u001b[0m\u001b[0mresult\u001b[0m\u001b[1;33m)\u001b[0m\u001b[1;33m\u001b[0m\u001b[1;33m\u001b[0m\u001b[0m\n",
      "\u001b[1;32mC:\\ProgramData\\Anaconda3\\lib\\site-packages\\joblib\\_parallel_backends.py\u001b[0m in \u001b[0;36m__init__\u001b[1;34m(self, batch)\u001b[0m\n\u001b[0;32m    570\u001b[0m         \u001b[1;31m# Don't delay the application, to avoid keeping the input\u001b[0m\u001b[1;33m\u001b[0m\u001b[1;33m\u001b[0m\u001b[1;33m\u001b[0m\u001b[0m\n\u001b[0;32m    571\u001b[0m         \u001b[1;31m# arguments in memory\u001b[0m\u001b[1;33m\u001b[0m\u001b[1;33m\u001b[0m\u001b[1;33m\u001b[0m\u001b[0m\n\u001b[1;32m--> 572\u001b[1;33m         \u001b[0mself\u001b[0m\u001b[1;33m.\u001b[0m\u001b[0mresults\u001b[0m \u001b[1;33m=\u001b[0m \u001b[0mbatch\u001b[0m\u001b[1;33m(\u001b[0m\u001b[1;33m)\u001b[0m\u001b[1;33m\u001b[0m\u001b[1;33m\u001b[0m\u001b[0m\n\u001b[0m\u001b[0;32m    573\u001b[0m \u001b[1;33m\u001b[0m\u001b[0m\n\u001b[0;32m    574\u001b[0m     \u001b[1;32mdef\u001b[0m \u001b[0mget\u001b[0m\u001b[1;33m(\u001b[0m\u001b[0mself\u001b[0m\u001b[1;33m)\u001b[0m\u001b[1;33m:\u001b[0m\u001b[1;33m\u001b[0m\u001b[1;33m\u001b[0m\u001b[0m\n",
      "\u001b[1;32mC:\\ProgramData\\Anaconda3\\lib\\site-packages\\joblib\\parallel.py\u001b[0m in \u001b[0;36m__call__\u001b[1;34m(self)\u001b[0m\n\u001b[0;32m    260\u001b[0m         \u001b[1;31m# change the default number of processes to -1\u001b[0m\u001b[1;33m\u001b[0m\u001b[1;33m\u001b[0m\u001b[1;33m\u001b[0m\u001b[0m\n\u001b[0;32m    261\u001b[0m         \u001b[1;32mwith\u001b[0m \u001b[0mparallel_backend\u001b[0m\u001b[1;33m(\u001b[0m\u001b[0mself\u001b[0m\u001b[1;33m.\u001b[0m\u001b[0m_backend\u001b[0m\u001b[1;33m,\u001b[0m \u001b[0mn_jobs\u001b[0m\u001b[1;33m=\u001b[0m\u001b[0mself\u001b[0m\u001b[1;33m.\u001b[0m\u001b[0m_n_jobs\u001b[0m\u001b[1;33m)\u001b[0m\u001b[1;33m:\u001b[0m\u001b[1;33m\u001b[0m\u001b[1;33m\u001b[0m\u001b[0m\n\u001b[1;32m--> 262\u001b[1;33m             return [func(*args, **kwargs)\n\u001b[0m\u001b[0;32m    263\u001b[0m                     for func, args, kwargs in self.items]\n\u001b[0;32m    264\u001b[0m \u001b[1;33m\u001b[0m\u001b[0m\n",
      "\u001b[1;32mC:\\ProgramData\\Anaconda3\\lib\\site-packages\\joblib\\parallel.py\u001b[0m in \u001b[0;36m<listcomp>\u001b[1;34m(.0)\u001b[0m\n\u001b[0;32m    260\u001b[0m         \u001b[1;31m# change the default number of processes to -1\u001b[0m\u001b[1;33m\u001b[0m\u001b[1;33m\u001b[0m\u001b[1;33m\u001b[0m\u001b[0m\n\u001b[0;32m    261\u001b[0m         \u001b[1;32mwith\u001b[0m \u001b[0mparallel_backend\u001b[0m\u001b[1;33m(\u001b[0m\u001b[0mself\u001b[0m\u001b[1;33m.\u001b[0m\u001b[0m_backend\u001b[0m\u001b[1;33m,\u001b[0m \u001b[0mn_jobs\u001b[0m\u001b[1;33m=\u001b[0m\u001b[0mself\u001b[0m\u001b[1;33m.\u001b[0m\u001b[0m_n_jobs\u001b[0m\u001b[1;33m)\u001b[0m\u001b[1;33m:\u001b[0m\u001b[1;33m\u001b[0m\u001b[1;33m\u001b[0m\u001b[0m\n\u001b[1;32m--> 262\u001b[1;33m             return [func(*args, **kwargs)\n\u001b[0m\u001b[0;32m    263\u001b[0m                     for func, args, kwargs in self.items]\n\u001b[0;32m    264\u001b[0m \u001b[1;33m\u001b[0m\u001b[0m\n",
      "\u001b[1;32mC:\\ProgramData\\Anaconda3\\lib\\site-packages\\sklearn\\ensemble\\_forest.py\u001b[0m in \u001b[0;36m_parallel_build_trees\u001b[1;34m(tree, forest, X, y, sample_weight, tree_idx, n_trees, verbose, class_weight, n_samples_bootstrap)\u001b[0m\n\u001b[0;32m    166\u001b[0m                                                         indices=indices)\n\u001b[0;32m    167\u001b[0m \u001b[1;33m\u001b[0m\u001b[0m\n\u001b[1;32m--> 168\u001b[1;33m         \u001b[0mtree\u001b[0m\u001b[1;33m.\u001b[0m\u001b[0mfit\u001b[0m\u001b[1;33m(\u001b[0m\u001b[0mX\u001b[0m\u001b[1;33m,\u001b[0m \u001b[0my\u001b[0m\u001b[1;33m,\u001b[0m \u001b[0msample_weight\u001b[0m\u001b[1;33m=\u001b[0m\u001b[0mcurr_sample_weight\u001b[0m\u001b[1;33m,\u001b[0m \u001b[0mcheck_input\u001b[0m\u001b[1;33m=\u001b[0m\u001b[1;32mFalse\u001b[0m\u001b[1;33m)\u001b[0m\u001b[1;33m\u001b[0m\u001b[1;33m\u001b[0m\u001b[0m\n\u001b[0m\u001b[0;32m    169\u001b[0m     \u001b[1;32melse\u001b[0m\u001b[1;33m:\u001b[0m\u001b[1;33m\u001b[0m\u001b[1;33m\u001b[0m\u001b[0m\n\u001b[0;32m    170\u001b[0m         \u001b[0mtree\u001b[0m\u001b[1;33m.\u001b[0m\u001b[0mfit\u001b[0m\u001b[1;33m(\u001b[0m\u001b[0mX\u001b[0m\u001b[1;33m,\u001b[0m \u001b[0my\u001b[0m\u001b[1;33m,\u001b[0m \u001b[0msample_weight\u001b[0m\u001b[1;33m=\u001b[0m\u001b[0msample_weight\u001b[0m\u001b[1;33m,\u001b[0m \u001b[0mcheck_input\u001b[0m\u001b[1;33m=\u001b[0m\u001b[1;32mFalse\u001b[0m\u001b[1;33m)\u001b[0m\u001b[1;33m\u001b[0m\u001b[1;33m\u001b[0m\u001b[0m\n",
      "\u001b[1;32mC:\\ProgramData\\Anaconda3\\lib\\site-packages\\sklearn\\tree\\_classes.py\u001b[0m in \u001b[0;36mfit\u001b[1;34m(self, X, y, sample_weight, check_input, X_idx_sorted)\u001b[0m\n\u001b[0;32m    888\u001b[0m         \"\"\"\n\u001b[0;32m    889\u001b[0m \u001b[1;33m\u001b[0m\u001b[0m\n\u001b[1;32m--> 890\u001b[1;33m         super().fit(\n\u001b[0m\u001b[0;32m    891\u001b[0m             \u001b[0mX\u001b[0m\u001b[1;33m,\u001b[0m \u001b[0my\u001b[0m\u001b[1;33m,\u001b[0m\u001b[1;33m\u001b[0m\u001b[1;33m\u001b[0m\u001b[0m\n\u001b[0;32m    892\u001b[0m             \u001b[0msample_weight\u001b[0m\u001b[1;33m=\u001b[0m\u001b[0msample_weight\u001b[0m\u001b[1;33m,\u001b[0m\u001b[1;33m\u001b[0m\u001b[1;33m\u001b[0m\u001b[0m\n",
      "\u001b[1;32mC:\\ProgramData\\Anaconda3\\lib\\site-packages\\sklearn\\tree\\_classes.py\u001b[0m in \u001b[0;36mfit\u001b[1;34m(self, X, y, sample_weight, check_input, X_idx_sorted)\u001b[0m\n\u001b[0;32m    373\u001b[0m                                            min_impurity_split)\n\u001b[0;32m    374\u001b[0m \u001b[1;33m\u001b[0m\u001b[0m\n\u001b[1;32m--> 375\u001b[1;33m         \u001b[0mbuilder\u001b[0m\u001b[1;33m.\u001b[0m\u001b[0mbuild\u001b[0m\u001b[1;33m(\u001b[0m\u001b[0mself\u001b[0m\u001b[1;33m.\u001b[0m\u001b[0mtree_\u001b[0m\u001b[1;33m,\u001b[0m \u001b[0mX\u001b[0m\u001b[1;33m,\u001b[0m \u001b[0my\u001b[0m\u001b[1;33m,\u001b[0m \u001b[0msample_weight\u001b[0m\u001b[1;33m,\u001b[0m \u001b[0mX_idx_sorted\u001b[0m\u001b[1;33m)\u001b[0m\u001b[1;33m\u001b[0m\u001b[1;33m\u001b[0m\u001b[0m\n\u001b[0m\u001b[0;32m    376\u001b[0m \u001b[1;33m\u001b[0m\u001b[0m\n\u001b[0;32m    377\u001b[0m         \u001b[1;32mif\u001b[0m \u001b[0mself\u001b[0m\u001b[1;33m.\u001b[0m\u001b[0mn_outputs_\u001b[0m \u001b[1;33m==\u001b[0m \u001b[1;36m1\u001b[0m \u001b[1;32mand\u001b[0m \u001b[0mis_classifier\u001b[0m\u001b[1;33m(\u001b[0m\u001b[0mself\u001b[0m\u001b[1;33m)\u001b[0m\u001b[1;33m:\u001b[0m\u001b[1;33m\u001b[0m\u001b[1;33m\u001b[0m\u001b[0m\n",
      "\u001b[1;31mKeyboardInterrupt\u001b[0m: "
     ]
    }
   ],
   "source": [
    "rac = 0\n",
    "for d in range(30):\n",
    "    for s in range(3):\n",
    "        modelrf = RandomForestClassifier(max_depth = d+10, min_samples_leaf = s+1)\n",
    "        modelrf.fit(Xs_train, ys_train)\n",
    "        pred = modelrf.predict(Xs_test)\n",
    "        r = roc_auc_score(ys_test, pred)\n",
    "        if r>rac:\n",
    "            rac = r\n",
    "            print('max_depth: ', d+10, 'min_samples_leaf: ', s+1, 'RAC: ', r)"
   ]
  },
  {
   "cell_type": "code",
   "execution_count": null,
   "metadata": {},
   "outputs": [],
   "source": [
    "modelrf = RandomForestClassifier(max_depth = d+10, min_samples_leaf = s+1)\n",
    "modelrf.fit(Xs_train, ys_train)"
   ]
  },
  {
   "cell_type": "code",
   "execution_count": 6,
   "metadata": {},
   "outputs": [
    {
     "ename": "NameError",
     "evalue": "name 'Xs_train' is not defined",
     "output_type": "error",
     "traceback": [
      "\u001b[1;31m---------------------------------------------------------------------------\u001b[0m",
      "\u001b[1;31mNameError\u001b[0m                                 Traceback (most recent call last)",
      "\u001b[1;32m<ipython-input-6-1fddf4a1a6b4>\u001b[0m in \u001b[0;36m<module>\u001b[1;34m\u001b[0m\n\u001b[0;32m      5\u001b[0m     \u001b[1;32mfor\u001b[0m \u001b[0ms\u001b[0m \u001b[1;32min\u001b[0m \u001b[0mrange\u001b[0m\u001b[1;33m(\u001b[0m\u001b[1;36m3\u001b[0m\u001b[1;33m)\u001b[0m\u001b[1;33m:\u001b[0m\u001b[1;33m\u001b[0m\u001b[1;33m\u001b[0m\u001b[0m\n\u001b[0;32m      6\u001b[0m         \u001b[0mmodelrf\u001b[0m \u001b[1;33m=\u001b[0m \u001b[0mExtraTreesClassifier\u001b[0m\u001b[1;33m(\u001b[0m\u001b[0mmax_depth\u001b[0m \u001b[1;33m=\u001b[0m \u001b[0md\u001b[0m\u001b[1;33m+\u001b[0m\u001b[1;36m10\u001b[0m\u001b[1;33m,\u001b[0m \u001b[0mmin_samples_leaf\u001b[0m \u001b[1;33m=\u001b[0m \u001b[0ms\u001b[0m\u001b[1;33m+\u001b[0m\u001b[1;36m1\u001b[0m\u001b[1;33m)\u001b[0m\u001b[1;33m\u001b[0m\u001b[1;33m\u001b[0m\u001b[0m\n\u001b[1;32m----> 7\u001b[1;33m         \u001b[0mmodelrf\u001b[0m\u001b[1;33m.\u001b[0m\u001b[0mfit\u001b[0m\u001b[1;33m(\u001b[0m\u001b[0mXs_train\u001b[0m\u001b[1;33m,\u001b[0m \u001b[0mys_train\u001b[0m\u001b[1;33m)\u001b[0m\u001b[1;33m\u001b[0m\u001b[1;33m\u001b[0m\u001b[0m\n\u001b[0m\u001b[0;32m      8\u001b[0m         \u001b[0mpred\u001b[0m \u001b[1;33m=\u001b[0m \u001b[0mmodelrf\u001b[0m\u001b[1;33m.\u001b[0m\u001b[0mpredict\u001b[0m\u001b[1;33m(\u001b[0m\u001b[0mX_test\u001b[0m\u001b[1;33m)\u001b[0m\u001b[1;33m\u001b[0m\u001b[1;33m\u001b[0m\u001b[0m\n\u001b[0;32m      9\u001b[0m         \u001b[0mr\u001b[0m \u001b[1;33m=\u001b[0m \u001b[0mroc_auc_score\u001b[0m\u001b[1;33m(\u001b[0m\u001b[0my_test\u001b[0m\u001b[1;33m,\u001b[0m \u001b[0mpred\u001b[0m\u001b[1;33m)\u001b[0m\u001b[1;33m\u001b[0m\u001b[1;33m\u001b[0m\u001b[0m\n",
      "\u001b[1;31mNameError\u001b[0m: name 'Xs_train' is not defined"
     ]
    }
   ],
   "source": [
    "# попробуем более продвинутую версию деревянного алгоритма\n",
    "from sklearn.ensemble import ExtraTreesClassifier\n",
    "rac = 0\n",
    "for d in range(30):\n",
    "    for s in range(3):\n",
    "        modelrf = ExtraTreesClassifier(max_depth = d+10, min_samples_leaf = s+1)\n",
    "        modelrf.fit(Xs_train, ys_train)\n",
    "        pred = modelrf.predict(X_test)\n",
    "        r = roc_auc_score(y_test, pred)\n",
    "        if r>rac:\n",
    "            rac = r\n",
    "            print('max_depth: ', d+10, 'min_samples_leaf: ', s+1, 'RAC: ', r)"
   ]
  },
  {
   "cell_type": "code",
   "execution_count": 79,
   "metadata": {
    "scrolled": true
   },
   "outputs": [
    {
     "name": "stdout",
     "output_type": "stream",
     "text": [
      "[[11646  4009]\n",
      " [   81   658]]\n",
      "\n",
      "{'0': {'precision': 0.9930928626247122, 'recall': 0.7439156818907697, 'f1-score': 0.8506318019136659, 'support': 15655}, '1': {'precision': 0.14098992929076495, 'recall': 0.8903924221921515, 'f1-score': 0.24343322234554196, 'support': 739}, 'accuracy': 0.7505184823715993, 'macro avg': {'precision': 0.5670413959577386, 'recall': 0.8171540520414606, 'f1-score': 0.5470325121296039, 'support': 16394}, 'weighted avg': {'precision': 0.954682220454785, 'recall': 0.7505184823715993, 'f1-score': 0.8232608277584358, 'support': 16394}}\n",
      "\n",
      "0.8171540520414606\n"
     ]
    }
   ],
   "source": [
    "modelet = ExtraTreesClassifier(max_depth = 37, min_samples_leaf = 2)\n",
    "modelet.fit(Xs_train, ys_train)\n",
    "pred = modelet.predict(X_test)\n",
    "mtr(modelet)"
   ]
  },
  {
   "cell_type": "code",
   "execution_count": 101,
   "metadata": {},
   "outputs": [
    {
     "data": {
      "text/plain": [
       "16394"
      ]
     },
     "execution_count": 101,
     "metadata": {},
     "output_type": "execute_result"
    }
   ],
   "source": [
    "len(X_test)"
   ]
  },
  {
   "cell_type": "code",
   "execution_count": 100,
   "metadata": {},
   "outputs": [
    {
     "data": {
      "text/plain": [
       "<AxesSubplot:>"
      ]
     },
     "execution_count": 100,
     "metadata": {},
     "output_type": "execute_result"
    },
    {
     "data": {
      "image/png": "[encoded data removed]",
      "text/plain": [
       "<Figure size 720x720 with 2 Axes>"
      ]
     },
     "metadata": {
      "needs_background": "light"
     },
     "output_type": "display_data"
    }
   ],
   "source": [
    "import seaborn as sns\n",
    "plt.figure(figsize=(10, 10))\n",
    "cm = confusion_matrix(y_test, pred, normalize='true')\n",
    "sns.heatmap(cm, annot=True)"
   ]
  },
  {
   "cell_type": "code",
   "execution_count": 74,
   "metadata": {},
   "outputs": [
    {
     "data": {
      "text/plain": [
       "Text(0.5, 0, 'Relative Importance')"
      ]
     },
     "execution_count": 74,
     "metadata": {},
     "output_type": "execute_result"
    },
    {
     "data": {
      "image/png": "[encoded data removed]",
      "text/plain": [
       "<Figure size 1152x1440 with 1 Axes>"
      ]
     },
     "metadata": {
      "needs_background": "light"
     },
     "output_type": "display_data"
    }
   ],
   "source": [
    "features=Xs.columns\n",
    "importances = modelet.feature_importances_\n",
    "indices = np.argsort(importances)\n",
    "\n",
    "plt.figure(figsize=(16, 20))\n",
    "plt.figure(1)\n",
    "plt.title('Feature Importances')\n",
    "plt.barh(range(len(indices)), importances[indices], color='b', align='center')\n",
    "plt.yticks(range(len(indices)), features[indices])\n",
    "plt.xlabel('Relative Importance')"
   ]
  },
  {
   "cell_type": "code",
   "execution_count": null,
   "metadata": {},
   "outputs": [
    {
     "name": "stdout",
     "output_type": "stream",
     "text": [
      "depth:  1 iterations:  10 RAC:  0.6006805006133202\n",
      "depth:  2 iterations:  10 RAC:  0.6097198520833397\n",
      "depth:  3 iterations:  10 RAC:  0.6124655475945548\n",
      "depth:  3 iterations:  11 RAC:  0.612881675669029\n",
      "depth:  4 iterations:  11 RAC:  0.6152742246521768\n",
      "depth:  2 iterations:  14 RAC:  0.617084194331061\n",
      "depth:  3 iterations:  18 RAC:  0.6189563957760377\n",
      "depth:  3 iterations:  20 RAC:  0.6192788013112158\n",
      "depth:  3 iterations:  21 RAC:  0.6204334629953423\n",
      "depth:  2 iterations:  29 RAC:  0.620693636764428\n"
     ]
    }
   ],
   "source": [
    "# попробуем CatBoost\n",
    "rac = 0\n",
    "for i in range(40):\n",
    "    for d in range(12):\n",
    "        modelcb = CatBoostClassifier(\n",
    "        loss_function='Logloss',\n",
    "        depth=d+1,\n",
    "        iterations=i+10,\n",
    "        eval_metric='AUC',\n",
    "        random_seed=42,\n",
    "        logging_level='Silent',\n",
    "        allow_writing_files=False\n",
    "    )\n",
    "        modelcb.fit(Xs_train, ys_train)\n",
    "        pred = modelcb.predict(Xs_test)\n",
    "        r = roc_auc_score(ys_test, pred)\n",
    "        if r>rac:\n",
    "            rac = r\n",
    "            print('depth: ', d+1, 'iterations: ', i+10, 'RAC: ', r)"
   ]
  }
 ],
 "metadata": {
  "kernelspec": {
   "display_name": "Python 3",
   "language": "python",
   "name": "python3"
  },
  "language_info": {
   "codemirror_mode": {
    "name": "ipython",
    "version": 3
   },
   "file_extension": ".py",
   "mimetype": "text/x-python",
   "name": "python",
   "nbconvert_exporter": "python",
   "pygments_lexer": "ipython3",
   "version": "3.8.5"
  }
 },
 "nbformat": 4,
 "nbformat_minor": 4
}
