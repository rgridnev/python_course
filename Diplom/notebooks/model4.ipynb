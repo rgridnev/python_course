{
 "cells": [
  {
   "cell_type": "code",
   "execution_count": 488,
   "metadata": {
    "scrolled": false
   },
   "outputs": [
    {
     "name": "stderr",
     "output_type": "stream",
     "text": [
      "C:\\ProgramData\\Anaconda3\\lib\\site-packages\\IPython\\core\\interactiveshell.py:3146: DtypeWarning: Columns (7,12) have mixed types.Specify dtype option on import or set low_memory=False.\n",
      "  has_raised = await self.run_ast_nodes(code_ast.body, cell_name,\n"
     ]
    },
    {
     "name": "stdout",
     "output_type": "stream",
     "text": [
      "Counter({0: 7419, 1: 5654}) Counter({0: 18749, 1: 733})\n"
     ]
    }
   ],
   "source": [
    "import pandas as pd\n",
    "import numpy as np\n",
    "from collections import Counter\n",
    "import random as r\n",
    "from sklearn.model_selection import train_test_split\n",
    "dt = pd.read_csv('../data/model4.csv').dropna()\n",
    "# dt['car'] = dt['TS_MARK_NAME'] + ' ' + dt['TS_MODEL_NAME']\n",
    "\n",
    "# откуда то при пересохранении в csv образуется лишний столбец\n",
    "dt.drop(dt.columns[[0]], axis = 1, inplace = True)\n",
    "\n",
    "dt.OWN_REG = dt.OWN_REG.apply(lambda x: str(x))\n",
    "dt = dt[(dt['TS_POWER'] < 1000) & (dt['TS_POWER'] > 30) & (dt['INS_YEAR'] > 18)]\n",
    "dt = dt[['AGR_SRC', 'AGR_CREATEDBY',#, 'car' \n",
    "       'OWN_REG', 'AGR_KBM', 'TS_MARK_NAME', 'TS_MODEL_NAME',\n",
    "       'TS_POWER', 'TS_USE_NAME', 'f1_daysbeforestart',\n",
    "       'f6_car_age_on_start', 'f13_is_prolongation', 'f14_drivers_count',\n",
    "       'f15_kbm_min', 'f16_drv_age_min', 'f17_drv_age_max',\n",
    "       'f18_drv_skill_min', 'f19_drv_skill_max', 'f20_oneperson',\n",
    "       'f21_agr_days', 'claim']]\n",
    "\n",
    "# балансируем классы и разбиваем на выборки\n",
    "dt['cat'] = dt['claim'].apply(lambda x: r.choice(list(range(1, 6))) if x==1 else r.choice(list(range(10, 30))))\n",
    "trn = dt[dt['cat'].isin([10, 2, 3, 4, 5, 22, 23, 24, 25, 26, 27, 28, 29])]\n",
    "tst = dt[dt['cat'].isin([1,11, 12, 13, 14, 15])].drop('cat', axis = 1)\n",
    "\n",
    "dt2 = trn[(trn['AGR_KBM'] < 0.95) & (trn['AGR_KBM'] > 1)]\n",
    "dt3 = trn[trn['claim'] == 1]\n",
    "# print(dt3.shape, Counter(dt3.claim))\n",
    "dt = dt.append(dt2).append(dt3)\n",
    "\n",
    "\n",
    "# пополняем выборку значениями upsample\n",
    "trn = dt[dt['cat'].isin([10, 2, 3, 4, 5, 22,])].drop('cat', axis = 1)\n",
    "\n",
    "# for c in dt.columns:\n",
    "#     col_type = dt[c].dtype\n",
    "#     if col_type == 'object' or col_type.name == 'category':\n",
    "#         X[c] = dt[c].astype('category')\n",
    "\n",
    "\n",
    "\n",
    "\n",
    "X = dt.drop(['claim'], axis = 1)\n",
    "Y = dt.claim\n",
    "\n",
    "\n",
    "X_train = trn.drop(['claim'], axis = 1)\n",
    "X_test = tst.drop(['claim'], axis = 1)\n",
    "y_train = trn.claim\n",
    "y_test = tst.claim\n",
    "\n",
    "print(Counter(y_train), Counter(y_test))"
   ]
  },
  {
   "cell_type": "code",
   "execution_count": 439,
   "metadata": {},
   "outputs": [
    {
     "name": "stdout",
     "output_type": "stream",
     "text": [
      "<class 'pandas.core.frame.DataFrame'>\n",
      "Int64Index: 41609 entries, 0 to 81970\n",
      "Data columns (total 30 columns):\n",
      " #   Column               Non-Null Count  Dtype  \n",
      "---  ------               --------------  -----  \n",
      " 0   AGR_SRC              41609 non-null  object \n",
      " 1   AGR_CREATEDBY        41609 non-null  object \n",
      " 2   INS_NAME             41609 non-null  object \n",
      " 3   INS_SEX              41609 non-null  object \n",
      " 4   INS_YEAR             41609 non-null  float64\n",
      " 5   INS_REG              41609 non-null  float64\n",
      " 6   INS_DOCSER           41609 non-null  object \n",
      " 7   OWN_NAME             41609 non-null  object \n",
      " 8   OWN_SEX              41609 non-null  object \n",
      " 9   OWN_YEAR             41609 non-null  float64\n",
      " 10  OWN_REG              41609 non-null  float64\n",
      " 11  OWN_DOCSER           41609 non-null  object \n",
      " 12  AGR_KBM              41609 non-null  float64\n",
      " 13  TS_CATEGORY          41609 non-null  object \n",
      " 14  TS_MARK_NAME         41609 non-null  object \n",
      " 15  TS_MODEL_NAME        41609 non-null  object \n",
      " 16  TS_POWER             41609 non-null  float64\n",
      " 17  TS_USE_NAME          41609 non-null  object \n",
      " 18  TS_DOC               41609 non-null  object \n",
      " 19  f1_daysbeforestart   41609 non-null  int64  \n",
      " 20  f6_car_age_on_start  41609 non-null  float64\n",
      " 21  f13_is_prolongation  41609 non-null  int64  \n",
      " 22  f14_drivers_count    41609 non-null  int64  \n",
      " 23  f15_kbm_min          41609 non-null  float64\n",
      " 24  f16_drv_age_min      41609 non-null  float64\n",
      " 25  f17_drv_age_max      41609 non-null  float64\n",
      " 26  f18_drv_skill_min    41609 non-null  float64\n",
      " 27  f19_drv_skill_max    41609 non-null  float64\n",
      " 28  f20_oneperson        41609 non-null  int64  \n",
      " 29  f21_agr_days         41609 non-null  int64  \n",
      "dtypes: float64(12), int64(5), object(13)\n",
      "memory usage: 9.8+ MB\n"
     ]
    }
   ],
   "source": [
    "X_test.info()"
   ]
  },
  {
   "cell_type": "code",
   "execution_count": 479,
   "metadata": {},
   "outputs": [
    {
     "name": "stdout",
     "output_type": "stream",
     "text": [
      "Оптимальный лимит:  0.85097421875\n",
      "\n",
      "Всего сборов:  198725060\n",
      "Всего доход:  145049453.20000002\n",
      "\n",
      "[[28261 12592]\n",
      " [  349   359]]\n",
      "\n",
      "              precision    recall  f1-score   support\n",
      "\n",
      "           0       0.99      0.69      0.81     40853\n",
      "           1       0.03      0.51      0.05       708\n",
      "\n",
      "    accuracy                           0.69     41561\n",
      "   macro avg       0.51      0.60      0.43     41561\n",
      "weighted avg       0.97      0.69      0.80     41561\n",
      "\n",
      "\n",
      "ROC-AUC score:  0.5994175444521289\n"
     ]
    }
   ],
   "source": [
    "from scipy.optimize import minimize\n",
    "from sklearn.metrics import roc_curve, auc, roc_auc_score, confusion_matrix, classification_report,f1_score\n",
    "\n",
    "def mtr(m, x = X_test, y = y_test, limit = 0, metrics = 'AUC'):\n",
    "#     print(len(x), len(y))\n",
    "    pr = m.predict(x)\n",
    "    meanclaim = 51304\n",
    "    meanpremium = 6946\n",
    "    meankv = 0.18\n",
    "#     print(pr)\n",
    "    if limit == 0:\n",
    "        pred = pr\n",
    "    elif limit == 1:\n",
    "        def min(limit, m=m):\n",
    "            s = m.predict_proba(x)\n",
    "            r = []\n",
    "            for i in s:\n",
    "                if i[0] > limit:\n",
    "                    r.append(0)\n",
    "                else:\n",
    "                    r.append(1)\n",
    "            if metrics == 'AUC':\n",
    "                res = roc_auc_score(y, r)\n",
    "            elif metrics == 'money':\n",
    "                cm = confusion_matrix(y, r)\n",
    "                res = (cm[0][0] + cm[1][0])*meanpremium*(1-meankv) - cm[1][0]*meanclaim\n",
    "                \n",
    "            return -res\n",
    "        l = minimize(min, 0.5, method='COBYLA')['x']\n",
    "        print ('Оптимальный лимит: ', l)\n",
    "        print('')\n",
    "        s = m.predict_proba(x)\n",
    "        pred = []\n",
    "        for i in s:\n",
    "            if i[0] > l:\n",
    "                pred.append(0)\n",
    "            else:\n",
    "                pred.append(1)\n",
    "        \n",
    "    else:\n",
    "        s = m.predict_proba(x)\n",
    "        pred = []\n",
    "        for i in s:\n",
    "            if i[0] > limit:\n",
    "                pred.append(0)\n",
    "            else:\n",
    "                pred.append(1)\n",
    "    cmf = confusion_matrix(y, pred)\n",
    "    print('Всего сборов: ',  (cmf[0][0] + cmf[1][0])*meanpremium)\n",
    "    print('Всего доход: ',  (cmf[0][0] + cmf[1][0])*meanpremium*(1-meankv) - cmf[1][0]*meanclaim)\n",
    "    \n",
    "    print('')\n",
    "    print(cmf)\n",
    "    print('')\n",
    "    print(classification_report(y, pred))\n",
    "    print('')\n",
    "    print('ROC-AUC score: ', roc_auc_score(y, pred))\n",
    "    \n",
    "mtr(modelcb, x = X_test, y = y_test, limit = 1, metrics = 'AUC')\n",
    "    "
   ]
  },
  {
   "cell_type": "code",
   "execution_count": 489,
   "metadata": {},
   "outputs": [],
   "source": [
    "from catboost import CatBoostClassifier, Pool\n",
    "\n",
    "categorical_features = ['AGR_CREATEDBY', 'OWN_REG', 'AGR_SRC', #'car',\n",
    "                         'TS_MODEL_NAME', 'TS_MARK_NAME',\n",
    "       'TS_USE_NAME']\n",
    "\n",
    "text_features = []#['INS_NAME']\n",
    "\n",
    "cat_features_index = list(X_train.columns.get_loc(feature) for feature in categorical_features)\n",
    "text_features_index = list(X_train.columns.get_loc(feature) for feature in text_features)"
   ]
  },
  {
   "cell_type": "code",
   "execution_count": 490,
   "metadata": {},
   "outputs": [
    {
     "name": "stdout",
     "output_type": "stream",
     "text": [
      "Оптимальный лимит:  0.810102734375\n",
      "\n",
      "Всего сборов:  66285678\n",
      "Всего доход:  43016071.96\n",
      "\n",
      "[[9322 9427]\n",
      " [ 221  512]]\n",
      "\n",
      "              precision    recall  f1-score   support\n",
      "\n",
      "           0       0.98      0.50      0.66     18749\n",
      "           1       0.05      0.70      0.10       733\n",
      "\n",
      "    accuracy                           0.50     19482\n",
      "   macro avg       0.51      0.60      0.38     19482\n",
      "weighted avg       0.94      0.50      0.64     19482\n",
      "\n",
      "\n",
      "ROC-AUC score:  0.5978495842652308\n"
     ]
    }
   ],
   "source": [
    "modelcb = CatBoostClassifier(\n",
    "                learning_rate=0.01,\n",
    "#                 l2_leaf_reg=6,\n",
    "#                 grow_policy = 'Lossguide',\n",
    "                loss_function='Logloss',\n",
    "#                 depth=16,\n",
    "#                 iterations=30,\n",
    "                eval_metric='AUC', #AUC, F1\n",
    "                cat_features=cat_features_index,\n",
    "                text_features=text_features_index,\n",
    "        #         random_seed=42,\n",
    "                logging_level='Silent',\n",
    "#                 task_type=\"GPU\",\n",
    "#                 devices='1'\n",
    "            )\n",
    "\n",
    "modelcb.fit(X_train, y_train)\n",
    "\n",
    "mtr(modelcb, x = X_test, y = y_test, limit = 1, metrics = 'AUC')"
   ]
  },
  {
   "cell_type": "code",
   "execution_count": 475,
   "metadata": {},
   "outputs": [
    {
     "name": "stdout",
     "output_type": "stream",
     "text": [
      "Оптимальный лимит:  1.5\n",
      "\n",
      "Всего сборов:  0\n",
      "Всего доход:  0.0\n",
      "\n",
      "[[    0 40853]\n",
      " [    0   708]]\n",
      "\n",
      "              precision    recall  f1-score   support\n",
      "\n",
      "           0       0.00      0.00      0.00     40853\n",
      "           1       0.02      1.00      0.03       708\n",
      "\n",
      "    accuracy                           0.02     41561\n",
      "   macro avg       0.01      0.50      0.02     41561\n",
      "weighted avg       0.00      0.02      0.00     41561\n",
      "\n",
      "\n",
      "ROC-AUC score:  0.5\n"
     ]
    },
    {
     "name": "stderr",
     "output_type": "stream",
     "text": [
      "C:\\ProgramData\\Anaconda3\\lib\\site-packages\\sklearn\\metrics\\_classification.py:1221: UndefinedMetricWarning: Precision and F-score are ill-defined and being set to 0.0 in labels with no predicted samples. Use `zero_division` parameter to control this behavior.\n",
      "  _warn_prf(average, modifier, msg_start, len(result))\n"
     ]
    }
   ],
   "source": [
    "mtr(modelcb, x = X_test, y = y_test, limit = 1, metrics = 'F1')"
   ]
  },
  {
   "cell_type": "code",
   "execution_count": 450,
   "metadata": {},
   "outputs": [
    {
     "name": "stdout",
     "output_type": "stream",
     "text": [
      "Оптимальный лимит:  0.386274609375\n",
      "\n",
      "Всего сборов:  461137994\n",
      "Всего доход:  339296027.08000004\n",
      "\n",
      "[[65632  9000]\n",
      " [  757  5688]]\n",
      "\n",
      "              precision    recall  f1-score   support\n",
      "\n",
      "           0       0.99      0.88      0.93     74632\n",
      "           1       0.39      0.88      0.54      6445\n",
      "\n",
      "    accuracy                           0.88     81077\n",
      "   macro avg       0.69      0.88      0.73     81077\n",
      "weighted avg       0.94      0.88      0.90     81077\n",
      "\n",
      "\n",
      "ROC-AUC score:  0.8809764524663078\n"
     ]
    }
   ],
   "source": [
    "mtr(modelcb, x = X, y = Y, limit = 1, metrics = 'money')"
   ]
  },
  {
   "cell_type": "code",
   "execution_count": 239,
   "metadata": {},
   "outputs": [],
   "source": [
    "# modelcb.save_model('../models/cb_model4_v2_06214.cbm', format=\"cbm\")"
   ]
  },
  {
   "cell_type": "code",
   "execution_count": 421,
   "metadata": {},
   "outputs": [
    {
     "data": {
      "text/plain": [
       "Text(0.5, 0, 'Relative Importance')"
      ]
     },
     "execution_count": 421,
     "metadata": {},
     "output_type": "execute_result"
    },
    {
     "data": {
      "image/png": "[encoded data removed]",
      "text/plain": [
       "<Figure size 1152x1440 with 1 Axes>"
      ]
     },
     "metadata": {
      "needs_background": "light"
     },
     "output_type": "display_data"
    }
   ],
   "source": [
    "import matplotlib.pyplot as plt\n",
    "\n",
    "features=X_train.columns\n",
    "importances = modelcb.feature_importances_\n",
    "indices = np.argsort(importances)\n",
    "\n",
    "plt.figure(figsize=(16, 20))\n",
    "plt.figure(1)\n",
    "plt.title('Feature Importances')\n",
    "plt.barh(range(len(indices)), importances[indices], color='b', align='center')\n",
    "plt.yticks(range(len(indices)), features[indices])\n",
    "plt.xlabel('Relative Importance')"
   ]
  },
  {
   "cell_type": "code",
   "execution_count": 422,
   "metadata": {},
   "outputs": [
    {
     "name": "stdout",
     "output_type": "stream",
     "text": [
      "[[28947 12069]\n",
      " [  119  1285]]\n"
     ]
    }
   ],
   "source": [
    "pr = modelcb.predict(X_test)\n",
    "res = X_test\n",
    "res['pred'] = pr\n",
    "res['truth'] = y_test\n",
    "a = confusion_matrix(y_test, pr)\n",
    "print(a)\n",
    "# res[(res['pred'] == res['truth']) & res['pred'] == 1]\n",
    "# a[0][0] + a[1][0] - a[1][0]\n"
   ]
  },
  {
   "cell_type": "code",
   "execution_count": 429,
   "metadata": {},
   "outputs": [
    {
     "data": {
      "text/plain": [
       "<AxesSubplot:xlabel='AGR_KBM'>"
      ]
     },
     "execution_count": 429,
     "metadata": {},
     "output_type": "execute_result"
    },
    {
     "data": {
      "image/png": "[encoded data removed]",
      "text/plain": [
       "<Figure size 432x288 with 1 Axes>"
      ]
     },
     "metadata": {
      "needs_background": "light"
     },
     "output_type": "display_data"
    }
   ],
   "source": [
    "kbmmean = res.groupby(['AGR_KBM']).mean()[['pred', 'truth']]\n",
    "kbmmean.plot()"
   ]
  },
  {
   "cell_type": "code",
   "execution_count": 424,
   "metadata": {},
   "outputs": [
    {
     "name": "stderr",
     "output_type": "stream",
     "text": [
      "<ipython-input-424-5428cfd64a61>:2: SettingWithCopyWarning: \n",
      "A value is trying to be set on a copy of a slice from a DataFrame.\n",
      "Try using .loc[row_indexer,col_indexer] = value instead\n",
      "\n",
      "See the caveats in the documentation: https://pandas.pydata.org/pandas-docs/stable/user_guide/indexing.html#returning-a-view-versus-a-copy\n",
      "  powermean['TS_POWER_G'] = powermean['TS_POWER'].apply(lambda x: round(x * 2, -2) // 2)\n"
     ]
    },
    {
     "data": {
      "text/plain": [
       "<AxesSubplot:xlabel='TS_POWER_G'>"
      ]
     },
     "execution_count": 424,
     "metadata": {},
     "output_type": "execute_result"
    },
    {
     "data": {
      "image/png": "[encoded data removed]",
      "text/plain": [
       "<Figure size 720x432 with 1 Axes>"
      ]
     },
     "metadata": {
      "needs_background": "light"
     },
     "output_type": "display_data"
    }
   ],
   "source": [
    "powermean = res[['TS_POWER', 'pred', 'truth']]\n",
    "powermean['TS_POWER_G'] = powermean['TS_POWER'].apply(lambda x: round(x * 2, -2) // 2)\n",
    "powermean = powermean.groupby(['TS_POWER_G']).mean()[['pred', 'truth']].sort_values(by='TS_POWER_G', ascending=True)\n",
    "powermean.plot(kind = 'bar', figsize=(10, 6))\n",
    "\n",
    "# powermean.head()\n",
    "# powermean.plot(kind = 'bar', figsize=(10, 6))"
   ]
  },
  {
   "cell_type": "code",
   "execution_count": 425,
   "metadata": {},
   "outputs": [
    {
     "data": {
      "text/plain": [
       "<AxesSubplot:xlabel='TS_MARK_NAME'>"
      ]
     },
     "execution_count": 425,
     "metadata": {},
     "output_type": "execute_result"
    },
    {
     "data": {
      "image/png": "[encoded data removed]",
      "text/plain": [
       "<Figure size 720x432 with 1 Axes>"
      ]
     },
     "metadata": {
      "needs_background": "light"
     },
     "output_type": "display_data"
    }
   ],
   "source": [
    "#аварийность по маркам\n",
    "\n",
    "markmean = res.groupby(['TS_MARK_NAME']).mean()[['pred', 'truth']].sort_values(by='truth', ascending=False)\n",
    "markmean.head(20).plot(kind = 'bar', figsize=(10, 6))"
   ]
  },
  {
   "cell_type": "code",
   "execution_count": 426,
   "metadata": {},
   "outputs": [
    {
     "data": {
      "text/plain": [
       "<AxesSubplot:xlabel='OWN_REG'>"
      ]
     },
     "execution_count": 426,
     "metadata": {},
     "output_type": "execute_result"
    },
    {
     "data": {
      "image/png": "[encoded data removed]",
      "text/plain": [
       "<Figure size 720x432 with 1 Axes>"
      ]
     },
     "metadata": {
      "needs_background": "light"
     },
     "output_type": "display_data"
    }
   ],
   "source": [
    "#аварийность по регионам\n",
    "\n",
    "regmean = res.groupby(['OWN_REG']).mean()[['pred', 'truth']].sort_values(by='truth', ascending=False)\n",
    "regmean.head(20).plot(kind = 'bar', figsize=(10, 6))"
   ]
  },
  {
   "cell_type": "code",
   "execution_count": 427,
   "metadata": {},
   "outputs": [
    {
     "data": {
      "image/png": "[encoded data removed]",
      "text/plain": [
       "<Figure size 720x432 with 1 Axes>"
      ]
     },
     "metadata": {
      "needs_background": "light"
     },
     "output_type": "display_data"
    }
   ],
   "source": [
    "# распределение вероятности внутри результата\n",
    "\n",
    "pr = modelcb.predict_proba(X_test)\n",
    "proba = [a[0] for a in pr]\n",
    "proba\n",
    "\n",
    "plt.figure(figsize=(10, 6))\n",
    "plt.hist(proba, bins=20)\n",
    "plt.show()"
   ]
  }
 ],
 "metadata": {
  "kernelspec": {
   "display_name": "Python 3",
   "language": "python",
   "name": "python3"
  },
  "language_info": {
   "codemirror_mode": {
    "name": "ipython",
    "version": 3
   },
   "file_extension": ".py",
   "mimetype": "text/x-python",
   "name": "python",
   "nbconvert_exporter": "python",
   "pygments_lexer": "ipython3",
   "version": "3.8.5"
  }
 },
 "nbformat": 4,
 "nbformat_minor": 4
}
